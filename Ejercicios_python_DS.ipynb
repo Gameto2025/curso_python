{
  "nbformat": 4,
  "nbformat_minor": 0,
  "metadata": {
    "colab": {
      "provenance": [],
      "authorship_tag": "ABX9TyP6wKQNzxGWHbUvix9PwPZl",
      "include_colab_link": true
    },
    "kernelspec": {
      "name": "python3",
      "display_name": "Python 3"
    },
    "language_info": {
      "name": "python"
    }
  },
  "cells": [
    {
      "cell_type": "markdown",
      "metadata": {
        "id": "view-in-github",
        "colab_type": "text"
      },
      "source": [
        "<a href=\"https://colab.research.google.com/github/Gameto2025/curso_python/blob/main/Ejercicios_python_DS.ipynb\" target=\"_parent\"><img src=\"https://colab.research.google.com/assets/colab-badge.svg\" alt=\"Open In Colab\"/></a>"
      ]
    },
    {
      "cell_type": "code",
      "execution_count": 5,
      "metadata": {
        "colab": {
          "base_uri": "https://localhost:8080/"
        },
        "id": "JIzHG33mH0oM",
        "outputId": "f6af6f0d-492b-4b4a-93ff-054e374e0232"
      },
      "outputs": [
        {
          "output_type": "stream",
          "name": "stdout",
          "text": [
            "43\n"
          ]
        }
      ],
      "source": [
        " # 3. Crea un programa que lea la siguiente lista de números y elija uno al azar.\n",
        "\n",
        " lista = [8, 12, 54, 23, 43, 1, 90, 87, 105, 77]\n",
        "\n",
        " import random\n",
        " numero_aleatorio= random.choice(lista)\n",
        " print(numero_aleatorio)\n",
        "\n"
      ]
    },
    {
      "cell_type": "code",
      "source": [
        "#4 - Crea un programa que genere aleatoriamente un número entero menor que 100.\n",
        "\n",
        "import random\n",
        "numero_aleatorio= random.randint(0,100)\n",
        "print(numero_aleatorio)"
      ],
      "metadata": {
        "colab": {
          "base_uri": "https://localhost:8080/"
        },
        "id": "y_9hP6KaH1zG",
        "outputId": "cdd8cac0-154b-47e1-cea6-2127f5e9d688"
      },
      "execution_count": 7,
      "outputs": [
        {
          "output_type": "stream",
          "name": "stdout",
          "text": [
            "18\n"
          ]
        }
      ]
    },
    {
      "cell_type": "code",
      "source": [
        "#5 - Crea un programa que solicite a la persona usuaria ingresar dos números enteros y calcule la potencia del primer número elevado al segundo.\n",
        "# math.pow es para elevar a potencia\n",
        "import math\n",
        "\n",
        "num_1 = input(\"Ingrese el primer número: \")\n",
        "num_2 = input(\"Ingrese el segundo número: \")\n",
        "resultado = math.pow(int(num_1), int(num_2))\n",
        "print(f\"La potencia de {num_1} elevado a {num_2} es: {resultado}\")"
      ],
      "metadata": {
        "colab": {
          "base_uri": "https://localhost:8080/"
        },
        "id": "Cm3OuGO9H1vm",
        "outputId": "c88b9b87-23e9-47a5-fcb5-31d6f895fec3"
      },
      "execution_count": 8,
      "outputs": [
        {
          "output_type": "stream",
          "name": "stdout",
          "text": [
            "Ingrese el primer número: 4\n",
            "Ingrese el segundo número: 4\n",
            "La potencia de 4 elevado a 4 es: 256.0\n"
          ]
        }
      ]
    },
    {
      "cell_type": "code",
      "source": [
        "#6 - Se debe escribir un programa para sortear a un seguidor de una red social para ganar un premio.\n",
        "# La lista de participantes está numerada y debemos elegir aleatoriamente un número según la cantidad de participantes.\n",
        "# Pide a la persona usuaria que proporcione el número de participantes del sorteo y devuelve el número sorteado.\n",
        "\n",
        "import random\n",
        "\n",
        "cantidad_participantes = int(input(\"Ingrese la cantidad de participantes: \"))\n",
        "numero_sorteado = random.randint(1, cantidad_participantes)\n",
        "print(f\"El número sorteado es: {numero_sorteado}\")"
      ],
      "metadata": {
        "colab": {
          "base_uri": "https://localhost:8080/"
        },
        "id": "0YnRKheoH1sc",
        "outputId": "30a31381-f894-4cf8-9f48-25185a283070"
      },
      "execution_count": 9,
      "outputs": [
        {
          "output_type": "stream",
          "name": "stdout",
          "text": [
            "Ingrese la cantidad de participantes: 50\n",
            "El número sorteado es: 22\n"
          ]
        }
      ]
    },
    {
      "cell_type": "code",
      "source": [
        "#7 - Has recibido una solicitud para generar números de token para acceder a la aplicación de una empresa.\n",
        "# El token debe ser par y variar de 1000 a 9998. Escribe un código que solicite el nombre de la persona usuaria y muestre un mensaje junto\n",
        "# a este token generado aleatoriamente.\n",
        "\n",
        "import random\n",
        "\n",
        "nombre_usuario = input(\"Ingrese su nombre de usuario: \")\n",
        "token_generado = random.randrange(1000, 9999,2)\n",
        "print(f\"Hola, {nombre_usuario}, tu token de acceso es {token_generado} ¡Bienvenido/a!\")"
      ],
      "metadata": {
        "colab": {
          "base_uri": "https://localhost:8080/"
        },
        "id": "A8MBYXwhH1hG",
        "outputId": "ae52b857-91b3-4953-c59a-5192215909dc"
      },
      "execution_count": 15,
      "outputs": [
        {
          "output_type": "stream",
          "name": "stdout",
          "text": [
            "Ingrese su nombre de usuario: gabo\n",
            "Hola, gabo, tu token de acceso es 1178 ¡Bienvenido/a!\n"
          ]
        }
      ]
    },
    {
      "cell_type": "code",
      "source": [
        "#8 - Para diversificar y atraer nuevos clientes, una lanchonete creó un ítem misterioso en su menú llamado \"ensalada de frutas sorpresa\".\n",
        "#En este ítem, se eligen aleatoriamente 3 frutas de una lista de 12 para componer la ensalada de frutas del cliente.\n",
        "#Crea el código que realice esta selección aleatoria según la lista dada.\n",
        "\n",
        "frutas = [\"manzana\", \"banana\", \"uva\", \"pera\", \"mango\", \"coco\", \"sandia\", \"fresa\", \"naranja\", \"maracuya\", \"kiwi\", \"cereza\"]\n",
        "ensalada = random.sample(frutas, 3)\n",
        "print(\"Ensalada de frutas sorpresa:\",ensalada)\n"
      ],
      "metadata": {
        "colab": {
          "base_uri": "https://localhost:8080/"
        },
        "id": "MKrDNnhKIe4R",
        "outputId": "0e2b85fe-a610-4f05-9b0d-2f9030aa6d31"
      },
      "execution_count": 17,
      "outputs": [
        {
          "output_type": "stream",
          "name": "stdout",
          "text": [
            "Ensalada de frutas sorpresa: ['uva', 'pera', 'cereza']\n"
          ]
        }
      ]
    },
    {
      "cell_type": "code",
      "source": [
        "#9 - Has recibido un desafío para calcular la raíz cuadrada de una lista de números, identificando cuáles resultan en un número entero. La lista es la siguiente:\n",
        "import math\n",
        "numeros = [2, 8, 15, 23, 91, 112, 256]\n",
        "\n",
        "for numero in numeros:\n",
        "    raiz_cuadrada = math.sqrt(numero)\n",
        "    if raiz_cuadrada.is_integer():\n",
        "        print(f\"La raíz cuadrada de {numero} es un número entero.\")"
      ],
      "metadata": {
        "colab": {
          "base_uri": "https://localhost:8080/"
        },
        "id": "nMkudpgFItxf",
        "outputId": "eb13d990-56b3-4b96-af5d-94d9fede9960"
      },
      "execution_count": 23,
      "outputs": [
        {
          "output_type": "stream",
          "name": "stdout",
          "text": [
            "La raíz cuadrada de 256 es un número entero.\n"
          ]
        }
      ]
    },
    {
      "cell_type": "code",
      "source": [
        "import math\n",
        "numeros = [2, 8, 15, 23, 91, 112, 256]\n",
        "\n",
        "raices_enteras = [num for num in numeros if math.sqrt(num) % 1 == 0]\n",
        "print(\"Números con raíces enteras:\", raices_enteras)"
      ],
      "metadata": {
        "colab": {
          "base_uri": "https://localhost:8080/"
        },
        "id": "DsymLQuvwBLs",
        "outputId": "4dcd0239-f344-4d32-fa11-64fab284e08d"
      },
      "execution_count": 27,
      "outputs": [
        {
          "output_type": "stream",
          "name": "stdout",
          "text": [
            "Números con raíces enteras: [256]\n"
          ]
        }
      ]
    },
    {
      "cell_type": "code",
      "source": [
        "# 10 - Haz un programa para una tienda que vende césped para jardines.\n",
        " # Esta tienda trabaja con jardines circulares y el precio del metro cuadrado de césped es de R$ 25,00.\n",
        "# Pide a la persona usuaria el radio del área circular y devuelve el valor en reales de cuánto tendrá que pagar.\n",
        "\n",
        "import math\n",
        "\n",
        "precio_metro_cuadrado = 25.00\n",
        "radio = float(input(\"Ingrese el radio del área circular en metros: \"))\n",
        "area_total = math.pi * math.pow(radio, 2)\n",
        "precio_total = area_total * precio_metro_cuadrado\n",
        "\n",
        "print(f\"El precio total a pagar es: R$ {precio_total:.2f}\")"
      ],
      "metadata": {
        "colab": {
          "base_uri": "https://localhost:8080/"
        },
        "id": "3zYkZIPcItgu",
        "outputId": "4ae5c739-e39b-48e3-b7de-4b9f04774cfc"
      },
      "execution_count": 31,
      "outputs": [
        {
          "output_type": "stream",
          "name": "stdout",
          "text": [
            "Ingrese el radio del área circular en metros: 2\n",
            "El precio total a pagar es: R$ 314.16\n"
          ]
        }
      ]
    },
    {
      "cell_type": "code",
      "source": [
        "import math\n",
        "\n",
        "precio_metro_cuadrado = 25.00\n",
        "radio = float(input(\"Ingrese el radio del área circular en metros: \"))\n",
        "area = math.pi * math.pow(radio, 2)\n",
        "costo_total = precio_metro_cuadrado * area\n",
        "\n",
        "print(f\"El costo total es de R$ {round(costo_total,2)}\")"
      ],
      "metadata": {
        "colab": {
          "base_uri": "https://localhost:8080/"
        },
        "id": "yCS22-IwyR7Y",
        "outputId": "fbc7688d-4051-4ee5-b7c9-224baca150e2"
      },
      "execution_count": 29,
      "outputs": [
        {
          "output_type": "stream",
          "name": "stdout",
          "text": [
            "Ingrese el radio del área circular en metros: 2\n",
            "El costo total es de R$ 314.16\n"
          ]
        }
      ]
    },
    {
      "cell_type": "markdown",
      "source": [],
      "metadata": {
        "id": "GiXpGZlJ0H9h"
      }
    },
    {
      "cell_type": "code",
      "source": [
        "#Crea un programa que: Pida al usuario que ingrese un número positivo (entero o decimal). Calcule y muestre:\n",
        "#1. La raíz cuadrada (math.sqrt), 2. El logaritmo base 10 (math.log10), 3. El logaritmo natural (math.log), 4. El número redondeado hacia arriba (math.ceil)\n",
        "# 5. El número redondeado hacia abajo (math.floor) 6. El valor absoluto (math.fabs) 7. El seno, coseno y tangente del número (en radianes) (math.sin, math.cos, math.tan)\n",
        "# Puedes usar try/except para manejar errores si el usuario ingresa un valor no válido (como un número negativo para la raíz o el logaritmo).\n",
        "\n",
        "import math\n",
        "\n",
        "numero = float(input(\"Ingrese un número positivo: \"))\n",
        "\n",
        "if numero < 0:\n",
        "    print(\"Por favor, ingrese un número positivo.\")\n",
        "else:\n",
        "    print(f\"La raíz cuadrada de {numero} es: {math.sqrt(numero):.2f}\")\n",
        "    print(f\"El logaritmo base 10 de {numero} es: {math.log10(numero):.4f}\")\n",
        "    print(f\"El logaritmo natural de {numero} es: {math.log(numero):.4f}\")\n",
        "    print(f\"El número redondeado hacia arriba de {numero} es: {math.ceil(numero)}\")\n",
        "    print(f\"El número redondeado hacia abajo de {numero} es: {math.floor(numero)}\")\n",
        "    print(f\"El valor absoluto de {numero} es: {math.fabs(numero)}\")\n",
        "    print(f\"El seno de {numero} es: {math.sin(numero):.4f}\")\n",
        "    print(f\"El coseno de {numero} es: {math.cos(numero):.4f}\")\n",
        "    print(f\"La tangente de {numero} es: {math.tan(numero):.4f}\")\n",
        "\n"
      ],
      "metadata": {
        "colab": {
          "base_uri": "https://localhost:8080/"
        },
        "id": "di6mcIrX0DE9",
        "outputId": "db0689f5-1ed0-4852-c388-bb920a0066bb"
      },
      "execution_count": 36,
      "outputs": [
        {
          "output_type": "stream",
          "name": "stdout",
          "text": [
            "Ingrese un número positivo: 5\n",
            "La raíz cuadrada de 5.0 es: 2.24\n",
            "El logaritmo base 10 de 5.0 es: 0.6990\n",
            "El logaritmo natural de 5.0 es: 1.6094\n",
            "El número redondeado hacia arriba de 5.0 es: 5\n",
            "El número redondeado hacia abajo de 5.0 es: 5\n",
            "El valor absoluto de 5.0 es: 5.0\n",
            "El seno de 5.0 es: -0.9589\n",
            "El coseno de 5.0 es: 0.2837\n",
            "La tangente de 5.0 es: -3.3805\n"
          ]
        }
      ]
    },
    {
      "cell_type": "code",
      "source": [
        "#Calcula para una lista de numeros\n",
        "\n",
        "import math\n",
        "\n",
        "# Lista de números de ejemplo\n",
        "numeros = [4, 10.5, 25, 0.5, 100, -3, 1.732]\n",
        "\n",
        "print(f\"{'Número':>10} | {'Raíz':>8} | {'Log10':>8} | {'Log':>8} | {'Ceil':>5} | {'Floor':>5} | {'Abs':>8} | {'Seno':>8} | {'Coseno':>8} | {'Tangente':>10}\")\n",
        "print(\"-\" * 100)\n",
        "\n",
        "for numero in numeros:\n",
        "    if numero <= 0:\n",
        "        print(f\"{numero:>10} | {'Inválido':>88}\")\n",
        "    else:\n",
        "        raiz = math.sqrt(numero)\n",
        "        log10 = math.log10(numero)\n",
        "        logn = math.log(numero)\n",
        "        ceil = math.ceil(numero)\n",
        "        floor = math.floor(numero)\n",
        "        abs_val = math.fabs(numero)\n",
        "        seno = math.sin(numero)\n",
        "        coseno = math.cos(numero)\n",
        "        tangente = math.tan(numero)\n",
        "\n",
        "        print(f\"{numero:>10.4f} | {raiz:>8.2f} | {log10:>8.2f} | {logn:>8.2f} | {ceil:>5} | {floor:>5} | {abs_val:>8.2f} | {seno:>8.2f} | {coseno:>8.2f} | {tangente:>10.2f}\")"
      ],
      "metadata": {
        "colab": {
          "base_uri": "https://localhost:8080/"
        },
        "id": "cm8ZYKmh2kmZ",
        "outputId": "049317d7-0057-439b-eded-d28d2794af29"
      },
      "execution_count": 38,
      "outputs": [
        {
          "output_type": "stream",
          "name": "stdout",
          "text": [
            "    Número |     Raíz |    Log10 |      Log |  Ceil | Floor |      Abs |     Seno |   Coseno |   Tangente\n",
            "----------------------------------------------------------------------------------------------------\n",
            "    4.0000 |     2.00 |     0.60 |     1.39 |     4 |     4 |     4.00 |    -0.76 |    -0.65 |       1.16\n",
            "   10.5000 |     3.24 |     1.02 |     2.35 |    11 |    10 |    10.50 |    -0.88 |    -0.48 |       1.85\n",
            "   25.0000 |     5.00 |     1.40 |     3.22 |    25 |    25 |    25.00 |    -0.13 |     0.99 |      -0.13\n",
            "    0.5000 |     0.71 |    -0.30 |    -0.69 |     1 |     0 |     0.50 |     0.48 |     0.88 |       0.55\n",
            "  100.0000 |    10.00 |     2.00 |     4.61 |   100 |   100 |   100.00 |    -0.51 |     0.86 |      -0.59\n",
            "        -3 |                                                                                 Inválido\n",
            "    1.7320 |     1.32 |     0.24 |     0.55 |     2 |     1 |     1.73 |     0.99 |    -0.16 |      -6.15\n"
          ]
        }
      ]
    },
    {
      "cell_type": "code",
      "source": [
        "#Pide al usuario que ingrese tres lados de un triángulo. Luego: Verifica si los tres lados pueden formar un triángulo (usa la desigualdad triangular).\n",
        "# Si es un triángulo válido: Determina su tipo: Equilátero: todos los lados iguales; Isósceles: dos lados iguales; Escaleno: todos los lados diferentes\n",
        "# Calcula el perímetro. Calcula el área usando la fórmula de Herón. Calcula los tres ángulos internos usando la ley del coseno (necesitarás math.acos() y math.degrees()).\n",
        "# Métodos de math a usar: math.sqrt(); math.acos() → para ángulo con ley del coseno; ##math.degrees() → pasar de radianes a grado\n",
        "\n",
        "import math\n",
        "\n",
        "lado1 = float(input(\"Ingrese la longitud del primer lado: \"))\n",
        "lado2 = float(input(\"Ingrese la longitud del segundo lado: \"))\n",
        "lado3 = float(input(\"Ingrese la longitud del tercer lado: \"))\n",
        "\n",
        "if lado1 + lado2 > lado3 and lado1 + lado3 > lado2 and lado2 + lado3 > lado1:\n",
        "\n",
        "    print(\"Los tres lados forman un triángulo válido.\")\n",
        "    if lado1 == lado2 == lado3:\n",
        "        print(\"El triángulo es equilátero.\")\n",
        "    elif lado1 == lado2 or lado1 == lado3 or lado2 == lado3:\n",
        "        print(\"El triángulo es isósceles.\")\n",
        "    else:\n",
        "        print(\"El triángulo es escaleno.\")\n",
        "\n",
        "    perimetro = lado1 + lado2 + lado3\n",
        "    print(\"El perímetro del triángulo es:\", perimetro)\n",
        "\n",
        "    s = (lado1 + lado2 + lado3) / 2\n",
        "    area = math.sqrt(s * (s - lado1) * (s - lado2) * (s - lado3))\n",
        "    print(f'El área del triángulo es: {area:.2f}')\n",
        "\n",
        "    angulos_internos_1 = math.degrees(math.acos((lado1**2 + lado2**2 - lado3**2) / (2 * lado1 * lado2)))\n",
        "    print(f'El ángulo interno 1 es: {angulos_internos_1:.2f} grados')\n",
        "\n",
        "    angulos_internos_2 = math.degrees(math.acos((lado2**2 + lado3**2 - lado1**2) / (2 * lado2 * lado3)))\n",
        "    print(f\"El ángulo interno 2 es: {angulos_internos_2:.2f} grados\")\n",
        "\n",
        "    angulos_internos_3 = math.degrees(math.acos((lado3**2 + lado1**2 - lado2**2) / (2 * lado3 * lado1)))\n",
        "    print(f'El ángulo interno 3 es:{angulos_internos_3:.2f} grados')\n",
        "\n"
      ],
      "metadata": {
        "colab": {
          "base_uri": "https://localhost:8080/"
        },
        "id": "rjBI1vxg3z4f",
        "outputId": "13c73827-5f73-417b-e8fe-bd63bac2796b"
      },
      "execution_count": 54,
      "outputs": [
        {
          "output_type": "stream",
          "name": "stdout",
          "text": [
            "Ingrese la longitud del primer lado: 2\n",
            "Ingrese la longitud del segundo lado: 3\n",
            "Ingrese la longitud del tercer lado: 4\n",
            "Los tres lados forman un triángulo válido.\n",
            "El triángulo es escaleno.\n",
            "El perímetro del triángulo es: 9.0\n",
            "El área del triángulo es: 2.90\n",
            "El ángulo interno 1 es: 104.48 grados\n",
            "El ángulo interno 2 es: 28.96 grados\n",
            "El ángulo interno 3 es:46.57grados\n"
          ]
        }
      ]
    },
    {
      "cell_type": "code",
      "source": [
        "# Pide al usuario que ingrese un número decimal.Calcula y muestra:1.El número redondeado hacia arriba (math.ceil()).2.El número redondeado hacia abajo (math.floor()).\n",
        "# 3. El valor truncado (eliminando la parte decimal) (math.trunc()). 4.El valor absoluto del número (math.fabs()).\n",
        "\n",
        "import math\n",
        "\n",
        "numero= float(input(\"Ingrese un número decimal: \"))\n",
        "\n",
        "numero_redondeado= math.ceil(numero)\n",
        "print(f'El número redondeado hacia arriba es:{numero_redondeado}')\n",
        "\n",
        "numero_redondeado= math.floor(numero)\n",
        "print(f\"El número redondeado hacia abajo es: {numero_redondeado}\")\n",
        "\n",
        "numero_truncado= math.trunc(numero)\n",
        "print(f\"El valor truncado del número es: {numero_truncado}\")\n",
        "\n",
        "numero_absoluto= math.fabs(numero)\n",
        "print(f\"El valor absoluto del número es: {numero_absoluto}\")\n"
      ],
      "metadata": {
        "colab": {
          "base_uri": "https://localhost:8080/"
        },
        "id": "Vgfq35_s87_b",
        "outputId": "719eaea7-4318-4803-ef40-ddbda76f265e"
      },
      "execution_count": 59,
      "outputs": [
        {
          "output_type": "stream",
          "name": "stdout",
          "text": [
            "Ingrese un número decimal: 3.5\n",
            "El número redondeado hacia arriba es:4\n",
            "El número redondeado hacia abajo es: 3\n",
            "El valor truncado del número es: 3\n",
            "El valor absoluto del número es: 3.5\n"
          ]
        }
      ]
    },
    {
      "cell_type": "code",
      "source": [
        "# uso se random.seed\n",
        "import random\n",
        "\n",
        "random.seed(26)\n",
        "for _ in range(5):\n",
        "    print(random.randint(1, 100))\n",
        "\n"
      ],
      "metadata": {
        "colab": {
          "base_uri": "https://localhost:8080/"
        },
        "id": "M_YSF11cAOyv",
        "outputId": "ad4d8734-26c6-470f-cd82-83bdab9798f8"
      },
      "execution_count": 68,
      "outputs": [
        {
          "output_type": "stream",
          "name": "stdout",
          "text": [
            "96\n",
            "26\n",
            "85\n",
            "27\n",
            "56\n"
          ]
        }
      ]
    },
    {
      "cell_type": "code",
      "source": [
        "# random.random genere numero aleatorio de punto flotante, entre 0.0 y 1.0\n",
        "\n",
        "import random\n",
        "\n",
        "# Generar un número aleatorio entre 0.0 y 1.0\n",
        "numero_aleatorio = random.random()\n",
        "print(f\"Número aleatorio generado: {numero_aleatorio}\")"
      ],
      "metadata": {
        "colab": {
          "base_uri": "https://localhost:8080/"
        },
        "id": "KDJw1-w5Em_v",
        "outputId": "c535eca2-17a7-402e-a44f-a0cb641a927a"
      },
      "execution_count": 72,
      "outputs": [
        {
          "output_type": "stream",
          "name": "stdout",
          "text": [
            "Número aleatorio generado: 0.7644111475143869\n"
          ]
        }
      ]
    },
    {
      "cell_type": "code",
      "source": [
        "# random.uniform genera un numero aleatorio en el rango especificado\n",
        "import random\n",
        "# Generar un número aleatorio entre 10.0 y 20.0\n",
        "numero_aleatorio = random.uniform(10.0, 20.0)\n",
        "print(f\"Número aleatorio generado: {numero_aleatorio}\")"
      ],
      "metadata": {
        "colab": {
          "base_uri": "https://localhost:8080/"
        },
        "id": "4lXDYACwFV11",
        "outputId": "e5f2a57b-24b5-4160-ac36-21d4e15d1aff"
      },
      "execution_count": 74,
      "outputs": [
        {
          "output_type": "stream",
          "name": "stdout",
          "text": [
            "Número aleatorio generado: 16.833949433521145\n"
          ]
        }
      ]
    },
    {
      "cell_type": "code",
      "source": [
        "import random\n",
        "\n",
        "# Generar un número aleatorio con media 0 y desviación estándar 1 (distribución normal estándar)\n",
        "numero_aleatorio = random.gauss(0, 1)\n",
        "print(f\"Número aleatorio generado con distribución normal: {numero_aleatorio}\")"
      ],
      "metadata": {
        "colab": {
          "base_uri": "https://localhost:8080/"
        },
        "id": "5jt5m_n-Hbue",
        "outputId": "7159b6a1-9427-40dd-c8b5-5f0b8dd4faf0"
      },
      "execution_count": 94,
      "outputs": [
        {
          "output_type": "stream",
          "name": "stdout",
          "text": [
            "Número aleatorio generado con distribución normal: -0.1638637155937991\n"
          ]
        }
      ]
    },
    {
      "cell_type": "code",
      "source": [
        "import random\n",
        "\n",
        "# Establecer una media (mu) de 50 y una desviación estándar (sigma) de 10\n",
        "media = 50\n",
        "desviacion_estandar = 10\n",
        "\n",
        "# Generar un número aleatorio con esa distribución normal\n",
        "numero_aleatorio = random.gauss(media, desviacion_estandar)\n",
        "print(f\"Número aleatorio generado con media {media} y desviación estándar {desviacion_estandar}: {numero_aleatorio}\")"
      ],
      "metadata": {
        "colab": {
          "base_uri": "https://localhost:8080/"
        },
        "id": "H_JlihMiHqf7",
        "outputId": "96c84f7c-cd89-4246-bf05-da25c1eabce3"
      },
      "execution_count": 88,
      "outputs": [
        {
          "output_type": "stream",
          "name": "stdout",
          "text": [
            "Número aleatorio generado con media 50 y desviación estándar 10: 39.01724673067858\n"
          ]
        }
      ]
    }
  ]
}