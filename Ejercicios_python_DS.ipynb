{
  "nbformat": 4,
  "nbformat_minor": 0,
  "metadata": {
    "colab": {
      "provenance": [],
      "authorship_tag": "ABX9TyPTxQuk5cdUOQSe2VYDBbkm",
      "include_colab_link": true
    },
    "kernelspec": {
      "name": "python3",
      "display_name": "Python 3"
    },
    "language_info": {
      "name": "python"
    }
  },
  "cells": [
    {
      "cell_type": "markdown",
      "metadata": {
        "id": "view-in-github",
        "colab_type": "text"
      },
      "source": [
        "<a href=\"https://colab.research.google.com/github/Gameto2025/curso_python/blob/main/Ejercicios_python_DS.ipynb\" target=\"_parent\"><img src=\"https://colab.research.google.com/assets/colab-badge.svg\" alt=\"Open In Colab\"/></a>"
      ]
    },
    {
      "cell_type": "code",
      "execution_count": null,
      "metadata": {
        "id": "JIzHG33mH0oM"
      },
      "outputs": [],
      "source": [
        " # 3. Crea un programa que lea la siguiente lista de números y elija uno al azar.\n",
        "\n",
        " lista = [8, 12, 54, 23, 43, 1, 90, 87, 105, 77]\n"
      ]
    },
    {
      "cell_type": "code",
      "source": [
        "#4 - Crea un programa que genere aleatoriamente un número entero menor que 100.\n"
      ],
      "metadata": {
        "id": "y_9hP6KaH1zG"
      },
      "execution_count": null,
      "outputs": []
    },
    {
      "cell_type": "code",
      "source": [
        "#5 - Crea un programa que solicite a la persona usuaria ingresar dos números enteros y calcule la potencia del primer número elevado al segundo.\n"
      ],
      "metadata": {
        "id": "Cm3OuGO9H1vm"
      },
      "execution_count": null,
      "outputs": []
    },
    {
      "cell_type": "code",
      "source": [
        "#6 - Se debe escribir un programa para sortear a un seguidor de una red social para ganar un premio.\n",
        "# La lista de participantes está numerada y debemos elegir aleatoriamente un número según la cantidad de participantes.\n",
        "# Pide a la persona usuaria que proporcione el número de participantes del sorteo y devuelve el número sorteado.\n"
      ],
      "metadata": {
        "id": "0YnRKheoH1sc"
      },
      "execution_count": null,
      "outputs": []
    },
    {
      "cell_type": "code",
      "source": [
        "#7 - Has recibido una solicitud para generar números de token para acceder a la aplicación de una empresa.\n",
        "# El token debe ser par y variar de 1000 a 9998. Escribe un código que solicite el nombre de la persona usuaria y muestre un mensaje junto\n",
        "# a este token generado aleatoriamente.\n",
        "\n",
        "print(f\"Hola, {nombre_usuario}, tu token de acceso es {token_generado} ¡Bienvenido/a!\")\n"
      ],
      "metadata": {
        "id": "A8MBYXwhH1hG"
      },
      "execution_count": null,
      "outputs": []
    },
    {
      "cell_type": "code",
      "source": [
        "#8 - Para diversificar y atraer nuevos clientes, una lanchonete creó un ítem misterioso en su menú llamado \"ensalada de frutas sorpresa\".\n",
        "#En este ítem, se eligen aleatoriamente 3 frutas de una lista de 12 para componer la ensalada de frutas del cliente.\n",
        "#Crea el código que realice esta selección aleatoria según la lista dada.\n",
        "\n",
        "frutas = [\"manzana\", \"banana\", \"uva\", \"pera\", \"mango\", \"coco\", \"sandia\", \"fresa\", \"naranja\", \"maracuya\", \"kiwi\", \"cereza\"]\n"
      ],
      "metadata": {
        "id": "MKrDNnhKIe4R"
      },
      "execution_count": null,
      "outputs": []
    },
    {
      "cell_type": "code",
      "source": [
        "#9 - Has recibido un desafío para calcular la raíz cuadrada de una lista de números, identificando cuáles resultan en un número entero. La lista es la siguiente:\n",
        "\n",
        "numeros = [2, 8, 15, 23, 91, 112, 256]\n"
      ],
      "metadata": {
        "id": "nMkudpgFItxf"
      },
      "execution_count": null,
      "outputs": []
    },
    {
      "cell_type": "code",
      "source": [
        "# 10 - Haz un programa para una tienda que vende césped para jardines.\n",
        " # Esta tienda trabaja con jardines circulares y el precio del metro cuadrado de césped es de R$ 25,00.\n",
        "# Pide a la persona usuaria el radio del área circular y devuelve el valor en reales de cuánto tendrá que pagar.\n"
      ],
      "metadata": {
        "id": "3zYkZIPcItgu"
      },
      "execution_count": null,
      "outputs": []
    }
  ]
}