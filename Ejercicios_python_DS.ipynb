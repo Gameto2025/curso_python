{
  "nbformat": 4,
  "nbformat_minor": 0,
  "metadata": {
    "colab": {
      "provenance": [],
      "authorship_tag": "ABX9TyPtso85svmESJRjEZ747f47",
      "include_colab_link": true
    },
    "kernelspec": {
      "name": "python3",
      "display_name": "Python 3"
    },
    "language_info": {
      "name": "python"
    }
  },
  "cells": [
    {
      "cell_type": "markdown",
      "metadata": {
        "id": "view-in-github",
        "colab_type": "text"
      },
      "source": [
        "<a href=\"https://colab.research.google.com/github/Gameto2025/curso_python/blob/main/Ejercicios_python_DS.ipynb\" target=\"_parent\"><img src=\"https://colab.research.google.com/assets/colab-badge.svg\" alt=\"Open In Colab\"/></a>"
      ]
    },
    {
      "cell_type": "markdown",
      "source": [
        "EJERCICIOS CURSO DOS CLASE UNO = BIBLIOTECAS\n",
        "\n"
      ],
      "metadata": {
        "id": "GKVUu1LnEE6P"
      }
    },
    {
      "cell_type": "code",
      "execution_count": null,
      "metadata": {
        "colab": {
          "base_uri": "https://localhost:8080/"
        },
        "id": "JIzHG33mH0oM",
        "outputId": "f6af6f0d-492b-4b4a-93ff-054e374e0232"
      },
      "outputs": [
        {
          "output_type": "stream",
          "name": "stdout",
          "text": [
            "43\n"
          ]
        }
      ],
      "source": [
        " # 3. Crea un programa que lea la siguiente lista de números y elija uno al azar.\n",
        "\n",
        " lista = [8, 12, 54, 23, 43, 1, 90, 87, 105, 77]\n",
        "\n",
        " import random\n",
        " numero_aleatorio= random.choice(lista)\n",
        " print(numero_aleatorio)\n",
        "\n"
      ]
    },
    {
      "cell_type": "code",
      "source": [
        "#4 - Crea un programa que genere aleatoriamente un número entero menor que 100.\n",
        "\n",
        "import random\n",
        "numero_aleatorio= random.randint(0,100)\n",
        "print(numero_aleatorio)"
      ],
      "metadata": {
        "colab": {
          "base_uri": "https://localhost:8080/"
        },
        "id": "y_9hP6KaH1zG",
        "outputId": "cdd8cac0-154b-47e1-cea6-2127f5e9d688"
      },
      "execution_count": null,
      "outputs": [
        {
          "output_type": "stream",
          "name": "stdout",
          "text": [
            "18\n"
          ]
        }
      ]
    },
    {
      "cell_type": "code",
      "source": [
        "#5 - Crea un programa que solicite a la persona usuaria ingresar dos números enteros y calcule la potencia del primer número elevado al segundo.\n",
        "# math.pow es para elevar a potencia\n",
        "import math\n",
        "\n",
        "num_1 = input(\"Ingrese el primer número: \")\n",
        "num_2 = input(\"Ingrese el segundo número: \")\n",
        "resultado = math.pow(int(num_1), int(num_2))\n",
        "print(f\"La potencia de {num_1} elevado a {num_2} es: {resultado}\")"
      ],
      "metadata": {
        "colab": {
          "base_uri": "https://localhost:8080/"
        },
        "id": "Cm3OuGO9H1vm",
        "outputId": "c88b9b87-23e9-47a5-fcb5-31d6f895fec3"
      },
      "execution_count": null,
      "outputs": [
        {
          "output_type": "stream",
          "name": "stdout",
          "text": [
            "Ingrese el primer número: 4\n",
            "Ingrese el segundo número: 4\n",
            "La potencia de 4 elevado a 4 es: 256.0\n"
          ]
        }
      ]
    },
    {
      "cell_type": "code",
      "source": [
        "#6 - Se debe escribir un programa para sortear a un seguidor de una red social para ganar un premio.\n",
        "# La lista de participantes está numerada y debemos elegir aleatoriamente un número según la cantidad de participantes.\n",
        "# Pide a la persona usuaria que proporcione el número de participantes del sorteo y devuelve el número sorteado.\n",
        "\n",
        "import random\n",
        "\n",
        "cantidad_participantes = int(input(\"Ingrese la cantidad de participantes: \"))\n",
        "numero_sorteado = random.randint(1, cantidad_participantes)\n",
        "print(f\"El número sorteado es: {numero_sorteado}\")"
      ],
      "metadata": {
        "colab": {
          "base_uri": "https://localhost:8080/"
        },
        "id": "0YnRKheoH1sc",
        "outputId": "30a31381-f894-4cf8-9f48-25185a283070"
      },
      "execution_count": null,
      "outputs": [
        {
          "output_type": "stream",
          "name": "stdout",
          "text": [
            "Ingrese la cantidad de participantes: 50\n",
            "El número sorteado es: 22\n"
          ]
        }
      ]
    },
    {
      "cell_type": "code",
      "source": [
        "#7 - Has recibido una solicitud para generar números de token para acceder a la aplicación de una empresa.\n",
        "# El token debe ser par y variar de 1000 a 9998. Escribe un código que solicite el nombre de la persona usuaria y muestre un mensaje junto\n",
        "# a este token generado aleatoriamente.\n",
        "\n",
        "import random\n",
        "\n",
        "nombre_usuario = input(\"Ingrese su nombre de usuario: \")\n",
        "token_generado = random.randrange(1000, 9999,2)\n",
        "print(f\"Hola, {nombre_usuario}, tu token de acceso es {token_generado} ¡Bienvenido/a!\")"
      ],
      "metadata": {
        "colab": {
          "base_uri": "https://localhost:8080/"
        },
        "id": "A8MBYXwhH1hG",
        "outputId": "ae52b857-91b3-4953-c59a-5192215909dc"
      },
      "execution_count": null,
      "outputs": [
        {
          "output_type": "stream",
          "name": "stdout",
          "text": [
            "Ingrese su nombre de usuario: gabo\n",
            "Hola, gabo, tu token de acceso es 1178 ¡Bienvenido/a!\n"
          ]
        }
      ]
    },
    {
      "cell_type": "code",
      "source": [
        "#8 - Para diversificar y atraer nuevos clientes, una lanchonete creó un ítem misterioso en su menú llamado \"ensalada de frutas sorpresa\".\n",
        "#En este ítem, se eligen aleatoriamente 3 frutas de una lista de 12 para componer la ensalada de frutas del cliente.\n",
        "#Crea el código que realice esta selección aleatoria según la lista dada.\n",
        "\n",
        "frutas = [\"manzana\", \"banana\", \"uva\", \"pera\", \"mango\", \"coco\", \"sandia\", \"fresa\", \"naranja\", \"maracuya\", \"kiwi\", \"cereza\"]\n",
        "ensalada = random.sample(frutas, 3)\n",
        "print(\"Ensalada de frutas sorpresa:\",ensalada)\n"
      ],
      "metadata": {
        "colab": {
          "base_uri": "https://localhost:8080/"
        },
        "id": "MKrDNnhKIe4R",
        "outputId": "0e2b85fe-a610-4f05-9b0d-2f9030aa6d31"
      },
      "execution_count": null,
      "outputs": [
        {
          "output_type": "stream",
          "name": "stdout",
          "text": [
            "Ensalada de frutas sorpresa: ['uva', 'pera', 'cereza']\n"
          ]
        }
      ]
    },
    {
      "cell_type": "code",
      "source": [
        "#9 - Has recibido un desafío para calcular la raíz cuadrada de una lista de números, identificando cuáles resultan en un número entero. La lista es la siguiente:\n",
        "import math\n",
        "numeros = [2, 8, 15, 23, 91, 112, 256]\n",
        "\n",
        "for numero in numeros:\n",
        "    raiz_cuadrada = math.sqrt(numero)\n",
        "    if raiz_cuadrada.is_integer():\n",
        "        print(f\"La raíz cuadrada de {numero} es un número entero.\")"
      ],
      "metadata": {
        "colab": {
          "base_uri": "https://localhost:8080/"
        },
        "id": "nMkudpgFItxf",
        "outputId": "eb13d990-56b3-4b96-af5d-94d9fede9960"
      },
      "execution_count": null,
      "outputs": [
        {
          "output_type": "stream",
          "name": "stdout",
          "text": [
            "La raíz cuadrada de 256 es un número entero.\n"
          ]
        }
      ]
    },
    {
      "cell_type": "code",
      "source": [
        "import math\n",
        "numeros = [2, 8, 15, 23, 91, 112, 256]\n",
        "\n",
        "raices_enteras = [num for num in numeros if math.sqrt(num) % 1 == 0]\n",
        "print(\"Números con raíces enteras:\", raices_enteras)"
      ],
      "metadata": {
        "colab": {
          "base_uri": "https://localhost:8080/"
        },
        "id": "DsymLQuvwBLs",
        "outputId": "4dcd0239-f344-4d32-fa11-64fab284e08d"
      },
      "execution_count": null,
      "outputs": [
        {
          "output_type": "stream",
          "name": "stdout",
          "text": [
            "Números con raíces enteras: [256]\n"
          ]
        }
      ]
    },
    {
      "cell_type": "code",
      "source": [
        "# 10 - Haz un programa para una tienda que vende césped para jardines.\n",
        " # Esta tienda trabaja con jardines circulares y el precio del metro cuadrado de césped es de R$ 25,00.\n",
        "# Pide a la persona usuaria el radio del área circular y devuelve el valor en reales de cuánto tendrá que pagar.\n",
        "\n",
        "import math\n",
        "\n",
        "precio_metro_cuadrado = 25.00\n",
        "radio = float(input(\"Ingrese el radio del área circular en metros: \"))\n",
        "area_total = math.pi * math.pow(radio, 2)\n",
        "precio_total = area_total * precio_metro_cuadrado\n",
        "\n",
        "print(f\"El precio total a pagar es: R$ {precio_total:.2f}\")"
      ],
      "metadata": {
        "colab": {
          "base_uri": "https://localhost:8080/"
        },
        "id": "3zYkZIPcItgu",
        "outputId": "4ae5c739-e39b-48e3-b7de-4b9f04774cfc"
      },
      "execution_count": null,
      "outputs": [
        {
          "output_type": "stream",
          "name": "stdout",
          "text": [
            "Ingrese el radio del área circular en metros: 2\n",
            "El precio total a pagar es: R$ 314.16\n"
          ]
        }
      ]
    },
    {
      "cell_type": "code",
      "source": [
        "import math\n",
        "\n",
        "precio_metro_cuadrado = 25.00\n",
        "radio = float(input(\"Ingrese el radio del área circular en metros: \"))\n",
        "area = math.pi * math.pow(radio, 2)\n",
        "costo_total = precio_metro_cuadrado * area\n",
        "\n",
        "print(f\"El costo total es de R$ {round(costo_total,2)}\")"
      ],
      "metadata": {
        "colab": {
          "base_uri": "https://localhost:8080/"
        },
        "id": "yCS22-IwyR7Y",
        "outputId": "fbc7688d-4051-4ee5-b7c9-224baca150e2"
      },
      "execution_count": null,
      "outputs": [
        {
          "output_type": "stream",
          "name": "stdout",
          "text": [
            "Ingrese el radio del área circular en metros: 2\n",
            "El costo total es de R$ 314.16\n"
          ]
        }
      ]
    },
    {
      "cell_type": "markdown",
      "source": [],
      "metadata": {
        "id": "GiXpGZlJ0H9h"
      }
    },
    {
      "cell_type": "code",
      "source": [
        "#Crea un programa que: Pida al usuario que ingrese un número positivo (entero o decimal). Calcule y muestre:\n",
        "#1. La raíz cuadrada (math.sqrt), 2. El logaritmo base 10 (math.log10), 3. El logaritmo natural (math.log), 4. El número redondeado hacia arriba (math.ceil)\n",
        "# 5. El número redondeado hacia abajo (math.floor) 6. El valor absoluto (math.fabs) 7. El seno, coseno y tangente del número (en radianes) (math.sin, math.cos, math.tan)\n",
        "# Puedes usar try/except para manejar errores si el usuario ingresa un valor no válido (como un número negativo para la raíz o el logaritmo).\n",
        "\n",
        "import math\n",
        "\n",
        "numero = float(input(\"Ingrese un número positivo: \"))\n",
        "\n",
        "if numero < 0:\n",
        "    print(\"Por favor, ingrese un número positivo.\")\n",
        "else:\n",
        "    print(f\"La raíz cuadrada de {numero} es: {math.sqrt(numero):.2f}\")\n",
        "    print(f\"El logaritmo base 10 de {numero} es: {math.log10(numero):.4f}\")\n",
        "    print(f\"El logaritmo natural de {numero} es: {math.log(numero):.4f}\")\n",
        "    print(f\"El número redondeado hacia arriba de {numero} es: {math.ceil(numero)}\")\n",
        "    print(f\"El número redondeado hacia abajo de {numero} es: {math.floor(numero)}\")\n",
        "    print(f\"El valor absoluto de {numero} es: {math.fabs(numero)}\")\n",
        "    print(f\"El seno de {numero} es: {math.sin(numero):.4f}\")\n",
        "    print(f\"El coseno de {numero} es: {math.cos(numero):.4f}\")\n",
        "    print(f\"La tangente de {numero} es: {math.tan(numero):.4f}\")\n",
        "\n"
      ],
      "metadata": {
        "colab": {
          "base_uri": "https://localhost:8080/"
        },
        "id": "di6mcIrX0DE9",
        "outputId": "db0689f5-1ed0-4852-c388-bb920a0066bb"
      },
      "execution_count": null,
      "outputs": [
        {
          "output_type": "stream",
          "name": "stdout",
          "text": [
            "Ingrese un número positivo: 5\n",
            "La raíz cuadrada de 5.0 es: 2.24\n",
            "El logaritmo base 10 de 5.0 es: 0.6990\n",
            "El logaritmo natural de 5.0 es: 1.6094\n",
            "El número redondeado hacia arriba de 5.0 es: 5\n",
            "El número redondeado hacia abajo de 5.0 es: 5\n",
            "El valor absoluto de 5.0 es: 5.0\n",
            "El seno de 5.0 es: -0.9589\n",
            "El coseno de 5.0 es: 0.2837\n",
            "La tangente de 5.0 es: -3.3805\n"
          ]
        }
      ]
    },
    {
      "cell_type": "code",
      "source": [
        "#Calcula para una lista de numeros\n",
        "\n",
        "import math\n",
        "\n",
        "# Lista de números de ejemplo\n",
        "numeros = [4, 10.5, 25, 0.5, 100, -3, 1.732]\n",
        "\n",
        "print(f\"{'Número':>10} | {'Raíz':>8} | {'Log10':>8} | {'Log':>8} | {'Ceil':>5} | {'Floor':>5} | {'Abs':>8} | {'Seno':>8} | {'Coseno':>8} | {'Tangente':>10}\")\n",
        "print(\"-\" * 100)\n",
        "\n",
        "for numero in numeros:\n",
        "    if numero <= 0:\n",
        "        print(f\"{numero:>10} | {'Inválido':>88}\")\n",
        "    else:\n",
        "        raiz = math.sqrt(numero)\n",
        "        log10 = math.log10(numero)\n",
        "        logn = math.log(numero)\n",
        "        ceil = math.ceil(numero)\n",
        "        floor = math.floor(numero)\n",
        "        abs_val = math.fabs(numero)\n",
        "        seno = math.sin(numero)\n",
        "        coseno = math.cos(numero)\n",
        "        tangente = math.tan(numero)\n",
        "\n",
        "        print(f\"{numero:>10.4f} | {raiz:>8.2f} | {log10:>8.2f} | {logn:>8.2f} | {ceil:>5} | {floor:>5} | {abs_val:>8.2f} | {seno:>8.2f} | {coseno:>8.2f} | {tangente:>10.2f}\")"
      ],
      "metadata": {
        "colab": {
          "base_uri": "https://localhost:8080/"
        },
        "id": "cm8ZYKmh2kmZ",
        "outputId": "049317d7-0057-439b-eded-d28d2794af29"
      },
      "execution_count": null,
      "outputs": [
        {
          "output_type": "stream",
          "name": "stdout",
          "text": [
            "    Número |     Raíz |    Log10 |      Log |  Ceil | Floor |      Abs |     Seno |   Coseno |   Tangente\n",
            "----------------------------------------------------------------------------------------------------\n",
            "    4.0000 |     2.00 |     0.60 |     1.39 |     4 |     4 |     4.00 |    -0.76 |    -0.65 |       1.16\n",
            "   10.5000 |     3.24 |     1.02 |     2.35 |    11 |    10 |    10.50 |    -0.88 |    -0.48 |       1.85\n",
            "   25.0000 |     5.00 |     1.40 |     3.22 |    25 |    25 |    25.00 |    -0.13 |     0.99 |      -0.13\n",
            "    0.5000 |     0.71 |    -0.30 |    -0.69 |     1 |     0 |     0.50 |     0.48 |     0.88 |       0.55\n",
            "  100.0000 |    10.00 |     2.00 |     4.61 |   100 |   100 |   100.00 |    -0.51 |     0.86 |      -0.59\n",
            "        -3 |                                                                                 Inválido\n",
            "    1.7320 |     1.32 |     0.24 |     0.55 |     2 |     1 |     1.73 |     0.99 |    -0.16 |      -6.15\n"
          ]
        }
      ]
    },
    {
      "cell_type": "code",
      "source": [
        "#Pide al usuario que ingrese tres lados de un triángulo. Luego: Verifica si los tres lados pueden formar un triángulo (usa la desigualdad triangular).\n",
        "# Si es un triángulo válido: Determina su tipo: Equilátero: todos los lados iguales; Isósceles: dos lados iguales; Escaleno: todos los lados diferentes\n",
        "# Calcula el perímetro. Calcula el área usando la fórmula de Herón. Calcula los tres ángulos internos usando la ley del coseno (necesitarás math.acos() y math.degrees()).\n",
        "# Métodos de math a usar: math.sqrt(); math.acos() → para ángulo con ley del coseno; ##math.degrees() → pasar de radianes a grado\n",
        "\n",
        "import math\n",
        "\n",
        "lado1 = float(input(\"Ingrese la longitud del primer lado: \"))\n",
        "lado2 = float(input(\"Ingrese la longitud del segundo lado: \"))\n",
        "lado3 = float(input(\"Ingrese la longitud del tercer lado: \"))\n",
        "\n",
        "if lado1 + lado2 > lado3 and lado1 + lado3 > lado2 and lado2 + lado3 > lado1:\n",
        "\n",
        "    print(\"Los tres lados forman un triángulo válido.\")\n",
        "    if lado1 == lado2 == lado3:\n",
        "        print(\"El triángulo es equilátero.\")\n",
        "    elif lado1 == lado2 or lado1 == lado3 or lado2 == lado3:\n",
        "        print(\"El triángulo es isósceles.\")\n",
        "    else:\n",
        "        print(\"El triángulo es escaleno.\")\n",
        "\n",
        "    perimetro = lado1 + lado2 + lado3\n",
        "    print(\"El perímetro del triángulo es:\", perimetro)\n",
        "\n",
        "    s = (lado1 + lado2 + lado3) / 2\n",
        "    area = math.sqrt(s * (s - lado1) * (s - lado2) * (s - lado3))\n",
        "    print(f'El área del triángulo es: {area:.2f}')\n",
        "\n",
        "    angulos_internos_1 = math.degrees(math.acos((lado1**2 + lado2**2 - lado3**2) / (2 * lado1 * lado2)))\n",
        "    print(f'El ángulo interno 1 es: {angulos_internos_1:.2f} grados')\n",
        "\n",
        "    angulos_internos_2 = math.degrees(math.acos((lado2**2 + lado3**2 - lado1**2) / (2 * lado2 * lado3)))\n",
        "    print(f\"El ángulo interno 2 es: {angulos_internos_2:.2f} grados\")\n",
        "\n",
        "    angulos_internos_3 = math.degrees(math.acos((lado3**2 + lado1**2 - lado2**2) / (2 * lado3 * lado1)))\n",
        "    print(f'El ángulo interno 3 es:{angulos_internos_3:.2f} grados')\n",
        "\n"
      ],
      "metadata": {
        "colab": {
          "base_uri": "https://localhost:8080/"
        },
        "id": "rjBI1vxg3z4f",
        "outputId": "13c73827-5f73-417b-e8fe-bd63bac2796b"
      },
      "execution_count": null,
      "outputs": [
        {
          "output_type": "stream",
          "name": "stdout",
          "text": [
            "Ingrese la longitud del primer lado: 2\n",
            "Ingrese la longitud del segundo lado: 3\n",
            "Ingrese la longitud del tercer lado: 4\n",
            "Los tres lados forman un triángulo válido.\n",
            "El triángulo es escaleno.\n",
            "El perímetro del triángulo es: 9.0\n",
            "El área del triángulo es: 2.90\n",
            "El ángulo interno 1 es: 104.48 grados\n",
            "El ángulo interno 2 es: 28.96 grados\n",
            "El ángulo interno 3 es:46.57grados\n"
          ]
        }
      ]
    },
    {
      "cell_type": "code",
      "source": [
        "# Pide al usuario que ingrese un número decimal.Calcula y muestra:1.El número redondeado hacia arriba (math.ceil()).2.El número redondeado hacia abajo (math.floor()).\n",
        "# 3. El valor truncado (eliminando la parte decimal) (math.trunc()). 4.El valor absoluto del número (math.fabs()).\n",
        "\n",
        "import math\n",
        "\n",
        "numero= float(input(\"Ingrese un número decimal: \"))\n",
        "\n",
        "numero_redondeado= math.ceil(numero)\n",
        "print(f'El número redondeado hacia arriba es:{numero_redondeado}')\n",
        "\n",
        "numero_redondeado= math.floor(numero)\n",
        "print(f\"El número redondeado hacia abajo es: {numero_redondeado}\")\n",
        "\n",
        "numero_truncado= math.trunc(numero)\n",
        "print(f\"El valor truncado del número es: {numero_truncado}\")\n",
        "\n",
        "numero_absoluto= math.fabs(numero)\n",
        "print(f\"El valor absoluto del número es: {numero_absoluto}\")\n"
      ],
      "metadata": {
        "colab": {
          "base_uri": "https://localhost:8080/"
        },
        "id": "Vgfq35_s87_b",
        "outputId": "719eaea7-4318-4803-ef40-ddbda76f265e"
      },
      "execution_count": null,
      "outputs": [
        {
          "output_type": "stream",
          "name": "stdout",
          "text": [
            "Ingrese un número decimal: 3.5\n",
            "El número redondeado hacia arriba es:4\n",
            "El número redondeado hacia abajo es: 3\n",
            "El valor truncado del número es: 3\n",
            "El valor absoluto del número es: 3.5\n"
          ]
        }
      ]
    },
    {
      "cell_type": "code",
      "source": [
        "# uso se random.seed\n",
        "import random\n",
        "\n",
        "random.seed(26)\n",
        "for _ in range(5):\n",
        "    print(random.randint(1, 100))"
      ],
      "metadata": {
        "colab": {
          "base_uri": "https://localhost:8080/"
        },
        "id": "M_YSF11cAOyv",
        "outputId": "ad4d8734-26c6-470f-cd82-83bdab9798f8"
      },
      "execution_count": null,
      "outputs": [
        {
          "output_type": "stream",
          "name": "stdout",
          "text": [
            "96\n",
            "26\n",
            "85\n",
            "27\n",
            "56\n"
          ]
        }
      ]
    },
    {
      "cell_type": "code",
      "source": [
        "# random.random genere numero aleatorio de punto flotante, entre 0.0 y 1.0\n",
        "\n",
        "import random\n",
        "\n",
        "# Generar un número aleatorio entre 0.0 y 1.0\n",
        "numero_aleatorio = random.random()\n",
        "print(f\"Número aleatorio generado: {numero_aleatorio}\")"
      ],
      "metadata": {
        "colab": {
          "base_uri": "https://localhost:8080/"
        },
        "id": "KDJw1-w5Em_v",
        "outputId": "c535eca2-17a7-402e-a44f-a0cb641a927a"
      },
      "execution_count": null,
      "outputs": [
        {
          "output_type": "stream",
          "name": "stdout",
          "text": [
            "Número aleatorio generado: 0.7644111475143869\n"
          ]
        }
      ]
    },
    {
      "cell_type": "code",
      "source": [
        "# random.uniform genera un numero aleatorio en el rango especificado\n",
        "import random\n",
        "# Generar un número aleatorio entre 10.0 y 20.0\n",
        "numero_aleatorio = random.uniform(10.0, 20.0)\n",
        "print(f\"Número aleatorio generado: {numero_aleatorio}\")"
      ],
      "metadata": {
        "colab": {
          "base_uri": "https://localhost:8080/"
        },
        "id": "4lXDYACwFV11",
        "outputId": "e5f2a57b-24b5-4160-ac36-21d4e15d1aff"
      },
      "execution_count": null,
      "outputs": [
        {
          "output_type": "stream",
          "name": "stdout",
          "text": [
            "Número aleatorio generado: 16.833949433521145\n"
          ]
        }
      ]
    },
    {
      "cell_type": "code",
      "source": [
        "import random\n",
        "\n",
        "# Generar un número aleatorio con media 0 y desviación estándar 1 (distribución normal estándar)\n",
        "numero_aleatorio = random.gauss(0, 1)\n",
        "print(f\"Número aleatorio generado con distribución normal: {numero_aleatorio}\")"
      ],
      "metadata": {
        "colab": {
          "base_uri": "https://localhost:8080/"
        },
        "id": "5jt5m_n-Hbue",
        "outputId": "7159b6a1-9427-40dd-c8b5-5f0b8dd4faf0"
      },
      "execution_count": null,
      "outputs": [
        {
          "output_type": "stream",
          "name": "stdout",
          "text": [
            "Número aleatorio generado con distribución normal: -0.1638637155937991\n"
          ]
        }
      ]
    },
    {
      "cell_type": "code",
      "source": [
        "import random\n",
        "\n",
        "# Establecer una media (mu) de 50 y una desviación estándar (sigma) de 10\n",
        "media = 50\n",
        "desviacion_estandar = 10\n",
        "\n",
        "# Generar un número aleatorio con esa distribución normal\n",
        "numero_aleatorio = random.gauss(media, desviacion_estandar)\n",
        "print(f\"Número aleatorio generado con media {media} y desviación estándar {desviacion_estandar}: {numero_aleatorio}\")"
      ],
      "metadata": {
        "colab": {
          "base_uri": "https://localhost:8080/"
        },
        "id": "H_JlihMiHqf7",
        "outputId": "96c84f7c-cd89-4246-bf05-da25c1eabce3"
      },
      "execution_count": null,
      "outputs": [
        {
          "output_type": "stream",
          "name": "stdout",
          "text": [
            "Número aleatorio generado con media 50 y desviación estándar 10: 39.01724673067858\n"
          ]
        }
      ]
    },
    {
      "cell_type": "markdown",
      "source": [
        "EJERCICIOS CURSO 2 clase 2= FUNCIONES"
      ],
      "metadata": {
        "id": "MJ1tYmxRD7ad"
      }
    },
    {
      "cell_type": "code",
      "source": [
        "# 1.- Escribe un código que lee la lista siguiente y realiza:\n",
        "   # 1. Leer el tamaño de la lista\n",
        "   # 2. Leer el valor máximo y mínimo\n",
        "   # 3. Calcular la suma de los valores de la lista\n",
        "   # 4. Mostrar un mensaje al final: La lista tiene `tamano` números, donde el mayor\n",
        "        # es `mayor` y el menor es `menor`. La suma de los valores es `suma`\n",
        "\n",
        "Lista = [16, 14, 63, 65, 17, 99, 70, 11, 20, 48, 79, 32, 17, 89, 12, 25, 66]\n",
        "\n",
        "tamaño_lista= len(Lista)\n",
        "\n",
        "mayor_valor= max(Lista)\n",
        "\n",
        "menor_valor= min(Lista)\n",
        "\n",
        "suma_valores= sum(Lista)\n",
        "\n",
        "print(f\"La lista tiene {tamaño_lista} números, donde el mayor es {mayor_valor} y el menor es {menor_valor}. La suma de los valores es {suma_valores}\")\n"
      ],
      "metadata": {
        "colab": {
          "base_uri": "https://localhost:8080/"
        },
        "id": "rs-K4TD6D6-7",
        "outputId": "df05294b-d11f-4c48-f6e2-765648fafcf3"
      },
      "execution_count": null,
      "outputs": [
        {
          "output_type": "stream",
          "name": "stdout",
          "text": [
            "La lista tiene 17 números, donde el mayor es 99 y el menor es 11. La suma de los valores es 743\n"
          ]
        }
      ]
    },
    {
      "cell_type": "code",
      "source": [
        "# 2 - Escribe una función que genere la tabla de multiplicar de un número entero del 1 al 10, según la elección del usuario.\n",
        "#Como ejemplo, para el número 7, la tabla de multiplicar se debe mostrar en el siguiente formato:\n",
        "# Tabla del  7:\n",
        "# 7 x 0 = 0\n",
        "# 7 x 1 = 7\n",
        "# [...]\n",
        "# 7 x 10 = 70\n",
        "\n",
        "def tabla_multiplicar(numero):\n",
        "    print(f\"Tabla del {numero}:\")\n",
        "    for i in range(1,11):\n",
        "        print(f\"{numero} x {i} = {numero*i}\")\n",
        "\n",
        "tabla_multiplicar(8)"
      ],
      "metadata": {
        "colab": {
          "base_uri": "https://localhost:8080/"
        },
        "id": "ru4_mtdtESUZ",
        "outputId": "b8f023fa-2a1d-4bf0-83ae-cdedcda4dc6a"
      },
      "execution_count": null,
      "outputs": [
        {
          "output_type": "stream",
          "name": "stdout",
          "text": [
            "Tabla del 8:\n",
            "8 x 1 = 8\n",
            "8 x 2 = 16\n",
            "8 x 3 = 24\n",
            "8 x 4 = 32\n",
            "8 x 5 = 40\n",
            "8 x 6 = 48\n",
            "8 x 7 = 56\n",
            "8 x 8 = 64\n",
            "8 x 9 = 72\n",
            "8 x 10 = 80\n"
          ]
        }
      ]
    },
    {
      "cell_type": "code",
      "source": [
        "# 3 - Crea una función que lea la siguiente lista y devuelva una nueva lista con los múltiplos de 3:\n",
        "\n",
        "def multiplos_de_tres(lista):\n",
        "    return [num for num in lista if num % 3 == 0]\n",
        "\n",
        "# Uso de la función\n",
        "lista_original = [97, 80, 94, 88, 80, 1, 16, 53, 62, 32, 24, 99]\n",
        "mult_3 = multiplos_de_tres(lista_original)\n",
        "print(mult_3)"
      ],
      "metadata": {
        "colab": {
          "base_uri": "https://localhost:8080/"
        },
        "id": "cOcgqwYSESQ8",
        "outputId": "50e518ea-2acf-4e48-b3c9-aab14af7712c"
      },
      "execution_count": null,
      "outputs": [
        {
          "output_type": "stream",
          "name": "stdout",
          "text": [
            "[24, 99]\n"
          ]
        }
      ]
    },
    {
      "cell_type": "code",
      "source": [
        "# 4 - Crea una lista de los cuadrados de los números de la siguiente lista [1, 2, 3, 4, 5, 6, 7, 8, 9, 10].\n",
        "# Recuerda utilizar las funciones lambda y map() para calcular el cuadrado de cada elemento de la lista.\n",
        "\n",
        "numeros = [1, 2, 3, 4, 5, 6, 7, 8, 9, 10]\n",
        "cuadrados= list(map(lambda x: x**2, numeros))\n",
        "print(cuadrados)"
      ],
      "metadata": {
        "colab": {
          "base_uri": "https://localhost:8080/"
        },
        "id": "HS8L-Uw0ESNg",
        "outputId": "a4fd0a4b-b724-40c1-90f5-63ba558e34c0"
      },
      "execution_count": null,
      "outputs": [
        {
          "output_type": "stream",
          "name": "stdout",
          "text": [
            "[1, 4, 9, 16, 25, 36, 49, 64, 81, 100]\n"
          ]
        }
      ]
    },
    {
      "cell_type": "code",
      "source": [
        "#Usando list comprehension en vez de map.\n",
        "numeros = [1, 2, 3, 4, 5, 6, 7, 8, 9, 10]\n",
        "cuadrados = [x**2 for x in numeros]\n",
        "print(cuadrados)"
      ],
      "metadata": {
        "colab": {
          "base_uri": "https://localhost:8080/"
        },
        "id": "6RahRhT8a_F_",
        "outputId": "75d6e2d0-62bd-4ed1-f682-e0eaef9c8ec0"
      },
      "execution_count": null,
      "outputs": [
        {
          "output_type": "stream",
          "name": "stdout",
          "text": [
            "[1, 4, 9, 16, 25, 36, 49, 64, 81, 100]\n"
          ]
        }
      ]
    },
    {
      "cell_type": "code",
      "source": [
        "# 5 - Has sido contratado como científico(a) de datos de una asociación de skate.\n",
        "# Para analizar las notas recibidas por los skaters en algunas competiciones a lo largo del año, necesitas crear un código que calcule la puntuación de los atletas.\n",
        "# Para ello, tu código debe recibir 5 notas ingresadas por los jueces.\n",
        "\n",
        "notas_jueces = [float(input(f\"Ingrese la nota del juez {i + 1}: \")) for i in range(5)]\n",
        "notas_jueces.sort()\n",
        "media = sum(notas_jueces[1:4]) / 3\n",
        "print(f'La puntuación del competidor es: {media:.2f}')"
      ],
      "metadata": {
        "colab": {
          "base_uri": "https://localhost:8080/"
        },
        "id": "Yvrrh3wxESJp",
        "outputId": "f24446d7-6735-4b00-9d7a-b5d34d3d24ce"
      },
      "execution_count": null,
      "outputs": [
        {
          "output_type": "stream",
          "name": "stdout",
          "text": [
            "Ingrese la nota del juez 1: 5\n",
            "Ingrese la nota del juez 2: 5\n",
            "Ingrese la nota del juez 3: 4\n",
            "Ingrese la nota del juez 4: 4\n",
            "Ingrese la nota del juez 5: 5\n",
            "La puntuación del competidor es: 4.67\n"
          ]
        }
      ]
    },
    {
      "cell_type": "code",
      "source": [
        "# 6 - Para cumplir con una demanda de una institución educativa para el análisis del rendimiento de sus estudiantes,\n",
        "# necesitas crear una función que reciba una lista de 4 notas y devuelva:\n",
        "# mayor nota\n",
        "# menor nota\n",
        "# media\n",
        "# situación (Aprobado(a) o Reprobado(a))\n",
        "# Uso de la función\n",
        "# Mostrar: El estudiante obtuvo una media de `media`, con la mayor nota de `mayor` puntos y la menor nota de `menor` puntos y fue `situacion`.)\n",
        "\n",
        "def analisis_notas(notas):\n",
        "    mayor_nota = max(notas)\n",
        "    menor_nota = min(notas)\n",
        "    media = sum(notas) / len(notas)\n",
        "    situacion = \"Aprobado\" if media >= 6 else \"Reprobado\"\n",
        "    return mayor_nota, menor_nota, media, situacion\n",
        "\n",
        "notas_estudiantes = [float(input(f\"Ingrese la nota del estudiante {i + 1}: \")) for i in range(4)]\n",
        "mayor, menor, media, situacion = analisis_notas(notas_estudiantes)\n",
        "print(f\"El estudiante obtuvo una media de {media:.2f}, con la mayor nota de {mayor} puntos y la menor nota de {menor} puntos y fue {situacion}.\")"
      ],
      "metadata": {
        "colab": {
          "base_uri": "https://localhost:8080/"
        },
        "id": "-WB6m6VBESC3",
        "outputId": "63fb1d14-0967-4212-8074-1dbc69d082d0"
      },
      "execution_count": null,
      "outputs": [
        {
          "output_type": "stream",
          "name": "stdout",
          "text": [
            "Ingrese la nota del estudiante 1: 5\n",
            "Ingrese la nota del estudiante 2: 4\n",
            "Ingrese la nota del estudiante 3: 6\n",
            "Ingrese la nota del estudiante 4: 7\n",
            "El estudiante obtuvo una media de 5.50, con la mayor nota de 7.0 puntos y la menor nota de 4.0 puntos y fue Reprobado.\n"
          ]
        }
      ]
    },
    {
      "cell_type": "code",
      "source": [
        "# 7 - Has recibido una demanda para tratar 2 listas con los nombres y apellidos de cada estudiante concatenándolos para presentar\n",
        "# sus nombres completos en la forma Nombre Apellido. Las listas son:\n",
        "# Normalizar nombres y apellidos y crear una nueva lista con los nombres completos\n",
        "# Puedes apoyarte en la función map()\n",
        "\n",
        "nombres = [\"juan\", \"MaRia\", \"JOSÉ\"]\n",
        "apellidos = [\"SILVA\", \"sosa\", \"Tavares\"]\n",
        "\n",
        "def concatenar_nombres_apellidos(nombres, apellidos):\n",
        "    nombres_mayuscula = [nombre.upper() for nombre in nombres]\n",
        "    apellidos_mayuscula = [apellido.upper() for apellido in apellidos]\n",
        "    nombres_completos = list(map(lambda x, y: x + \" \" + y, nombres_mayuscula, apellidos_mayuscula))\n",
        "    return nombres_completos\n",
        "\n",
        "nombres_completos = concatenar_nombres_apellidos(nombres, apellidos)\n",
        "print(nombres_completos)\n",
        "\n"
      ],
      "metadata": {
        "colab": {
          "base_uri": "https://localhost:8080/"
        },
        "id": "4je51kbSFPjU",
        "outputId": "3840f08b-e48b-48ff-f2ba-b4651568955d"
      },
      "execution_count": null,
      "outputs": [
        {
          "output_type": "stream",
          "name": "stdout",
          "text": [
            "['JUAN SILVA', 'MARIA SOSA', 'JOSÉ TAVARES']\n"
          ]
        }
      ]
    },
    {
      "cell_type": "code",
      "source": [
        "# Forma con menos codigo y sin map.\n",
        "\n",
        "nombres = [\"juan\", \"MaRia\", \"JOSÉ\"]\n",
        "apellidos = [\"SILVA\", \"sosa\", \"Tavares\"]\n",
        "\n",
        "def concatenar_nombres_apellidos(nombres, apellidos):\n",
        "    return [f\"{n.upper()} {a.upper()}\" for n, a in zip(nombres, apellidos)]\n",
        "\n",
        "nombres_completos = concatenar_nombres_apellidos(nombres, apellidos)\n",
        "print(nombres_completos)"
      ],
      "metadata": {
        "colab": {
          "base_uri": "https://localhost:8080/"
        },
        "id": "EgS67qiF72mX",
        "outputId": "134b13ea-7cfd-438a-aad2-91c363997a51"
      },
      "execution_count": null,
      "outputs": [
        {
          "output_type": "stream",
          "name": "stdout",
          "text": [
            "['JUAN SILVA', 'MARIA SOSA', 'JOSÉ TAVARES']\n"
          ]
        }
      ]
    },
    {
      "cell_type": "code",
      "source": [
        "# 8 - Como científico de datos en un equipo de fútbol, necesitas implementar nuevas formas de recopilación de datos sobre el rendimiento\n",
        "# de los jugadores y del equipo en su conjunto. Tu primera acción es crear una forma de calcular la puntuación del equipo en el campeonato nacional\n",
        "# a partir de los datos de goles marcados y recibidos en cada juego.\n",
        "# Escribe una función llamada calcula_puntos() que recibe como parámetros dos listas de números enteros, representando los goles marcados y recibidos\n",
        "# por el equipo en cada partido del campeonato. La función debe devolver la puntuación del equipo y el rendimiento en porcentaje, teniendo en cuenta que\n",
        "# la victoria vale 3 puntos, el empate 1 punto y la derrota 0 puntos.\n",
        "# Nota: si la cantidad de goles marcados en un partido es mayor que los recibidos, el equipo ganó.\n",
        "# En caso de ser igual, el equipo empató, y si es menor, el equipo perdió. Para calcular el rendimiento,\n",
        "# debemos hacer la razón entre la puntuación del equipo y la puntuación máxima que podría recibir.\n",
        "# Para la prueba, utiliza las siguientes listas de goles marcados y recibidos:\n",
        "# Texto probablemente mostrado:\n",
        "# La puntuación del equipo fue `puntos` y su rendimiento fue `desempeno`%\"\n",
        "\n",
        "goles_marcados = [2, 1, 3, 1, 0]\n",
        "goles_recibidos = [1, 2, 2, 1, 3]\n",
        "\n",
        "def calcula_puntos(goles_marcados, goles_recibidos):\n",
        "    puntos = 0\n",
        "    for i in range(len(goles_marcados)):\n",
        "        if goles_marcados[i] > goles_recibidos[i]:\n",
        "            puntos += 3\n",
        "        elif goles_marcados[i] == goles_recibidos[i]:\n",
        "            puntos += 1\n",
        "        else:\n",
        "            puntos += 0\n",
        "    rendimiento = puntos / (len(goles_marcados) * 3) * 100\n",
        "    return puntos, rendimiento\n",
        "\n",
        "puntos, rendimiento = calcula_puntos(goles_marcados, goles_recibidos)\n",
        "print(f\"La puntuación del equipo fue {puntos} y su rendimiento fue { round(rendimiento)}%\")"
      ],
      "metadata": {
        "colab": {
          "base_uri": "https://localhost:8080/"
        },
        "id": "WVGv84XAFPb8",
        "outputId": "acbeee01-b3bd-49fb-9818-1769205101b7"
      },
      "execution_count": null,
      "outputs": [
        {
          "output_type": "stream",
          "name": "stdout",
          "text": [
            "La puntuación del equipo fue 7 y su rendimiento fue 47%\n"
          ]
        }
      ]
    },
    {
      "cell_type": "code",
      "source": [
        "#9 - Te han desafiado a crear un código que calcule los gastos de un viaje a una de las cuatro ciudades desde Recife, siendo ellas: Salvador, Fortaleza, Natal y Aracaju.\n",
        "# El costo diario del hotel es de 150 reales en todas ellas y el consumo de gasolina en el viaje en coche es de 14 km/l, siendo que el precio de la gasolina es de 5 reales por litro.\n",
        "# Los gastos con paseos y alimentación a realizar en cada una de ellas por día serían [200, 400, 250, 300], respectivamente.\n",
        "# Sabiendo que las distancias entre Recife y cada una de las ciudades son aproximadamente [850, 800, 300, 550] km,\n",
        "# Crea tres funciones: la primera función calcula los gastos de hotel (gasto_hotel), la segunda calcula los gastos de gasolina (gasto_gasolina) y\n",
        "# la tercera los gastos de paseo y alimentación (gasto_paseo).\n",
        "# Para probar, simula un viaje de 3 días a Salvador desde Recife. Considera el viaje de ida y vuelta en coche.\n",
        "# Texto probablemente mostrado:\n",
        "# Con base en los gastos definidos, un viaje de [dias] días a [ciudad] desde\n",
        "# Recife costaría [gastos] reales.\n",
        "\n",
        "dias = int(input(\"¿Cuántos dias? \"))\n",
        "ciudad = input(\"¿A que ciudad? [Salvador, Fortaleza, Natal o Aracaju]: \")\n",
        "distancias = [850, 800, 300, 550]\n",
        "paseo = [200, 400, 250, 300]\n",
        "km_l = 14\n",
        "gasolina = 5\n",
        "\n",
        "def gasto_hotel(dias):\n",
        "    return 150 * dias\n",
        "\n",
        "def gasto_gasolina(ciudad):\n",
        "    if ciudad == \"Salvador\":\n",
        "        return (2 * distancias[0] * gasolina) / km_l\n",
        "    elif ciudad == \"Fortaleza\":\n",
        "        return (2 * distancias[1] * gasolina) / km_l\n",
        "    elif ciudad == \"Natal\":\n",
        "        return (2 * distancias[2] * gasolina) / km_l\n",
        "    elif ciudad == \"Aracaju\":\n",
        "        return (2 * distancias[3] * gasolina) / km_l\n",
        "\n",
        "def gasto_paseo(ciudad, dias):\n",
        "    if ciudad==\"Salvador\":\n",
        "        return paseo[0] * dias\n",
        "    elif ciudad==\"Fortaleza\":\n",
        "        return paseo[1] * dias\n",
        "    elif ciudad==\"Natal\":\n",
        "        return paseo[2] * dias\n",
        "    elif ciudad==\"Aracaju\":\n",
        "        return paseo[3] * dias\n",
        "\n",
        "gastos = gasto_hotel(dias) + gasto_gasolina(ciudad) + gasto_paseo(ciudad, dias)\n",
        "print(f\"Con base en los gastos definidos, un viaje de {dias} días desde Recife a {ciudad} costaría {round(gastos, 2)} reales\")\n"
      ],
      "metadata": {
        "colab": {
          "base_uri": "https://localhost:8080/"
        },
        "id": "VPj0RleuCEnA",
        "outputId": "b6b4b150-27a7-475c-e4ce-463a2edc9650"
      },
      "execution_count": null,
      "outputs": [
        {
          "output_type": "stream",
          "name": "stdout",
          "text": [
            "¿Cuántas diarias? 3\n",
            "¿Cuál es la ciudad? [Salvador, Fortaleza, Natal o Aracaju]: Salvador\n",
            "Con base en los gastos definidos, un viaje de 3 días a Salvador desde Recife costaría 1657.14 reales\n"
          ]
        }
      ]
    },
    {
      "cell_type": "code",
      "source": [
        "km_l = 14\n",
        "gasolina = 5\n",
        "hotel_por_dia = 150\n",
        "\n",
        "datos_ciudad = {\n",
        "    \"Salvador\":   {\"distancia\": 850, \"paseo\": 200},\n",
        "    \"Fortaleza\":  {\"distancia\": 800, \"paseo\": 400},\n",
        "    \"Natal\":      {\"distancia\": 300, \"paseo\": 250},\n",
        "    \"Aracaju\":    {\"distancia\": 550, \"paseo\": 300}\n",
        "}\n",
        "dias = int(input(\"¿Cuántos dias? \"))\n",
        "ciudad = input(\"¿A que es la ciudad? [Salvador, Fortaleza, Natal o Aracaju]: \")\n",
        "\n",
        "dist = datos_ciudad[ciudad][\"distancia\"]\n",
        "paseo_diario = datos_ciudad[ciudad][\"paseo\"]\n",
        "\n",
        "gasto_hotel = hotel_por_dia * dias\n",
        "gasto_gasolina = (2 * dist * gasolina) / km_l\n",
        "gasto_paseo = paseo_diario * dias\n",
        "\n",
        "total = gasto_hotel + gasto_gasolina + gasto_paseo\n",
        "\n",
        "# Resultado\n",
        "print(f\"Con base en los gastos definidos, un viaje de {dias} días desde Recife a {ciudad} costaría {round(total, 2)} reales.\")"
      ],
      "metadata": {
        "colab": {
          "base_uri": "https://localhost:8080/"
        },
        "id": "Dl7GGSBrGmAM",
        "outputId": "858cefc1-8d4c-41e1-f5b3-4790710bb17c"
      },
      "execution_count": null,
      "outputs": [
        {
          "output_type": "stream",
          "name": "stdout",
          "text": [
            "¿Cuántos dias? 3\n",
            "¿A que es la ciudad? [Salvador, Fortaleza, Natal o Aracaju]: Salvador\n",
            "Con base en los gastos definidos, un viaje de 3 díasdesde Recife a Salvador costaría 1657.14 reales.\n"
          ]
        }
      ]
    },
    {
      "cell_type": "code",
      "source": [
        "# 10 - Has comenzado una pasantía en una empresa que trabaja con procesamiento de lenguaje natural (NLP).\n",
        "# Tu líder te solicitó que crees un fragmento de código que reciba una frase escrita por el usuario y filtre solo las palabras con un tamaño mayor o igual a 5,# mostrándolas en una lista.\n",
        "# Esta demanda se centra en el análisis del patrón de comportamiento de las personas al escribir palabras de esta cantidad de caracteres o más.\n",
        "# Consejo: utiliza las funciones lambda y filter() para filtrar estas palabras. Recordando que la función integrada filter() recibe una función (en nuestro caso,\n",
        "# una función lambda) y filtra un iterable según la función. Para tratar la frase, utiliza replace() para cambiar ',' '.', '!' y '?' por espacio.\n",
        "# Utiliza la frase \"Aprender Python aquí en Alura es muy bueno\" para probar el código.\n",
        "\n",
        "frase = input(\"Escribe una frase: \")\n",
        "frase = frase.replace(',',' ').replace('.',' ').replace('!',' ').replace('?',' ').split()\n",
        "\n",
        "# Filtrando la frase en formato de lista, pasando a la lista tamaño\n",
        "# solo las palabras con 5 o más caracteres e imprimiéndola en pantalla\n",
        "tamano = list(filter(lambda x: len(x) >= 5, frase))\n",
        "print(tamano)\n"
      ],
      "metadata": {
        "colab": {
          "base_uri": "https://localhost:8080/"
        },
        "id": "0cL-fzX6GlES",
        "outputId": "aa20f689-4b4d-46a9-f223-8fe79f7e53a0"
      },
      "execution_count": null,
      "outputs": [
        {
          "output_type": "stream",
          "name": "stdout",
          "text": [
            "Escribe una frase: hola me llamo gabo y estoy en quillota\n",
            "['llamo', 'estoy', 'quillota']\n"
          ]
        }
      ]
    },
    {
      "cell_type": "code",
      "source": [
        "# usa list comprehension.\n",
        "\n",
        "frase = input(\"Escribe una frase: \")\n",
        "palabras = frase.replace(',', ' ').replace('.', ' ').replace('!', ' ').replace('?', ' ').split()\n",
        "tamano = [palabra for palabra in palabras if len(palabra) >= 5]\n",
        "print(tamano)\n"
      ],
      "metadata": {
        "colab": {
          "base_uri": "https://localhost:8080/"
        },
        "id": "CLVAWBVdJVkG",
        "outputId": "db80ebef-ab2f-4280-9e35-d2dfac3987f3"
      },
      "execution_count": null,
      "outputs": [
        {
          "output_type": "stream",
          "name": "stdout",
          "text": [
            "Escribe una frase: hola me llamo gabo y estoy en quillota\n",
            "['llamo', 'estoy', 'quillota']\n"
          ]
        }
      ]
    },
    {
      "cell_type": "code",
      "source": [
        "# Usa modulo re para buscar, reemplazar o validar textos.\n",
        "\n",
        "import re\n",
        "\n",
        "frase = input(\"Escribe una frase: \")\n",
        "palabras = re.findall(r'\\b\\w+\\b', frase)  # Encuentra palabras ignorando puntuación\n",
        "tamano = [p for p in palabras if len(p) >= 5]\n",
        "print(tamano)"
      ],
      "metadata": {
        "colab": {
          "base_uri": "https://localhost:8080/"
        },
        "id": "TdMdYBheJ-xf",
        "outputId": "664dc4ce-d30a-4430-e94a-342b973e38ce"
      },
      "execution_count": null,
      "outputs": [
        {
          "output_type": "stream",
          "name": "stdout",
          "text": [
            "Escribe una frase: hola como estas , me llamo gabo y estoy en quillota\n",
            "['estas', 'llamo', 'estoy', 'quillota']\n"
          ]
        }
      ]
    },
    {
      "cell_type": "code",
      "source": [
        "#Codigo muy compacto.\n",
        "\n",
        "print([p for p in input(\"Escribe una frase: \").replace(',', ' ').replace('.', ' ').replace('!', ' ').replace('?', ' ').split() if len(p) >= 5])\n"
      ],
      "metadata": {
        "colab": {
          "base_uri": "https://localhost:8080/"
        },
        "id": "ehZe7_4BKlqO",
        "outputId": "9f33a06c-a1a3-4d46-ff9d-7370384b7b8c"
      },
      "execution_count": null,
      "outputs": [
        {
          "output_type": "stream",
          "name": "stdout",
          "text": [
            "Escribe una frase: hola como estas?, me llamo gabo y estoy en quillota\n",
            "['estas', 'llamo', 'estoy', 'quillota']\n"
          ]
        }
      ]
    },
    {
      "cell_type": "markdown",
      "source": [
        "EJERCICIOS CLASE  4 CURSO DOS.\n"
      ],
      "metadata": {
        "id": "j6ySHbggQ3it"
      }
    },
    {
      "cell_type": "code",
      "source": [
        "# 1 - Crea un código para imprimir la suma de los elementos de cada una de las listas contenidas en la siguiente lista:\n",
        "\n",
        "lista_de_listas = [[4, 6, 5, 9], [1, 0, 7, 2], [3, 4, 1, 8]]\n",
        "\n",
        "suma_listas = [sum(lista) for lista in lista_de_listas]\n",
        "print(suma_listas)\n"
      ],
      "metadata": {
        "id": "nBTNnaLFQyFc",
        "colab": {
          "base_uri": "https://localhost:8080/"
        },
        "outputId": "c5fdd4eb-1ca5-469f-8d59-0d3a72e9e371"
      },
      "execution_count": 1,
      "outputs": [
        {
          "output_type": "stream",
          "name": "stdout",
          "text": [
            "[24, 10, 16]\n"
          ]
        }
      ]
    },
    {
      "cell_type": "code",
      "source": [
        "#respuesta del profesor\n",
        "for lista in lista_de_listas:\n",
        "    print(sum(lista))"
      ],
      "metadata": {
        "colab": {
          "base_uri": "https://localhost:8080/"
        },
        "id": "2OtMbD3QSBdQ",
        "outputId": "cb432d6a-000e-4836-e8d7-ea105aeb763e"
      },
      "execution_count": 2,
      "outputs": [
        {
          "output_type": "stream",
          "name": "stdout",
          "text": [
            "24\n",
            "10\n",
            "16\n"
          ]
        }
      ]
    },
    {
      "cell_type": "code",
      "source": [
        "# 2 - Crea un código para generar una lista que almacene el tercer elemento de cada tupla contenida en la siguiente lista de tuplas:\n",
        "\n",
        "lista_de_tuplas = [('Pedro', 1.74, 81), ('Júlia', 1.65, 67), ('Otávio', 1.81, 83)]\n",
        "\n",
        "tercer_elemento = [tupla[2] for tupla in lista_de_tuplas]\n",
        "print(tercer_elemento)"
      ],
      "metadata": {
        "id": "w_J9N87QR3UZ",
        "colab": {
          "base_uri": "https://localhost:8080/"
        },
        "outputId": "7f20f4dc-7da9-431b-8280-1fe5baf98798"
      },
      "execution_count": 3,
      "outputs": [
        {
          "output_type": "stream",
          "name": "stdout",
          "text": [
            "[81, 67, 83]\n"
          ]
        }
      ]
    },
    {
      "cell_type": "code",
      "source": [
        "lista = []\n",
        "for tupla in lista_de_tuplas:\n",
        "    lista.append(tupla[2])\n",
        "print(lista)"
      ],
      "metadata": {
        "colab": {
          "base_uri": "https://localhost:8080/"
        },
        "id": "XGFO1EofSeN7",
        "outputId": "71ab8498-2e03-44d7-aae6-ef40eca16fe4"
      },
      "execution_count": 4,
      "outputs": [
        {
          "output_type": "stream",
          "name": "stdout",
          "text": [
            "[81, 67, 83]\n"
          ]
        }
      ]
    },
    {
      "cell_type": "code",
      "source": [
        "# 3 - A partir de la lista: lista = ['Pedro', 'Júlia', 'Otávio', 'Eduardo'], crea un códio para generar una lista de tuplas\n",
        "# en la que cada tupla tenga el primer elemento como la posición del nombre en la lista original y el segundo elemento siendo el propio nombre.#\n",
        "\n",
        "lista = ['Pedro', 'Júlia', 'Otávio', 'Eduardo']\n",
        "\n",
        "lista_tuplas = [(lista.index(nombre), nombre) for nombre in lista]\n",
        "print(lista_tuplas)"
      ],
      "metadata": {
        "id": "rFZ6Ha2nRna3",
        "colab": {
          "base_uri": "https://localhost:8080/"
        },
        "outputId": "aef3d75c-c0a7-4a12-8284-d8baf315d602"
      },
      "execution_count": 5,
      "outputs": [
        {
          "output_type": "stream",
          "name": "stdout",
          "text": [
            "[(0, 'Pedro'), (1, 'Júlia'), (2, 'Otávio'), (3, 'Eduardo')]\n"
          ]
        }
      ]
    },
    {
      "cell_type": "code",
      "source": [
        "#Respuesta del profesor\n",
        "lista_de_tuplas = []\n",
        "for i in range(len(lista)):\n",
        "    lista_de_tuplas.append((i, lista[i]))\n",
        "print(lista_de_tuplas)\n"
      ],
      "metadata": {
        "colab": {
          "base_uri": "https://localhost:8080/"
        },
        "id": "sH6IKAflS7ks",
        "outputId": "79322452-c5d4-4544-97e7-8aedd6c48099"
      },
      "execution_count": 6,
      "outputs": [
        {
          "output_type": "stream",
          "name": "stdout",
          "text": [
            "[(0, 'Pedro'), (1, 'Júlia'), (2, 'Otávio'), (3, 'Eduardo')]\n"
          ]
        }
      ]
    },
    {
      "cell_type": "code",
      "source": [
        "#4 - Crea una lista usando la comprensión de listas (list comprehension) que almacene solo el valor numérico de cada tupla en caso de que el primer elemento\n",
        "# sea 'Apartamento', a partir de la siguiente lista de tuplas:\n",
        "\n",
        "alquiler = [('Apartamento', 1700), ('Apartamento', 1400), ('Casa', 2150), ('Apartamento', 1900), ('Casa', 1100)]\n",
        "\n",
        "valor_numerico = [tupla[1] for tupla in alquiler if tupla[0] == 'Apartamento']\n",
        "print(valor_numerico)"
      ],
      "metadata": {
        "id": "w10QsprTQyCP",
        "colab": {
          "base_uri": "https://localhost:8080/"
        },
        "outputId": "f89e9f64-ae66-4047-d0d5-7e4505ea04d2"
      },
      "execution_count": 7,
      "outputs": [
        {
          "output_type": "stream",
          "name": "stdout",
          "text": [
            "[1700, 1400, 1900]\n"
          ]
        }
      ]
    },
    {
      "cell_type": "code",
      "source": [
        "lista = [tupla[1] for tupla in alquiler if tupla[0]== 'Apartamento']\n",
        "print(lista)"
      ],
      "metadata": {
        "colab": {
          "base_uri": "https://localhost:8080/"
        },
        "id": "EYz7-nO9UJl1",
        "outputId": "c0ac6537-36d0-4bcf-9871-67df02641323"
      },
      "execution_count": 8,
      "outputs": [
        {
          "output_type": "stream",
          "name": "stdout",
          "text": [
            "[1700, 1400, 1900]\n"
          ]
        }
      ]
    },
    {
      "cell_type": "code",
      "source": [
        "# 5 - Crea un diccionario usando la comprensión de diccionarios (dict comprehension) en el que las claves estén en la\n",
        "\n",
        "meses = ['Jan', 'Fev', 'Mar', 'Abr', 'Mai', 'Jun', 'Jul', 'Ago', 'Set', 'Out', 'Nov', 'Dez']\n",
        "# y los valores estén en\n",
        "\n",
        "gasto = [860, 490, 1010, 780, 900, 630, 590, 770, 620, 560, 840, 360]\n",
        "\n",
        "dict = {meses[i]:gasto[i] for i in range(len(meses))}\n",
        "print(dict)\n"
      ],
      "metadata": {
        "id": "FqzV-y04Qx-8",
        "colab": {
          "base_uri": "https://localhost:8080/"
        },
        "outputId": "d0a66ac1-826f-44fe-ea80-2591a3726ca6"
      },
      "execution_count": 13,
      "outputs": [
        {
          "output_type": "stream",
          "name": "stdout",
          "text": [
            "{'Jan': 860, 'Fev': 490, 'Mar': 1010, 'Abr': 780, 'Mai': 900, 'Jun': 630, 'Jul': 590, 'Ago': 770, 'Set': 620, 'Out': 560, 'Nov': 840, 'Dez': 360}\n"
          ]
        }
      ]
    },
    {
      "cell_type": "code",
      "source": [
        "diccionario = {meses[i]: gasto[i] for i in range(len(meses))}\n",
        "print(diccionario)"
      ],
      "metadata": {
        "colab": {
          "base_uri": "https://localhost:8080/"
        },
        "id": "kEm2hCDGVWEK",
        "outputId": "fcf07cd7-5576-4b88-8543-00bd3f0dc25c"
      },
      "execution_count": 14,
      "outputs": [
        {
          "output_type": "stream",
          "name": "stdout",
          "text": [
            "{'Jan': 860, 'Fev': 490, 'Mar': 1010, 'Abr': 780, 'Mai': 900, 'Jun': 630, 'Jul': 590, 'Ago': 770, 'Set': 620, 'Out': 560, 'Nov': 840, 'Dez': 360}\n"
          ]
        }
      ]
    },
    {
      "cell_type": "code",
      "source": [
        "# 6 - Una tienda tiene una base de datos con la información de venta de cada representante y de cada año y necesita filtrar solo los datos del año 2022 con ventas mayores a 6000.\n",
        "# La tienda proporcionó una muestra con solo las columnas de los años y los valores de venta para que puedas ayudar a realizar la filtración de los datos a través de un código:\n",
        "\n",
        "ventas = [('2023', 4093), ('2021', 4320), ('2021', 5959), ('2022', 8883), ('2023', 9859), ('2022', 5141), ('2022', 7688), ('2022', 9544), ('2023', 4794), ('2021', 7178), ('2022', 3030), ('2021', 7471), ('2022', 4226), ('2022', 8190), ('2021', 9680), ('2022', 5616)]\n",
        "\n",
        "#  Crea una lista usando la comprensión de listas para filtrar los valores de 2022 que sean mayores a 6000.\n",
        "\n",
        "ventas_2022 = [venta for venta in ventas if venta[0] == '2022' and venta[1] > 6000]\n",
        "print(ventas_2022)\n"
      ],
      "metadata": {
        "id": "M9-HbvTKQx7e",
        "colab": {
          "base_uri": "https://localhost:8080/"
        },
        "outputId": "461bbc6d-97fe-4c51-de8b-30e69b351ef8"
      },
      "execution_count": 15,
      "outputs": [
        {
          "output_type": "stream",
          "name": "stdout",
          "text": [
            "[('2022', 8883), ('2022', 7688), ('2022', 9544), ('2022', 8190)]\n"
          ]
        }
      ]
    },
    {
      "cell_type": "code",
      "source": [
        "filtro = [tupla[1] for tupla in ventas if tupla[0] == '2022' and tupla[1] > 6000]\n",
        "print(filtro)"
      ],
      "metadata": {
        "colab": {
          "base_uri": "https://localhost:8080/"
        },
        "id": "1rZFD3z1Vzjk",
        "outputId": "c0573cde-0431-4f4a-de67-d029dcd5b445"
      },
      "execution_count": 16,
      "outputs": [
        {
          "output_type": "stream",
          "name": "stdout",
          "text": [
            "[8883, 7688, 9544, 8190]\n"
          ]
        }
      ]
    },
    {
      "cell_type": "code",
      "source": [
        "# 7 - Una clínica analiza datos de pacientes y almacena el valor numérico de la glucosa en una base de datos y le gustaría etiquetar los datos de la siguiente manera:\n",
        "# Glucosa igual o inferior a 70: 'Hipoglicemia'\n",
        "# Glucosa entre 70 y 99: 'Normal'\n",
        "# Glucosa entre 100 y 125: 'Alterada'\n",
        "# Glucosa superior a 125: 'Diabetes'\n",
        "# La clínica proporcionó parte de los valores y tu tarea es crear una lista de tuplas usando la comprensión de listas\n",
        "# que contenga la etiqueta y el valor de la glucemia en cada tupla.\n",
        "\n",
        "glicemia = [129, 82, 60, 97, 101, 65, 62, 167, 87, 53, 58, 92, 66, 120, 109, 62, 86, 96, 103, 88, 155, 52, 89, 73]\n",
        "\n",
        "etiquetas = [('Hipoglicemia', valor) if valor <= 70 else ('Normal', valor) if valor <= 99 else ('Alterada', valor) if valor <= 125 else ('Diabetes', valor) for valor in glicemia]\n",
        "\n",
        "print(etiquetas)\n"
      ],
      "metadata": {
        "id": "1j_PQQ1nQx4N",
        "colab": {
          "base_uri": "https://localhost:8080/"
        },
        "outputId": "e8b53e03-6f32-4cd1-cd02-c8fde81173ed"
      },
      "execution_count": 24,
      "outputs": [
        {
          "output_type": "stream",
          "name": "stdout",
          "text": [
            "[('Diabetes', 129), ('Normal', 82), ('Hipoglicemia', 60), ('Normal', 97), ('Alterada', 101), ('Hipoglicemia', 65), ('Hipoglicemia', 62), ('Diabetes', 167), ('Normal', 87), ('Hipoglicemia', 53), ('Hipoglicemia', 58), ('Normal', 92), ('Hipoglicemia', 66), ('Alterada', 120), ('Alterada', 109), ('Hipoglicemia', 62), ('Normal', 86), ('Normal', 96), ('Alterada', 103), ('Normal', 88), ('Diabetes', 155), ('Hipoglicemia', 52), ('Normal', 89), ('Normal', 73)]\n"
          ]
        }
      ]
    },
    {
      "cell_type": "code",
      "source": [
        "etiquetas = [('Hipoglicemia', glucosa) if glucosa<= 70 else ('Normal', glucosa) if glucosa< 100 else ('Alterada', glucosa) if glucosa< 125 else ('Diabetes', glucosa) for glucosa in glicemia]\n",
        "print(etiquetas)"
      ],
      "metadata": {
        "colab": {
          "base_uri": "https://localhost:8080/"
        },
        "id": "rDQ76DzNXWw5",
        "outputId": "e32ef30f-12b8-49e0-a014-0980630c0440"
      },
      "execution_count": 20,
      "outputs": [
        {
          "output_type": "stream",
          "name": "stdout",
          "text": [
            "[('Diabetes', 129), ('Normal', 82), ('Hipoglicemia', 60), ('Normal', 97), ('Alterada', 101), ('Hipoglicemia', 65), ('Hipoglicemia', 62), ('Diabetes', 167), ('Normal', 87), ('Hipoglicemia', 53), ('Hipoglicemia', 58), ('Normal', 92), ('Hipoglicemia', 66), ('Alterada', 120), ('Alterada', 109), ('Hipoglicemia', 62), ('Normal', 86), ('Normal', 96), ('Alterada', 103), ('Normal', 88), ('Diabetes', 155), ('Hipoglicemia', 52), ('Normal', 89), ('Normal', 73)]\n"
          ]
        }
      ]
    },
    {
      "cell_type": "code",
      "source": [
        "# 8 - Un comercio electrónico tiene información de id de venta, cantidad vendida y precio del producto divididos en las siguientes listas:\n",
        "# Crea una lista de tuplas en la que cada tupla tenga id, cantidad, precio y valor total, siendo la primera tupla el encabezado de la tabla.\n",
        "# La plataforma necesita estructurar estos datos en una tabla que contenga el valor total de la venta, que se obtiene multiplicando la cantidad por el precio unitario.\n",
        "# Además, la tabla debe contener un encabezado indicando las columnas: 'id', 'cantidad', 'precio' y 'total'.\n",
        "\n",
        "id = [0, 1, 2, 3, 4, 5, 6, 7, 8, 9]\n",
        "cantidad = [15, 12, 1, 15, 2, 11, 2, 12, 2, 4]\n",
        "precio = [93.0, 102.0, 18.0, 41.0, 122.0, 14.0, 71.0, 48.0, 14.0, 144.0]\n",
        "\n",
        "tabla = [('id', 'cantidad', 'precio', 'total')]\n",
        "tabla.extend([(id[i], cantidad[i], precio[i], cantidad[i] * precio[i]) for i in range(len(id))])\n",
        "print(tabla)\n"
      ],
      "metadata": {
        "id": "9-25X0DvQxyF",
        "colab": {
          "base_uri": "https://localhost:8080/"
        },
        "outputId": "5a099de2-0078-4382-8a3c-2991cd30c44b"
      },
      "execution_count": 27,
      "outputs": [
        {
          "output_type": "stream",
          "name": "stdout",
          "text": [
            "[('id', 'cantidad', 'precio', 'total'), (0, 15, 93.0, 1395.0), (1, 12, 102.0, 1224.0), (2, 1, 18.0, 18.0), (3, 15, 41.0, 615.0), (4, 2, 122.0, 244.0), (5, 11, 14.0, 154.0), (6, 2, 71.0, 142.0), (7, 12, 48.0, 576.0), (8, 2, 14.0, 28.0), (9, 4, 144.0, 576.0)]\n"
          ]
        }
      ]
    },
    {
      "cell_type": "code",
      "source": [
        "tabla = [('id', 'cantidad', 'precio', 'total')]\n",
        "tabla += [(id[i], cantidad[i], precio[i], cantidad[i]*precio[i]) for i in range(len(id))]\n",
        "print(tabla)"
      ],
      "metadata": {
        "colab": {
          "base_uri": "https://localhost:8080/"
        },
        "id": "yptRVGGOYPr8",
        "outputId": "162ecbae-1303-4ff2-b144-f5b8a1882305"
      },
      "execution_count": 30,
      "outputs": [
        {
          "output_type": "stream",
          "name": "stdout",
          "text": [
            "[('id', 'cantidad', 'precio', 'total'), (0, 15, 93.0, 1395.0), (1, 12, 102.0, 1224.0), (2, 1, 18.0, 18.0), (3, 15, 41.0, 615.0), (4, 2, 122.0, 244.0), (5, 11, 14.0, 154.0), (6, 2, 71.0, 142.0), (7, 12, 48.0, 576.0), (8, 2, 14.0, 28.0), (9, 4, 144.0, 576.0)]\n"
          ]
        }
      ]
    },
    {
      "cell_type": "code",
      "source": [
        "#9 - Una empresa tiene sucursales distribuidas en los estados de la región Sudeste de Brasil.\n",
        "#En una de las tablas de registro de las sucursales, hay una columna que contiene la información de a qué estado pertenece:\n",
        "\n",
        "# La empresa siempre está abriendo nuevas sucursales, por lo que la tabla está constantemente recibiendo nuevos registros y al gerente le gustaría tener\n",
        "# la información actualizada de la cantidad de sucursales en cada estado.\n",
        "\n",
        "# # A partir de la columna con la información de los estados, crea un diccionario utilizando la comprensión de diccionarios (dict comprehension)\n",
        "# con la clave siendo el nombre de un estado y el valor siendo la cantidad de veces que aparece el estado en la lista.\n",
        "# Consejo: Puedes hacer un paso intermedio para generar una lista de listas en la que cada una de las listas tenga el nombre de solo un estado con valores repetidos.\n",
        "\n",
        "estados =['CMX', 'OAX', 'PUE', 'PUE', 'CMX', 'PUE', 'OAX', 'OAX', 'OAX', 'CMX', 'CMX', 'PUE', 'OAX', 'CMX', 'VER', 'PUE', 'VER', 'CMX', 'PUE', 'CMX', 'OAX', 'CMX', 'PUE']\n",
        "\n",
        "sucursales = {estado: estados.count(estado) for estado in estados}\n",
        "print(sucursales)"
      ],
      "metadata": {
        "id": "RIVdCoPoQxp_",
        "colab": {
          "base_uri": "https://localhost:8080/"
        },
        "outputId": "f83a674c-ac1f-4dfb-a605-6e56128ce7e6"
      },
      "execution_count": 32,
      "outputs": [
        {
          "output_type": "stream",
          "name": "stdout",
          "text": [
            "{'CMX': 8, 'OAX': 6, 'PUE': 7, 'VER': 2}\n"
          ]
        }
      ]
    },
    {
      "cell_type": "code",
      "source": [
        "# Almacenando los estados sin repetición de valor\n",
        "estados_unicos = list(set(estados))\n",
        "\n",
        "# Creando una lista de listas con valores repetidos de cada estado\n",
        "lista_de_listas = []\n",
        "for estado in estados_unicos:\n",
        "    lista = [e for e in estados if e == estado]\n",
        "    lista_de_listas.append(lista)\n",
        "print(lista_de_listas)\n",
        "\n",
        "# Creando un diccionario en el que la clave es el nombre de cada estado único y el valor es la cantidad de elementos\n",
        "conteo_valores = {estados_unicos[i]: len(lista_de_listas[i]) for i in range(len(estados_unicos))}\n",
        "print(conteo_valores)"
      ],
      "metadata": {
        "colab": {
          "base_uri": "https://localhost:8080/"
        },
        "id": "sqgqC3edY27G",
        "outputId": "20d852e7-d981-4716-db97-26b3b23c1994"
      },
      "execution_count": 33,
      "outputs": [
        {
          "output_type": "stream",
          "name": "stdout",
          "text": [
            "[['CMX', 'CMX', 'CMX', 'CMX', 'CMX', 'CMX', 'CMX', 'CMX'], ['PUE', 'PUE', 'PUE', 'PUE', 'PUE', 'PUE', 'PUE'], ['VER', 'VER'], ['OAX', 'OAX', 'OAX', 'OAX', 'OAX', 'OAX']]\n",
            "{'CMX': 8, 'PUE': 7, 'VER': 2, 'OAX': 6}\n"
          ]
        }
      ]
    },
    {
      "cell_type": "code",
      "source": [
        "#10 - En esa misma tabla de registro de sucursales, hay una columna con la información de la cantidad de personas empleadas y\n",
        "# el gerente quisiera tener un agrupamiento de la suma de esas personas para cada estado. Las informaciones contenidas en la tabla son:\n",
        "#A partir de la lista de tuplas, crea un diccionario en el que las claves son los nombres de los estados únicos y los valores son las listas\n",
        "# con el número de empleados referentes al estado.\n",
        "# También crea un diccionario en el que las claves son los nombres de los estados y los valores son la suma de empleados por estado\n",
        "\n",
        "empleados = [('CMX', 16), ('OAX', 8), ('PUE', 9), ('PUE', 6), ('CMX', 10), ('PUE', 4), ('OAX',9),  ('OAX', 7), ('OAX', 12), ('CMX', 7), ('CMX', 11), ('PUE',8), ('OAX',8), ('CMX',9), ('VER', 13), ('PUE', 5),  ('VER', 9), ('CMX', 12), ('PUE', 10), ('CMX', 7), ('OAX', 14), ('CMX', 10), ('PUE', 12)]\n",
        "\n",
        "num_empleados = {estado: [empleados[i][1] for i in range(len(empleados)) if empleados[i][0] == estado] for estado in set([empleados[i][0] for i in range(len(empleados))])}\n",
        "print(num_empleados)\n",
        "\n",
        "suma_empleados = {estado: sum([empleados[i][1] for i in range(len(empleados)) if empleados[i][0] == estado]) for estado in set([empleados[i][0] for i in range(len(empleados))])}\n",
        "print(suma_empleados)\n"
      ],
      "metadata": {
        "id": "yETel1DYQwgK",
        "colab": {
          "base_uri": "https://localhost:8080/"
        },
        "outputId": "68822dd8-c68e-40a4-abb9-9b0946295bc1"
      },
      "execution_count": 34,
      "outputs": [
        {
          "output_type": "stream",
          "name": "stdout",
          "text": [
            "{'CMX': [16, 10, 7, 11, 9, 12, 7, 10], 'PUE': [9, 6, 4, 8, 5, 10, 12], 'VER': [13, 9], 'OAX': [8, 9, 7, 12, 8, 14]}\n",
            "{'CMX': 82, 'PUE': 54, 'VER': 22, 'OAX': 58}\n"
          ]
        }
      ]
    },
    {
      "cell_type": "code",
      "source": [
        "# Almacenando los estados sin repetición de valor\n",
        "estados_unicos = list(set([tupla[0] for tupla in empleados]))\n",
        "\n",
        "# Creando una lista de listas con valores de empleados de cada estado\n",
        "lista_de_listas = []\n",
        "for estado in estados_unicos:\n",
        "    lista = [tupla[1] for tupla in empleados if tupla[0] == estado]\n",
        "    lista_de_listas.append(lista)\n",
        "print(lista_de_listas)\n",
        "\n",
        "# Creando un diccionario con datos agrupados de empleados por estado\n",
        "agrupamiento_por_estado = {estados_unicos[i]: lista_de_listas[i] for i in range(len(estados_unicos))}\n",
        "print(agrupamiento_por_estado)\n",
        "\n",
        "# Creando un diccionario con la suma de empleados por estado\n",
        "suma_por_estado = {estados_unicos[i]: sum(lista_de_listas[i]) for i in range(len(estados_unicos))}\n",
        "print(suma_por_estado)"
      ],
      "metadata": {
        "colab": {
          "base_uri": "https://localhost:8080/"
        },
        "id": "Z1k7Qq8xY3Z5",
        "outputId": "748d8be6-4cdb-4731-b37c-8fe6a61b6c0b"
      },
      "execution_count": 35,
      "outputs": [
        {
          "output_type": "stream",
          "name": "stdout",
          "text": [
            "[[16, 10, 7, 11, 9, 12, 7, 10], [9, 6, 4, 8, 5, 10, 12], [13, 9], [8, 9, 7, 12, 8, 14]]\n",
            "{'CMX': [16, 10, 7, 11, 9, 12, 7, 10], 'PUE': [9, 6, 4, 8, 5, 10, 12], 'VER': [13, 9], 'OAX': [8, 9, 7, 12, 8, 14]}\n",
            "{'CMX': 82, 'PUE': 54, 'VER': 22, 'OAX': 58}\n"
          ]
        }
      ]
    }
  ]
}