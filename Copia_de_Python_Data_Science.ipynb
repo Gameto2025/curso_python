{
  "nbformat": 4,
  "nbformat_minor": 0,
  "metadata": {
    "colab": {
      "provenance": [],
      "toc_visible": true,
      "include_colab_link": true
    },
    "kernelspec": {
      "name": "python3",
      "display_name": "Python 3"
    },
    "language_info": {
      "name": "python"
    }
  },
  "cells": [
    {
      "cell_type": "markdown",
      "metadata": {
        "id": "view-in-github",
        "colab_type": "text"
      },
      "source": [
        "<a href=\"https://colab.research.google.com/github/Gameto2025/curso_python/blob/main/Copia_de_Python_Data_Science.ipynb\" target=\"_parent\"><img src=\"https://colab.research.google.com/assets/colab-badge.svg\" alt=\"Open In Colab\"/></a>"
      ]
    },
    {
      "cell_type": "markdown",
      "source": [
        "# Python para Data Science\n",
        "\n",
        "Notebook para el curso de Python para Data Science publicado en la plataforma de [Alura Latam](https://www.aluracursos.com/)"
      ],
      "metadata": {
        "id": "lQx6Mmv0OJyT"
      }
    },
    {
      "cell_type": "markdown",
      "source": [
        "# Introducción a Python\n",
        "¡Vamos a conocer Python, nuestro ambiente de estudio, y también generaremos nuestro primer código en este lenguaje!"
      ],
      "metadata": {
        "id": "7SiB6JIpYKmY"
      }
    },
    {
      "cell_type": "markdown",
      "source": [
        "## Google Colaboratory\n",
        "\n",
        "Ya aprendimos qué es [Python](https://www.python.org/) y ahora aprenderemos a usar nuestra herramienta de ejecución [Google Colaboratory](https://colab.research.google.com/) para programar en un notebook interactivo.\n",
        "\n",
        "Vamos a probar algunas funciones de este ambiente."
      ],
      "metadata": {
        "id": "Yugfb3fCOYY9"
      }
    },
    {
      "cell_type": "markdown",
      "source": [
        " **`>>> Usa esta celda para mover <<<`**"
      ],
      "metadata": {
        "id": "2iUHQsJasJAk"
      }
    },
    {
      "cell_type": "markdown",
      "source": [
        "## ¡Hola mundo!\n",
        "\n",
        "Vamos a conocer un poco más de cerca nuestro notebook. Para ello ejecutaremos nuestro primer comando en Python: [`print()`](https://docs.python.org/3/library/functions.html#print)"
      ],
      "metadata": {
        "id": "aLSFP2V7XTfe"
      }
    },
    {
      "cell_type": "code",
      "source": [],
      "metadata": {
        "id": "0qZX8_ZQBYyk"
      },
      "execution_count": null,
      "outputs": []
    },
    {
      "cell_type": "code",
      "source": [],
      "metadata": {
        "id": "A3Y6SrkcrUvs"
      },
      "execution_count": null,
      "outputs": []
    },
    {
      "cell_type": "code",
      "source": [],
      "metadata": {
        "id": "GLMzF_AKBY7a"
      },
      "execution_count": null,
      "outputs": []
    },
    {
      "cell_type": "markdown",
      "source": [
        "# Manipulando los datos\n",
        "\n",
        "Vamos a aprender sobre las variables en Python, cómo declararlas y utilizarlas además de conocer otros comandos de este lenguaje. :D"
      ],
      "metadata": {
        "id": "iP8uWQmFYFRs"
      }
    },
    {
      "cell_type": "markdown",
      "source": [
        "## Variables\n",
        "\n",
        "En Data Science trabajamos con varios tipos de datos e informaciones, entonces es esencial saber cómo trabajar con las variables."
      ],
      "metadata": {
        "id": "sLNVmnTbag1Z"
      }
    },
    {
      "cell_type": "markdown",
      "source": [
        "Las variables en Python se crean cuando atribuimos un valor a ella.\n",
        "\n",
        "Para esto, colocamos el nombre de la variable, el signo de igual (`=`) y el valor que queremos atribuirle."
      ],
      "metadata": {
        "id": "lsCY0wahAbf6"
      }
    },
    {
      "cell_type": "code",
      "source": [],
      "metadata": {
        "id": "vsHh5buZADND"
      },
      "execution_count": null,
      "outputs": []
    },
    {
      "cell_type": "code",
      "source": [],
      "metadata": {
        "id": "sivPtqSjADQV"
      },
      "execution_count": null,
      "outputs": []
    },
    {
      "cell_type": "code",
      "source": [],
      "metadata": {
        "id": "JC8jO47wADlm"
      },
      "execution_count": null,
      "outputs": []
    },
    {
      "cell_type": "markdown",
      "source": [
        "Existen algunos tipos de nomes que **no** podemos definir para las variables:\n",
        "\n",
        "- **Nombres que comiencen con números**\n",
        "  - Ejemplos: `10_notas`, `2_nombre_casa`, etc.\n",
        "- **Palabras separadas por espacio**\n",
        "  - Ejemplos: `Nombre escuela`, `notas estudiantes`, etc.\n",
        "- **Nombres de funciones de Python**\n",
        "  - Ejemplos: `print`, `type`, etc."
      ],
      "metadata": {
        "id": "om2N0jHKAzwL"
      }
    },
    {
      "cell_type": "markdown",
      "source": [
        "> Las letras mayúsculas y minúsculas generarán diferentes variables. La variable `edad` es diferente de `Edad` que a su vez es diferente de `EDAD`:\n",
        "``` Python\n",
        "edad = 1\n",
        "Edad = 2\n",
        "EDAD = 3\n",
        "_edad = 4\n",
        "_edad_ = 5\n",
        "print(edad, Edad, EDAD, _edad, _edad_)\n",
        "1 2 3 4 5\n",
        "```"
      ],
      "metadata": {
        "id": "A19vY2GVMujB"
      }
    },
    {
      "cell_type": "markdown",
      "source": [
        "## Tipos de variables\n",
        "\n",
        "Cada variable contiene una clase específica con respecto al tipo de objeto al cual esta hace referencia. Estas clases serán diferentes de acuerdo con el tipo de dato que le sea atribuido a una variable.\n",
        "\n",
        "Para conocer la clase de cada elemento usamos la función [`type()`](https://docs.python.org/3/library/functions.html#type)"
      ],
      "metadata": {
        "id": "UqhzuBhBHsps"
      }
    },
    {
      "cell_type": "code",
      "source": [
        "type(edad)"
      ],
      "metadata": {
        "id": "J5a9t73A_-PX",
        "outputId": "3bfb0548-8fa5-4c4a-ef8c-19a982038228",
        "colab": {
          "base_uri": "https://localhost:8080/"
        }
      },
      "execution_count": null,
      "outputs": [
        {
          "output_type": "execute_result",
          "data": {
            "text/plain": [
              "int"
            ]
          },
          "metadata": {},
          "execution_count": 3
        }
      ]
    },
    {
      "cell_type": "code",
      "source": [
        "promedio = 9.5"
      ],
      "metadata": {
        "id": "rqmO1ew-_-So"
      },
      "execution_count": null,
      "outputs": []
    },
    {
      "cell_type": "code",
      "source": [
        "type(promedio)"
      ],
      "metadata": {
        "id": "xkrPMkeY_-cP",
        "outputId": "7f9881e1-2320-4eee-b4f6-78f58736c3c5",
        "colab": {
          "base_uri": "https://localhost:8080/"
        }
      },
      "execution_count": null,
      "outputs": [
        {
          "output_type": "execute_result",
          "data": {
            "text/plain": [
              "float"
            ]
          },
          "metadata": {},
          "execution_count": 8
        }
      ]
    },
    {
      "cell_type": "code",
      "source": [
        "nombre = \"Gabriel\""
      ],
      "metadata": {
        "id": "IR4XN2vtCS33"
      },
      "execution_count": null,
      "outputs": []
    },
    {
      "cell_type": "code",
      "source": [
        "type (nombre)"
      ],
      "metadata": {
        "id": "T3MxP9QRCWeQ",
        "outputId": "30949532-122b-44be-ce6d-299ceaf420cf",
        "colab": {
          "base_uri": "https://localhost:8080/"
        }
      },
      "execution_count": null,
      "outputs": [
        {
          "output_type": "execute_result",
          "data": {
            "text/plain": [
              "str"
            ]
          },
          "metadata": {},
          "execution_count": 11
        }
      ]
    },
    {
      "cell_type": "code",
      "source": [
        "v = True\n",
        "type(v)\n"
      ],
      "metadata": {
        "id": "KEZOpHxxCgRs",
        "outputId": "8843576f-bec7-41d2-b9d8-065a41ec707a",
        "colab": {
          "base_uri": "https://localhost:8080/"
        }
      },
      "execution_count": null,
      "outputs": [
        {
          "output_type": "execute_result",
          "data": {
            "text/plain": [
              "bool"
            ]
          },
          "metadata": {},
          "execution_count": 12
        }
      ]
    },
    {
      "cell_type": "markdown",
      "source": [
        "En un conjunto de datos escolares podemos tener varios tipos de informaciones. Supongamos que tenemos acceso a la ficha de datos del alumno *Penélope Camacho*, cómo transformamos este nombre en variables de Python?\n",
        "\n",
        "#### Ficha:\n",
        "\n",
        "- Nombre: Penélope Camacho\n",
        "- Edad: 11 años\n",
        "- Promedio del semestre: 9,75\n",
        "- Situación de aprobación: Verdadera (aprobado)"
      ],
      "metadata": {
        "id": "O-FxDumfWu0C"
      }
    },
    {
      "cell_type": "code",
      "source": [
        "nombre_estudiante = \"Penélope Camacho\"\n",
        "edad_estudiante = 11\n",
        "promedio_estudiante = 9.75\n",
        "aprobado_estudiante = True"
      ],
      "metadata": {
        "id": "FabQ7jQf_8Xt"
      },
      "execution_count": null,
      "outputs": []
    },
    {
      "cell_type": "code",
      "source": [],
      "metadata": {
        "id": "IZLQnZUj_8bd"
      },
      "execution_count": null,
      "outputs": []
    },
    {
      "cell_type": "code",
      "source": [
        "print(type(nombre_estudiante),type(edad_estudiante),type(promedio_estudiante),type(aprobado_estudiante))"
      ],
      "metadata": {
        "id": "KNiSITIIDD4X",
        "outputId": "7257b6a3-269e-412c-cba2-7616ba41c05f",
        "colab": {
          "base_uri": "https://localhost:8080/"
        }
      },
      "execution_count": null,
      "outputs": [
        {
          "output_type": "stream",
          "name": "stdout",
          "text": [
            "<class 'str'> <class 'int'> <class 'float'> <class 'bool'>\n"
          ]
        }
      ]
    },
    {
      "cell_type": "markdown",
      "source": [
        "## Variables numéricas\n",
        "\n",
        "Entre los tipos de datos numéricos vamos a enfocarnos en los tipos `entero` y `float`."
      ],
      "metadata": {
        "id": "KFq_8Sxf-OG0"
      }
    },
    {
      "cell_type": "markdown",
      "source": [
        "Tenemos una tabla de información sobre los diversos cargos, cantidad de personas empleadas y el salario correspondiente:\n",
        "\n",
        "|Cargo | Cantidad | Salario|\n",
        "|---|---|---|\n",
        "|Vigilante | 5 | 300 |\n",
        "|Docente | 16| 500|\n",
        "|Coordinador| 2 |600|\n",
        "\n",
        "Necesitamos trabajar con estos datos para obtener:\n",
        "\n",
        "- La cantidad total de empleados;\n",
        "- La diferencia entre el salario más bajo y más alto; y\n",
        "- El promedio ponderado de los salarios de los empleados de la escuela."
      ],
      "metadata": {
        "id": "8_HYUbkVYdQY"
      }
    },
    {
      "cell_type": "code",
      "source": [
        "c_vigilante = 5\n",
        "s_vigilante = 300\n",
        "\n",
        "c_docente = 16\n",
        "s_docente = 500\n",
        "\n",
        "c_coordinador = 2\n",
        "s_coordinador = 600"
      ],
      "metadata": {
        "id": "F_X-wxdm_5Ys"
      },
      "execution_count": null,
      "outputs": []
    },
    {
      "cell_type": "code",
      "source": [
        "total_empleados = c_vigilante + c_docente + c_coordinador\n",
        "total_empleados"
      ],
      "metadata": {
        "id": "fIugsxNy_53j",
        "outputId": "25804178-fa5c-438e-bdcb-205393441411",
        "colab": {
          "base_uri": "https://localhost:8080/"
        }
      },
      "execution_count": null,
      "outputs": [
        {
          "output_type": "execute_result",
          "data": {
            "text/plain": [
              "23"
            ]
          },
          "metadata": {},
          "execution_count": 26
        }
      ]
    },
    {
      "cell_type": "code",
      "source": [
        "diferencia_salario = s_coordinador - s_vigilante\n",
        "diferencia_salario"
      ],
      "metadata": {
        "id": "NBdpl0LQFnyw",
        "outputId": "7b172b0d-0996-4de2-e5a8-cb34aa4a18b5",
        "colab": {
          "base_uri": "https://localhost:8080/"
        }
      },
      "execution_count": null,
      "outputs": [
        {
          "output_type": "execute_result",
          "data": {
            "text/plain": [
              "300"
            ]
          },
          "metadata": {},
          "execution_count": 27
        }
      ]
    },
    {
      "cell_type": "code",
      "source": [
        "promedio_salarios = (s_vigilante * c_vigilante + s_docente * c_docente + s_coordinador * c_coordinador) / total_empleados\n"
      ],
      "metadata": {
        "id": "mvozoofaGe6W"
      },
      "execution_count": null,
      "outputs": []
    },
    {
      "cell_type": "code",
      "source": [
        "promedio_salarios"
      ],
      "metadata": {
        "id": "hTbPLZjJGtHO",
        "outputId": "3a936608-0263-4e96-91c4-8985648bd8ea",
        "colab": {
          "base_uri": "https://localhost:8080/"
        }
      },
      "execution_count": null,
      "outputs": [
        {
          "output_type": "execute_result",
          "data": {
            "text/plain": [
              "465.2173913043478"
            ]
          },
          "metadata": {},
          "execution_count": 35
        }
      ]
    },
    {
      "cell_type": "code",
      "source": [
        "type(promedio_salarios)"
      ],
      "metadata": {
        "id": "TTMCJQxBGxPo",
        "outputId": "f96ae868-7708-4b66-a712-5473e3ca32e1",
        "colab": {
          "base_uri": "https://localhost:8080/"
        }
      },
      "execution_count": null,
      "outputs": [
        {
          "output_type": "execute_result",
          "data": {
            "text/plain": [
              "float"
            ]
          },
          "metadata": {},
          "execution_count": 36
        }
      ]
    },
    {
      "cell_type": "markdown",
      "source": [
        "## Strings"
      ],
      "metadata": {
        "id": "yQy7b0ZWoD-P"
      }
    },
    {
      "cell_type": "markdown",
      "source": [
        "Strings hace referencia a un conjunto de caracteres formando un texto.\n",
        "\n",
        "Podemos crear Strings cuando atribuimos un dato a una variable entre comillas sencillas (`'`) o comillas dobles (`\"`)."
      ],
      "metadata": {
        "id": "vlo2-DXusv3s"
      }
    },
    {
      "cell_type": "code",
      "source": [
        "t = \"Alura\"\n",
        "type(t)"
      ],
      "metadata": {
        "id": "ityEWqvh_2wK",
        "outputId": "4c8e2dfc-bff8-4418-e9d9-6127d83996bf",
        "colab": {
          "base_uri": "https://localhost:8080/"
        }
      },
      "execution_count": null,
      "outputs": [
        {
          "output_type": "execute_result",
          "data": {
            "text/plain": [
              "str"
            ]
          },
          "metadata": {},
          "execution_count": 37
        }
      ]
    },
    {
      "cell_type": "markdown",
      "source": [
        "Las variables textuales son objetos que poseen métodos que nos ayudan a formatear strings. Los métodos los podemos ejecutar al definir un objeto de acuerdo con la siguiente estructura:\n",
        "\n",
        "```\n",
        "objeto.metodo()\n",
        "```\n",
        "\n",
        "Existen métodos que no necesitan los `()`, siempre es una buena práctica verificar la documentación para cada caso."
      ],
      "metadata": {
        "id": "2e9UD_CCxqz_"
      }
    },
    {
      "cell_type": "markdown",
      "source": [
        "---\n",
        "**Situación:**\n",
        "\n",
        "Recibimos una variable con el nombre de una profesora de la escuela para añadirla a los registros. Sin embargo, necesitamos darle un tratamiento a este texto antes de insertarlo al sistema."
      ],
      "metadata": {
        "id": "p6aPmMGP4tf9"
      }
    },
    {
      "cell_type": "code",
      "source": [
        "texto = '  Micaela de los Sanyos '\n"
      ],
      "metadata": {
        "id": "icDWtYTjBO0n"
      },
      "execution_count": null,
      "outputs": []
    },
    {
      "cell_type": "code",
      "source": [],
      "metadata": {
        "id": "kmQ7JygFrADz"
      },
      "execution_count": null,
      "outputs": []
    },
    {
      "cell_type": "markdown",
      "source": [
        "El objetivo final es que el nombre aparezca de la siguiente forma:\n",
        "\n",
        "```\n",
        "'MICAELA DE LOS SANTOS'\n",
        "```"
      ],
      "metadata": {
        "id": "Dg2ZXSZOGzjC"
      }
    },
    {
      "cell_type": "markdown",
      "source": [],
      "metadata": {
        "id": "at1xHC59H4Jo"
      }
    },
    {
      "cell_type": "markdown",
      "source": [
        "### [`str.upper()` ](https://docs.python.org/3/library/stdtypes.html#str.upper)\n",
        "Convierte una string a mayúsculas."
      ],
      "metadata": {
        "id": "iVTAD8q702eN"
      }
    },
    {
      "cell_type": "code",
      "source": [
        "texto.upper()"
      ],
      "metadata": {
        "id": "wMVshJrY_ZXh",
        "outputId": "ce42672c-905e-4218-ce82-a7f174282732",
        "colab": {
          "base_uri": "https://localhost:8080/",
          "height": 35
        }
      },
      "execution_count": null,
      "outputs": [
        {
          "output_type": "execute_result",
          "data": {
            "text/plain": [
              "'  MICAELA DE LOS SANYOS '"
            ],
            "application/vnd.google.colaboratory.intrinsic+json": {
              "type": "string"
            }
          },
          "metadata": {},
          "execution_count": 64
        }
      ]
    },
    {
      "cell_type": "markdown",
      "source": [
        "### [`str.lower()`](https://docs.python.org/3/library/stdtypes.html#str.lower)\n",
        "Convierte una string a minúsculas."
      ],
      "metadata": {
        "id": "hbDSBtMV1TpG"
      }
    },
    {
      "cell_type": "code",
      "source": [
        "texto.lower()"
      ],
      "metadata": {
        "id": "px3yEeNH_YK4",
        "outputId": "4308dade-bfc3-4cd6-aa7a-f6283b173dc1",
        "colab": {
          "base_uri": "https://localhost:8080/",
          "height": 35
        }
      },
      "execution_count": null,
      "outputs": [
        {
          "output_type": "execute_result",
          "data": {
            "text/plain": [
              "'  micaela de los sanyos '"
            ],
            "application/vnd.google.colaboratory.intrinsic+json": {
              "type": "string"
            }
          },
          "metadata": {},
          "execution_count": 65
        }
      ]
    },
    {
      "cell_type": "markdown",
      "source": [
        "### [`str.strip()`](https://docs.python.org/3/library/stdtypes.html#str.strip)\n",
        "Elimina los espacios en blanco al inicio y al final de una string."
      ],
      "metadata": {
        "id": "kz47eWM11gii"
      }
    },
    {
      "cell_type": "code",
      "source": [
        "texto.strip()"
      ],
      "metadata": {
        "id": "76dLgNa4_XAe",
        "outputId": "7170364b-7898-4458-e59e-738791dbc184",
        "colab": {
          "base_uri": "https://localhost:8080/",
          "height": 35
        }
      },
      "execution_count": null,
      "outputs": [
        {
          "output_type": "execute_result",
          "data": {
            "text/plain": [
              "'Micaela de los Sanyos'"
            ],
            "application/vnd.google.colaboratory.intrinsic+json": {
              "type": "string"
            }
          },
          "metadata": {},
          "execution_count": 66
        }
      ]
    },
    {
      "cell_type": "markdown",
      "source": [
        "### [`str.replace(antiguo, nuevo)`](https://docs.python.org/3/library/stdtypes.html#str.replace)\n",
        "\n",
        "Sustituye todas las ocurrencias del texto \"antiguo\" en la string por el  \"nuevo\"."
      ],
      "metadata": {
        "id": "m6notiyS1SCV"
      }
    },
    {
      "cell_type": "code",
      "source": [
        "texto.replace('y','t')"
      ],
      "metadata": {
        "id": "PNXAixtE_V6R",
        "outputId": "49d29187-c122-4a9a-d363-6b367fc7d106",
        "colab": {
          "base_uri": "https://localhost:8080/",
          "height": 35
        }
      },
      "execution_count": null,
      "outputs": [
        {
          "output_type": "execute_result",
          "data": {
            "text/plain": [
              "'  Micaela de los Santos '"
            ],
            "application/vnd.google.colaboratory.intrinsic+json": {
              "type": "string"
            }
          },
          "metadata": {},
          "execution_count": 68
        }
      ]
    },
    {
      "cell_type": "code",
      "source": [
        "texto"
      ],
      "metadata": {
        "id": "Ils8vms4JwiK",
        "outputId": "eda4aca6-cf51-4bbf-f7e6-5706e30c7dae",
        "colab": {
          "base_uri": "https://localhost:8080/",
          "height": 35
        }
      },
      "execution_count": null,
      "outputs": [
        {
          "output_type": "execute_result",
          "data": {
            "text/plain": [
              "'  Micaela de los Sanyos '"
            ],
            "application/vnd.google.colaboratory.intrinsic+json": {
              "type": "string"
            }
          },
          "metadata": {},
          "execution_count": 69
        }
      ]
    },
    {
      "cell_type": "code",
      "source": [
        "id(texto)"
      ],
      "metadata": {
        "id": "WhGllQzXJzzz",
        "outputId": "ceb9f18a-d146-46bf-b4fc-10e398963b0f",
        "colab": {
          "base_uri": "https://localhost:8080/",
          "height": 141
        }
      },
      "execution_count": null,
      "outputs": [
        {
          "output_type": "error",
          "ename": "TypeError",
          "evalue": "'str' object is not callable",
          "traceback": [
            "\u001b[0;31m---------------------------------------------------------------------------\u001b[0m",
            "\u001b[0;31mTypeError\u001b[0m                                 Traceback (most recent call last)",
            "\u001b[0;32m<ipython-input-70-9219627b7188>\u001b[0m in \u001b[0;36m<cell line: 0>\u001b[0;34m()\u001b[0m\n\u001b[0;32m----> 1\u001b[0;31m \u001b[0mid\u001b[0m\u001b[0;34m(\u001b[0m\u001b[0mtexto\u001b[0m\u001b[0;34m)\u001b[0m\u001b[0;34m\u001b[0m\u001b[0;34m\u001b[0m\u001b[0m\n\u001b[0m",
            "\u001b[0;31mTypeError\u001b[0m: 'str' object is not callable"
          ]
        }
      ]
    },
    {
      "cell_type": "markdown",
      "source": [
        "### Observaciones\n",
        "\n",
        "1. Los métodos devuelven una **tranformación**, no son ejecutados directamente sobre la variable donde está almacenado el texto.\n",
        "\n",
        "2. Adicionalmente, podemos acumular la ejecución de los métodos."
      ],
      "metadata": {
        "id": "zukvEjhG2Rcn"
      }
    },
    {
      "cell_type": "code",
      "source": [],
      "metadata": {
        "id": "JjkBRklr_T5n"
      },
      "execution_count": null,
      "outputs": []
    },
    {
      "cell_type": "markdown",
      "source": [
        "Para que la transformación se pueda ejecutar debemos atribuir la salida de las transformaciones a las variables"
      ],
      "metadata": {
        "id": "1KbwfVut2h6I"
      }
    },
    {
      "cell_type": "code",
      "source": [
        "nuevo_texto = texto.strip().replace('y','t').upper()\n",
        "print(nuevo_texto)"
      ],
      "metadata": {
        "id": "ocPP-Jaj_SJI",
        "outputId": "8e38746c-5657-4bc1-af9d-1780276af8c1",
        "colab": {
          "base_uri": "https://localhost:8080/"
        }
      },
      "execution_count": null,
      "outputs": [
        {
          "output_type": "stream",
          "name": "stdout",
          "text": [
            "MICAELA DE LOS SANTOS\n"
          ]
        }
      ]
    },
    {
      "cell_type": "code",
      "source": [
        "print(id(nuevo_texto))\n",
        "\n"
      ],
      "metadata": {
        "id": "m1RvLGZZ_SP3",
        "outputId": "5dc41b83-902f-41f6-ddad-2b19601cecdd",
        "colab": {
          "base_uri": "https://localhost:8080/"
        }
      },
      "execution_count": null,
      "outputs": [
        {
          "output_type": "stream",
          "name": "stdout",
          "text": [
            "138719085950368\n"
          ]
        }
      ]
    },
    {
      "cell_type": "code",
      "source": [
        "del id"
      ],
      "metadata": {
        "id": "Kcgqup2TLSSo"
      },
      "execution_count": null,
      "outputs": []
    },
    {
      "cell_type": "code",
      "source": [
        "print(type(id))"
      ],
      "metadata": {
        "id": "OHsZRpiELWgX",
        "outputId": "d56c541d-3730-4b7b-a58d-a0e49ac5b322",
        "colab": {
          "base_uri": "https://localhost:8080/"
        }
      },
      "execution_count": null,
      "outputs": [
        {
          "output_type": "stream",
          "name": "stdout",
          "text": [
            "<class 'builtin_function_or_method'>\n"
          ]
        }
      ]
    },
    {
      "cell_type": "markdown",
      "source": [
        "## Capturando datos\n",
        "\n",
        "En algunas aplicaciones necesitamos capturar los valores del usuario de nuestro proyecto. En python, logramos capturar los datos del usuario a través del comando [`input()`](https://docs.python.org/3/library/functions.html#input).\n",
        "\n",
        "Para ejecutar la captura debemos atribuir el resultado de esta función a una variable."
      ],
      "metadata": {
        "id": "0h9Fh5G9kHCa"
      }
    },
    {
      "cell_type": "code",
      "source": [
        "nombre = input(\"ingrese su nombre: \")"
      ],
      "metadata": {
        "id": "zbH_9i3q_PdY",
        "outputId": "1035ecea-6898-4bb0-afeb-c20bd45aa81d",
        "colab": {
          "base_uri": "https://localhost:8080/"
        }
      },
      "execution_count": null,
      "outputs": [
        {
          "name": "stdout",
          "output_type": "stream",
          "text": [
            "ingrese su nombre: gabo\n"
          ]
        }
      ]
    },
    {
      "cell_type": "code",
      "source": [],
      "metadata": {
        "id": "JZy1Q9Tl_PgL"
      },
      "execution_count": null,
      "outputs": []
    },
    {
      "cell_type": "markdown",
      "source": [
        "La salida de este comando siempre será una *string*. Esto quiere decir que aunque capturemos un valor de variable numérica, este será de tipo string.\n",
        "\n",
        "Entonces, será necesario **convertir el resultado cuando no se desea utilizar el valor como tipo string**."
      ],
      "metadata": {
        "id": "7z7hcLCk_aCY"
      }
    },
    {
      "cell_type": "markdown",
      "source": [
        "Existen funciones para la conversión de valores:\n",
        "\n",
        "- Enteros: [`int(dato_para_conversion)`](https://docs.python.org/3/library/functions.html#int)\n",
        "- Coma flotante: [`float(dato_para_conversion)`](https://docs.python.org/3/library/functions.html#float)\n",
        "- String: [`str(dato_para_conversion)`](https://docs.python.org/3/library/functions.html#func-str)\n",
        "- Booleano: [`bool(dato_para_conversion)`](https://docs.python.org/3/library/functions.html#bool)"
      ],
      "metadata": {
        "id": "TOlegATj1Jfp"
      }
    },
    {
      "cell_type": "code",
      "source": [
        "año_admision = input(\"Digite año de admisión: \")"
      ],
      "metadata": {
        "id": "M2ueeH6l_NMe",
        "colab": {
          "base_uri": "https://localhost:8080/"
        },
        "outputId": "b928498c-a5af-47df-f75f-24c0f84d7646"
      },
      "execution_count": null,
      "outputs": [
        {
          "name": "stdout",
          "output_type": "stream",
          "text": [
            "Digite año de admisión: 2020\n"
          ]
        }
      ]
    },
    {
      "cell_type": "code",
      "source": [
        "type(año_admision)"
      ],
      "metadata": {
        "id": "xfWwuViK_NUn",
        "outputId": "36aa48cb-438d-4f51-c5f7-79799dca1851",
        "colab": {
          "base_uri": "https://localhost:8080/"
        }
      },
      "execution_count": null,
      "outputs": [
        {
          "output_type": "execute_result",
          "data": {
            "text/plain": [
              "str"
            ]
          },
          "metadata": {},
          "execution_count": 82
        }
      ]
    },
    {
      "cell_type": "code",
      "source": [
        "año_admision = int(input(\"Digite año de admisión: \"))"
      ],
      "metadata": {
        "outputId": "5a0c5990-b1b8-48d8-f7b3-10cc0a953692",
        "colab": {
          "base_uri": "https://localhost:8080/"
        },
        "id": "iLnAWM_QNn26"
      },
      "execution_count": null,
      "outputs": [
        {
          "name": "stdout",
          "output_type": "stream",
          "text": [
            "Digite año de admisión: 2020\n"
          ]
        }
      ]
    },
    {
      "cell_type": "code",
      "source": [
        "type(año_admision)"
      ],
      "metadata": {
        "id": "D_kMLrSCNwk1",
        "outputId": "554eb604-bd63-4653-fac6-0dd9c31031ad",
        "colab": {
          "base_uri": "https://localhost:8080/"
        }
      },
      "execution_count": null,
      "outputs": [
        {
          "output_type": "execute_result",
          "data": {
            "text/plain": [
              "int"
            ]
          },
          "metadata": {},
          "execution_count": 84
        }
      ]
    },
    {
      "cell_type": "code",
      "source": [
        "nota_admision = float(input(\"Digite nota de admision:  \"))"
      ],
      "metadata": {
        "id": "Lwz1pXTiN78y",
        "outputId": "e0e2c955-9204-465f-d9f8-5d9e7ca221af",
        "colab": {
          "base_uri": "https://localhost:8080/"
        }
      },
      "execution_count": null,
      "outputs": [
        {
          "name": "stdout",
          "output_type": "stream",
          "text": [
            "Digite nota de admision:  6.5\n"
          ]
        }
      ]
    },
    {
      "cell_type": "code",
      "source": [
        "type(nota_admision)"
      ],
      "metadata": {
        "id": "CsTRGOcvONdr",
        "outputId": "b6017800-22b8-4f5e-b279-4881904a2cf9",
        "colab": {
          "base_uri": "https://localhost:8080/"
        }
      },
      "execution_count": null,
      "outputs": [
        {
          "output_type": "execute_result",
          "data": {
            "text/plain": [
              "float"
            ]
          },
          "metadata": {},
          "execution_count": 86
        }
      ]
    },
    {
      "cell_type": "markdown",
      "source": [
        "Trataremos de representar mejor ahora el resultado de la transformación que obtuvimos. Nosotros podemos formatear y presentar nuestro resultado mezclando strings con valores no textuales.\n",
        "\n",
        "Para ello utilizamos la estructura de formatación `f` con strings."
      ],
      "metadata": {
        "id": "yNI2-XTbB3aS"
      }
    },
    {
      "cell_type": "markdown",
      "source": [],
      "metadata": {
        "id": "4QvFB_Z9OuCb"
      }
    },
    {
      "cell_type": "code",
      "source": [
        "print(f'\\tEl año de admision fue: {año_admision}\\n\\t La nota de admision fue: {nota_admision}')"
      ],
      "metadata": {
        "id": "keJjA5N9_K5i",
        "outputId": "c10391ae-0a4b-4ea0-a730-9de9db589756",
        "colab": {
          "base_uri": "https://localhost:8080/"
        }
      },
      "execution_count": null,
      "outputs": [
        {
          "output_type": "stream",
          "name": "stdout",
          "text": [
            "\tEl año de admision fue: 2020\n",
            "\t La nota de admision fue: 6.5\n"
          ]
        }
      ]
    },
    {
      "cell_type": "code",
      "source": [
        "chr(64)"
      ],
      "metadata": {
        "colab": {
          "base_uri": "https://localhost:8080/",
          "height": 35
        },
        "id": "Gu3RGTxwPcpx",
        "outputId": "04e6ed16-ccfa-48ac-ed65-71cef28857a4"
      },
      "execution_count": null,
      "outputs": [
        {
          "output_type": "execute_result",
          "data": {
            "text/plain": [
              "'@'"
            ],
            "application/vnd.google.colaboratory.intrinsic+json": {
              "type": "string"
            }
          },
          "metadata": {},
          "execution_count": 1
        }
      ]
    },
    {
      "cell_type": "code",
      "source": [
        "chr(72) + chr(111) +  chr(108) + chr(97)"
      ],
      "metadata": {
        "colab": {
          "base_uri": "https://localhost:8080/",
          "height": 35
        },
        "id": "ZSu5NbOkPqRI",
        "outputId": "41b798b4-25cd-4ee8-dbe7-8043817e371c"
      },
      "execution_count": null,
      "outputs": [
        {
          "output_type": "execute_result",
          "data": {
            "text/plain": [
              "'Hola'"
            ],
            "application/vnd.google.colaboratory.intrinsic+json": {
              "type": "string"
            }
          },
          "metadata": {},
          "execution_count": 2
        }
      ]
    },
    {
      "cell_type": "code",
      "source": [
        "nombre = \"Ana María\"\n",
        "edad = 17\n",
        "print(f\"El nombre de la alumna es {nombre} y su edad es {edad} años.\")"
      ],
      "metadata": {
        "colab": {
          "base_uri": "https://localhost:8080/"
        },
        "id": "_EUj9-v_P4Ri",
        "outputId": "069c663d-c459-4981-91ae-ed6f3bc0bb1c"
      },
      "execution_count": null,
      "outputs": [
        {
          "output_type": "stream",
          "name": "stdout",
          "text": [
            "El nombre de la alumna es Ana María y su edad es 17 años.\n"
          ]
        }
      ]
    },
    {
      "cell_type": "code",
      "source": [
        "nombre_alumno = 'Penélope Camacho'\n",
        "print('Nombre del alumno: %s' %(nombre_alumno))"
      ],
      "metadata": {
        "colab": {
          "base_uri": "https://localhost:8080/"
        },
        "id": "MlLubFykP8ck",
        "outputId": "ec63e7ae-0df9-4854-c475-4315201bfce2"
      },
      "execution_count": null,
      "outputs": [
        {
          "output_type": "stream",
          "name": "stdout",
          "text": [
            "Nombre del alumno: Penélope Camacho\n"
          ]
        }
      ]
    },
    {
      "cell_type": "code",
      "source": [
        "nombre_alumno = 'Penélope Camacho'\n",
        "edad_alumno = 11\n",
        "media_alumno = 9.95\n",
        "print('Nombre del alumno es %s, tiene %d años y su media es %f.' %(nombre_alumno, edad_alumno, media_alumno))"
      ],
      "metadata": {
        "colab": {
          "base_uri": "https://localhost:8080/"
        },
        "id": "p4AahV_5QYhk",
        "outputId": "fa2102e9-d893-47e2-9d84-13893d875f03"
      },
      "execution_count": null,
      "outputs": [
        {
          "output_type": "stream",
          "name": "stdout",
          "text": [
            "Nombre del alumno es Penélope Camacho, tiene 11 años y su media es 9.950000.\n"
          ]
        }
      ]
    },
    {
      "cell_type": "code",
      "source": [
        "print('Nombre del alumno es %s, tiene %d años y su media es %.2f.' %(nombre_alumno, edad_alumno, media_alumno))"
      ],
      "metadata": {
        "colab": {
          "base_uri": "https://localhost:8080/"
        },
        "id": "4pIfrmpJQmiY",
        "outputId": "caf81754-d82b-4176-ea37-70fedf41fb3d"
      },
      "execution_count": null,
      "outputs": [
        {
          "output_type": "stream",
          "name": "stdout",
          "text": [
            "Nombre del alumno es Penélope Camacho, tiene 11 años y su media es 9.95.\n"
          ]
        }
      ]
    },
    {
      "cell_type": "code",
      "source": [
        "x = True\n",
        "print(\"Valor de x: %s\" % str(x))"
      ],
      "metadata": {
        "colab": {
          "base_uri": "https://localhost:8080/"
        },
        "id": "Phc2BROBQ0YP",
        "outputId": "690c9c1f-9060-4089-9bca-5e3a360ff347"
      },
      "execution_count": null,
      "outputs": [
        {
          "output_type": "stream",
          "name": "stdout",
          "text": [
            "Valor de x: True\n"
          ]
        }
      ]
    },
    {
      "cell_type": "code",
      "source": [
        "nombre_alumno = 'Penélope Camacho'\n",
        "print('Nombre del alumno: {}'.format(nombre_alumno))"
      ],
      "metadata": {
        "colab": {
          "base_uri": "https://localhost:8080/"
        },
        "id": "6r1QmPqnRIKn",
        "outputId": "942154d1-7725-4256-aea4-9446ae858be1"
      },
      "execution_count": null,
      "outputs": [
        {
          "output_type": "stream",
          "name": "stdout",
          "text": [
            "Nombre del alumno: Penélope Camacho\n"
          ]
        }
      ]
    },
    {
      "cell_type": "code",
      "source": [
        "nombre_alumno = 'Fabricio Daniel'\n",
        "edad_alumno = 15\n",
        "media_alumno = 9.95\n",
        "print('Nombre del alumno es {}, tiene {} años y su media es {}.' .format(nombre_alumno, edad_alumno, media_alumno))"
      ],
      "metadata": {
        "colab": {
          "base_uri": "https://localhost:8080/"
        },
        "id": "iHhOVUlIRd3B",
        "outputId": "e88ddd62-31f4-4cb9-8975-5ec90f51e8ea"
      },
      "execution_count": null,
      "outputs": [
        {
          "output_type": "stream",
          "name": "stdout",
          "text": [
            "Nombre del alumno es Fabricio Daniel, tiene 15 años y su media es 9.95.\n"
          ]
        }
      ]
    },
    {
      "cell_type": "code",
      "source": [
        "print(\"Estudiar es un esfuerzo constante,\\nEs como cultivar una planta,\\nNecesitamos dedicación y paciencia,\\nPara ver madurar el fruto.\")"
      ],
      "metadata": {
        "colab": {
          "base_uri": "https://localhost:8080/"
        },
        "id": "Xw_Au8bRR0Rd",
        "outputId": "fc591798-3bea-4188-8233-6c4d600f83aa"
      },
      "execution_count": null,
      "outputs": [
        {
          "output_type": "stream",
          "name": "stdout",
          "text": [
            "Estudiar es un esfuerzo constante,\n",
            "Es como cultivar una planta,\n",
            "Necesitamos dedicación y paciencia,\n",
            "Para ver madurar el fruto.\n"
          ]
        }
      ]
    },
    {
      "cell_type": "code",
      "source": [
        "print('Cantidad\\tCalidad\\n5 muestras\\tAlta\\n3 muestras\\tBaja')"
      ],
      "metadata": {
        "colab": {
          "base_uri": "https://localhost:8080/"
        },
        "id": "fZhCPRrkR9Mh",
        "outputId": "658f630a-860b-4d23-d325-8b55fa76ea11"
      },
      "execution_count": null,
      "outputs": [
        {
          "output_type": "stream",
          "name": "stdout",
          "text": [
            "Cantidad\tCalidad\n",
            "5 muestras\tAlta\n",
            "3 muestras\tBaja\n"
          ]
        }
      ]
    },
    {
      "cell_type": "code",
      "source": [
        "print(\"Ruta del archivo: C:\\\\archivos\\\\documento.csv\")"
      ],
      "metadata": {
        "colab": {
          "base_uri": "https://localhost:8080/"
        },
        "id": "xI7T-6X5SMvX",
        "outputId": "48c76b17-276b-44c8-bf54-3929232cf746"
      },
      "execution_count": null,
      "outputs": [
        {
          "output_type": "stream",
          "name": "stdout",
          "text": [
            "Ruta del archivo: C:\\archivos\\documento.csv\n"
          ]
        }
      ]
    },
    {
      "cell_type": "code",
      "source": [
        "print(\"Una vez oí: \\\"Los frutos del conocimiento son los más dulces y duraderos de todos.\\\"\")"
      ],
      "metadata": {
        "colab": {
          "base_uri": "https://localhost:8080/"
        },
        "id": "7ue4Bta8SZeI",
        "outputId": "a4279432-3a29-4bc7-8ece-7e8c72a9aeb5"
      },
      "execution_count": null,
      "outputs": [
        {
          "output_type": "stream",
          "name": "stdout",
          "text": [
            "Una vez oí: \"Los frutos del conocimiento son los más dulces y duraderos de todos.\"\n"
          ]
        }
      ]
    },
    {
      "cell_type": "code",
      "source": [
        "print('Mi profesora una vez dijo: \\'Estudiar es la clave del éxito.\\'')"
      ],
      "metadata": {
        "colab": {
          "base_uri": "https://localhost:8080/"
        },
        "id": "bHu7xsZ7SnBl",
        "outputId": "49c0d9d4-86c8-46f0-fc55-3a4730f33a5f"
      },
      "execution_count": null,
      "outputs": [
        {
          "output_type": "stream",
          "name": "stdout",
          "text": [
            "Mi profesora una vez dijo: 'Estudiar es la clave del éxito.'\n"
          ]
        }
      ]
    },
    {
      "cell_type": "code",
      "source": [
        "nombre"
      ],
      "metadata": {
        "id": "XHaOHcujbIUM"
      },
      "execution_count": null,
      "outputs": []
    },
    {
      "cell_type": "code",
      "source": [
        "nombre = input(\"Digite su nombre: \")\n",
        "print(f\"Hola {nombre}!\")"
      ],
      "metadata": {
        "colab": {
          "base_uri": "https://localhost:8080/"
        },
        "outputId": "ed30db7f-fb74-4291-bb9d-8589816cf402",
        "id": "ldIYom2abKGL"
      },
      "execution_count": null,
      "outputs": [
        {
          "output_type": "stream",
          "name": "stdout",
          "text": [
            "Digite su nombre: gabriel\n",
            "Hola gabriel!\n"
          ]
        }
      ]
    },
    {
      "cell_type": "code",
      "source": [
        "nombre= input(\"Digite su nombre: \")\n",
        "edad =  input(\"Digite su edad: \")\n",
        "print(f\"Hola {nombre}! Tienes {edad} años.\")"
      ],
      "metadata": {
        "colab": {
          "base_uri": "https://localhost:8080/"
        },
        "id": "oDjqxpMkbLuo",
        "outputId": "1ad81bf8-4590-48bd-ebf8-8a2aca905cf0"
      },
      "execution_count": null,
      "outputs": [
        {
          "output_type": "stream",
          "name": "stdout",
          "text": [
            "Digite su nombre: gabo\n",
            "Digite su edad: 55\n",
            "Hola gabo! Tienes 55 años.\n"
          ]
        }
      ]
    },
    {
      "cell_type": "code",
      "source": [
        "nombre = input(\"Digite su nombre: \")\n",
        "edad = int(input(\"Digite su edad: \"))\n",
        "altura = float(input(\"Digite su altura: \"))\n",
        "print(f\"Hola {nombre}! Tienes {edad} años y mides {altura}\")"
      ],
      "metadata": {
        "colab": {
          "base_uri": "https://localhost:8080/"
        },
        "id": "22UAbGO4bLhe",
        "outputId": "f7392298-8d53-49c7-b6a7-74953bc98774"
      },
      "execution_count": null,
      "outputs": [
        {
          "output_type": "stream",
          "name": "stdout",
          "text": [
            "Digite su nombre: gabo\n",
            "Digite su edad: 55\n",
            "Digite su altura: 1.70\n",
            "Hola gabo! Tienes 55 años y mides 1.7\n"
          ]
        }
      ]
    },
    {
      "cell_type": "code",
      "source": [
        "numero1 = input(\"Digite un número: \")\n",
        "numero2 = input(\"Digite otro número: \")\n",
        "suma = int(numero1) + int(numero2)\n",
        "print(f\"La suma de {numero1} y {numero2} es {suma}\")"
      ],
      "metadata": {
        "colab": {
          "base_uri": "https://localhost:8080/"
        },
        "id": "ZCBfXU-wbLSF",
        "outputId": "99ac97d0-cb17-468d-ec4a-873ceb8489d9"
      },
      "execution_count": null,
      "outputs": [
        {
          "output_type": "stream",
          "name": "stdout",
          "text": [
            "Digite un número: 23\n",
            "Digite otro número: 55\n",
            "La suma de 23 y 55 es 78\n"
          ]
        }
      ]
    },
    {
      "cell_type": "code",
      "source": [
        "numero1 = int(input(\"Digite un número: \"))\n",
        "numero2 = int(input(\"Digite otro número: \"))\n",
        "numero3 = int(input(\"Digite otro número: \"))\n",
        "suma = numero1 + numero2 + numero3\n",
        "print(f\"La suma de {numero1}, {numero2} y {numero3}  es {suma}\")"
      ],
      "metadata": {
        "colab": {
          "base_uri": "https://localhost:8080/"
        },
        "id": "Ru-xRDUIceNw",
        "outputId": "a4bdf9d9-8776-43f7-e739-25816bb9991c"
      },
      "execution_count": null,
      "outputs": [
        {
          "output_type": "stream",
          "name": "stdout",
          "text": [
            "Digite un número: 42\n",
            "Digite otro número: 34\n",
            "Digite otro número: 25\n",
            "La suma de 42, 34 y 25  es 101\n"
          ]
        }
      ]
    },
    {
      "cell_type": "code",
      "source": [
        "num1 = int(input(\"Digite un número: \"))\n",
        "num2 = int(input(\"Digite otro número: \"))\n",
        "resta = num1  - num2\n",
        "print(f\"La resta de {num1} y {num2} es {resta}\")"
      ],
      "metadata": {
        "colab": {
          "base_uri": "https://localhost:8080/"
        },
        "id": "oPTfhmV1c1Ae",
        "outputId": "f6a271bb-7497-4445-9135-739fc35ed399"
      },
      "execution_count": null,
      "outputs": [
        {
          "output_type": "stream",
          "name": "stdout",
          "text": [
            "Digite un número: 56\n",
            "Digite otro número: 23\n",
            "La resta de 56 y 23 es 33\n"
          ]
        }
      ]
    },
    {
      "cell_type": "code",
      "source": [
        "nu1 = int(input(\"Digite un número: \"))\n",
        "nu2 = int(input(\"Digite otro número: \"))\n",
        "multi = nu1 * nu2\n",
        "print(f\"La multiplicación de {nu1} y {nu2} es {multi}\")"
      ],
      "metadata": {
        "colab": {
          "base_uri": "https://localhost:8080/"
        },
        "id": "4DvhY6Prc0vc",
        "outputId": "2b9affa0-03c0-4d0b-bfcb-e8f15938d327"
      },
      "execution_count": null,
      "outputs": [
        {
          "output_type": "stream",
          "name": "stdout",
          "text": [
            "Digite un número: 23\n",
            "Digite otro número: 23\n",
            "La multiplicación de 23 y 23 es 529\n"
          ]
        }
      ]
    },
    {
      "cell_type": "code",
      "source": [
        "num1 = int(input(\"Digite un número: \"))\n",
        "num2 = int(input(\"Digite otro número: \"))\n",
        "divi = num1 / num2\n",
        "print(f\"La división de {num1} y {num2} es {divi}\")"
      ],
      "metadata": {
        "colab": {
          "base_uri": "https://localhost:8080/"
        },
        "id": "yDARtItNdR0N",
        "outputId": "5de224db-57f5-4b52-fd6e-899bddf422ff"
      },
      "execution_count": null,
      "outputs": [
        {
          "output_type": "stream",
          "name": "stdout",
          "text": [
            "Digite un número: 25\n",
            "Digite otro número: 5\n",
            "La división de 25 y 5 es 5.0\n"
          ]
        }
      ]
    },
    {
      "cell_type": "code",
      "source": [
        "num1 = int(input(\"Digite un número: \"))\n",
        "num2 = int(input(\"Digite otro número: \"))\n",
        "potencia  = num1** num2\n",
        "print(f\"La potencia de {num1} y {num2} es {potencia}\")"
      ],
      "metadata": {
        "colab": {
          "base_uri": "https://localhost:8080/"
        },
        "id": "vrzvOcOwdT_i",
        "outputId": "7fa4a46c-a72f-47a1-f254-d0ae7bea9cac"
      },
      "execution_count": null,
      "outputs": [
        {
          "output_type": "stream",
          "name": "stdout",
          "text": [
            "Digite un número: 2\n",
            "Digite otro número: 3\n",
            "La potencia de 2 y 3 es 8\n"
          ]
        }
      ]
    },
    {
      "cell_type": "code",
      "source": [
        "nota1 = float(input(\"Digite la nota 1: \"))\n",
        "nota2 = float(input(\"Digite la nota 2: \"))\n",
        "nota3 = float(input(\"Digite la nota 3: \"))\n",
        "promedio = (nota1 + nota2 + nota3) / 3\n",
        "print(f\"El promedio de las notas {nota1}, {nota2} y {nota3} es {promedio}\")"
      ],
      "metadata": {
        "colab": {
          "base_uri": "https://localhost:8080/"
        },
        "id": "yQuwD27ydTum",
        "outputId": "45e3cc57-2643-4df2-9fb9-1f34a77c3a4c"
      },
      "execution_count": null,
      "outputs": [
        {
          "output_type": "stream",
          "name": "stdout",
          "text": [
            "Digite la nota 1: 3.5\n",
            "Digite la nota 2: 4.5\n",
            "Digite la nota 3: 5.1\n",
            "El promedio de las notas 3.5, 4.5 y 5.1 es 4.366666666666666\n"
          ]
        }
      ]
    },
    {
      "cell_type": "code",
      "source": [
        "media_ponderada = (5*1 + 12*2 + 20*3 + 15*4) / (1+2+3+4)\n",
        "print(f'Media {media_ponderada}.')\n"
      ],
      "metadata": {
        "colab": {
          "base_uri": "https://localhost:8080/"
        },
        "id": "mU-EYMKedRd2",
        "outputId": "369e929e-f5f1-4249-9781-078e590e1f9c"
      },
      "execution_count": null,
      "outputs": [
        {
          "output_type": "stream",
          "name": "stdout",
          "text": [
            "Media 14.9.\n"
          ]
        }
      ]
    },
    {
      "cell_type": "code",
      "source": [
        "frase = '¡Hola Python!'\n",
        "print(frase)\n"
      ],
      "metadata": {
        "colab": {
          "base_uri": "https://localhost:8080/"
        },
        "id": "jCXkh0h0e3gQ",
        "outputId": "6d03494c-ac8a-4e79-f4ac-3c019bd92aa0"
      },
      "execution_count": null,
      "outputs": [
        {
          "output_type": "stream",
          "name": "stdout",
          "text": [
            "¡Hola Python!\n"
          ]
        }
      ]
    },
    {
      "cell_type": "code",
      "source": [
        "frase = input('Escribe una frase: ')\n",
        "print(frase)\n"
      ],
      "metadata": {
        "colab": {
          "base_uri": "https://localhost:8080/"
        },
        "id": "cpAdUHAYe-Q0",
        "outputId": "eea00da6-cd24-4582-d976-3e974adb22de"
      },
      "execution_count": null,
      "outputs": [
        {
          "output_type": "stream",
          "name": "stdout",
          "text": [
            "Escribe una frase: hola a todos¡¡\n",
            "hola a todos¡¡\n"
          ]
        }
      ]
    },
    {
      "cell_type": "code",
      "source": [
        "frase = input('Escribe una frase: ')\n",
        "print(frase.upper())\n"
      ],
      "metadata": {
        "colab": {
          "base_uri": "https://localhost:8080/"
        },
        "id": "WbVF1HNWe-GM",
        "outputId": "63d3a291-220e-4e75-abc3-143303f639c6"
      },
      "execution_count": null,
      "outputs": [
        {
          "output_type": "stream",
          "name": "stdout",
          "text": [
            "Escribe una frase: ¡hola a todos¡¡\n",
            "¡HOLA A TODOS¡¡\n"
          ]
        }
      ]
    },
    {
      "cell_type": "code",
      "source": [
        "frase = ' ¡Hola soy gabo! '\n",
        "print(frase.strip())"
      ],
      "metadata": {
        "colab": {
          "base_uri": "https://localhost:8080/"
        },
        "id": "aPZeFaTSe98d",
        "outputId": "3abec2c0-3ad3-4c0f-d5bc-46a20fd78973"
      },
      "execution_count": null,
      "outputs": [
        {
          "output_type": "stream",
          "name": "stdout",
          "text": [
            "¡Hola soy gabo!\n"
          ]
        }
      ]
    },
    {
      "cell_type": "code",
      "source": [
        "frase = input('Escribe una frase: ')\n",
        "print(frase.strip())"
      ],
      "metadata": {
        "colab": {
          "base_uri": "https://localhost:8080/"
        },
        "id": "1kEJalGpe9vZ",
        "outputId": "9dd151ee-061a-4ec7-ac7f-d8bb699d7d65"
      },
      "execution_count": null,
      "outputs": [
        {
          "output_type": "stream",
          "name": "stdout",
          "text": [
            "Escribe una frase:     soy    gabo   ¡¡¡¡\n",
            "soy    gabo   ¡¡¡¡\n"
          ]
        }
      ]
    },
    {
      "cell_type": "code",
      "source": [
        "frase = input('Escribe una frase: ')\n",
        "print(frase.upper())\n"
      ],
      "metadata": {
        "id": "cYVyZTW5rafi",
        "colab": {
          "base_uri": "https://localhost:8080/"
        },
        "outputId": "012cb7a7-6dd8-4fb7-8c65-e05085da1b8b"
      },
      "execution_count": null,
      "outputs": [
        {
          "output_type": "stream",
          "name": "stdout",
          "text": [
            "Escribe una frase: hola soy gabo\n",
            "HOLA SOY GABO\n"
          ]
        }
      ]
    },
    {
      "cell_type": "code",
      "source": [
        "frase = input('Escribe una frase: ')\n",
        "print(frase.lower())"
      ],
      "metadata": {
        "colab": {
          "base_uri": "https://localhost:8080/"
        },
        "id": "aiJ3DVbbsXOh",
        "outputId": "7a0961d1-c9f8-4f3f-90a2-57f7941456b9"
      },
      "execution_count": null,
      "outputs": [
        {
          "output_type": "stream",
          "name": "stdout",
          "text": [
            "Escribe una frase: HOLA SOY GABO\n",
            "hola soy gabo\n"
          ]
        }
      ]
    },
    {
      "cell_type": "code",
      "source": [
        "frase = ' ¡Hola Python! '\n",
        "print(frase.strip())"
      ],
      "metadata": {
        "colab": {
          "base_uri": "https://localhost:8080/"
        },
        "id": "cBiMIWaHsXEY",
        "outputId": "e813bb55-e9cf-4e46-c8d7-9c39a1484bad"
      },
      "execution_count": null,
      "outputs": [
        {
          "output_type": "stream",
          "name": "stdout",
          "text": [
            "¡Hola Python!\n"
          ]
        }
      ]
    },
    {
      "cell_type": "code",
      "source": [],
      "metadata": {
        "id": "iBmg8oEqsWwn"
      },
      "execution_count": null,
      "outputs": []
    },
    {
      "cell_type": "code",
      "source": [
        "frase = input('Escribe una frase: ')\n",
        "print(frase.strip())"
      ],
      "metadata": {
        "id": "_cWRmDiE-m4p",
        "colab": {
          "base_uri": "https://localhost:8080/"
        },
        "outputId": "531ca458-f305-4d52-f6cd-dcb805739425"
      },
      "execution_count": null,
      "outputs": [
        {
          "output_type": "stream",
          "name": "stdout",
          "text": [
            "Escribe una frase:     ¡¡¡¡         hola soy gabo\n",
            "¡¡¡¡         hola soy gabo\n"
          ]
        }
      ]
    },
    {
      "cell_type": "code",
      "source": [
        "frase = input('Escribe una frase: ')\n",
        "print(frase.strip().lower())"
      ],
      "metadata": {
        "colab": {
          "base_uri": "https://localhost:8080/"
        },
        "id": "XYR0sHi7tGzD",
        "outputId": "e89a8883-1cef-4fb9-9383-98b05431f19c"
      },
      "execution_count": null,
      "outputs": [
        {
          "output_type": "stream",
          "name": "stdout",
          "text": [
            "Escribe una frase:        HOLA SOY GABO\n",
            "hola soy gabo\n"
          ]
        }
      ]
    },
    {
      "cell_type": "code",
      "source": [
        "frase = input('Escribe una frase: ')\n",
        "print(frase.lower().replace('e','f'))\n"
      ],
      "metadata": {
        "colab": {
          "base_uri": "https://localhost:8080/"
        },
        "id": "Iv-eRmZCt4ku",
        "outputId": "4c22fc58-8207-49b6-ecbf-b3131b8ea2ff"
      },
      "execution_count": null,
      "outputs": [
        {
          "output_type": "stream",
          "name": "stdout",
          "text": [
            "Escribe una frase: Hola soy Erida\n",
            "hola soy frida\n"
          ]
        }
      ]
    },
    {
      "cell_type": "code",
      "source": [
        "frase = input('Escribe una frase: ')\n",
        "print(frase.lower().replace('a',chr(64)))"
      ],
      "metadata": {
        "colab": {
          "base_uri": "https://localhost:8080/"
        },
        "id": "y0rBs9ASt4YG",
        "outputId": "e4c7322a-6922-42ee-8c17-1d2044c55c7b"
      },
      "execution_count": null,
      "outputs": [
        {
          "output_type": "stream",
          "name": "stdout",
          "text": [
            "Escribe una frase: AGMail\n",
            "@gm@il\n"
          ]
        }
      ]
    },
    {
      "cell_type": "code",
      "source": [
        "frase = input('Escribe una frase: ')\n",
        "print(frase.lower().replace('s',chr(36)))"
      ],
      "metadata": {
        "colab": {
          "base_uri": "https://localhost:8080/"
        },
        "id": "L9jF8EOytGie",
        "outputId": "993c7ac1-0b93-40fd-9a55-86d6194d1c5c"
      },
      "execution_count": null,
      "outputs": [
        {
          "output_type": "stream",
          "name": "stdout",
          "text": [
            "Escribe una frase: Sendero\n",
            "$endero\n"
          ]
        }
      ]
    },
    {
      "cell_type": "markdown",
      "source": [
        "# Estructuras condicionales"
      ],
      "metadata": {
        "id": "NwRaiHHHhhyl"
      }
    },
    {
      "cell_type": "code",
      "source": [
        "#Nota de aproacion entre 7 y 10  == nota de aprobacion >=7\n",
        "#Nota de reprobacion es menor a 7 == nota e reprobacion < 7\n",
        "\n",
        "\"\"\"\n",
        "Si la nota es mayor o igual a 7 entonces el estudiante aprueba\n",
        "sino entonces el estudiante reprueba\n",
        "\"\"\"\n"
      ],
      "metadata": {
        "id": "S2S6XAFz-czM",
        "colab": {
          "base_uri": "https://localhost:8080/",
          "height": 36
        },
        "outputId": "b520fbde-7ed6-4acd-b704-e3b528ec08db"
      },
      "execution_count": null,
      "outputs": [
        {
          "output_type": "execute_result",
          "data": {
            "text/plain": [
              "'\\nSi la nota es mayor o igual a 7 entonces el estudiante aprueba\\nsino entonces el estudiante reprueba\\n'"
            ],
            "application/vnd.google.colaboratory.intrinsic+json": {
              "type": "string"
            }
          },
          "metadata": {},
          "execution_count": 1
        }
      ]
    },
    {
      "cell_type": "markdown",
      "source": [
        "## `IF` y `ELSE`\n",
        "\n",
        "Los comandos `if` y `else` son dos estructuras condicionales. El comando `if` ejecutará el bloque de comandos en caso de que la condición citada sea  **verdadera**. El comando `else` ejecutará el bloque de comandos en el caso de que la condicional de `if` sea **falsa**."
      ],
      "metadata": {
        "id": "qXZqg9aYEhAh"
      }
    },
    {
      "cell_type": "markdown",
      "source": [
        "El comando `if` es una palabra clave en Python que significa \"si\". Este se emplea para conformar la estructura condicional, que te permite verificar si una determinada condición es verdadera o falsa e, inmediatamente después, ejecute un bloque de código específico dependiendo del resultado de la verificación. La sintaxis para usar el comando `if` es:\n",
        "\n",
        "\n",
        "\n",
        "```\n",
        "if condicion:\n",
        "    # Realiza algo\n",
        "```\n",
        "\n"
      ],
      "metadata": {
        "id": "EIhlqHXd2Gil"
      }
    },
    {
      "cell_type": "code",
      "source": [
        "if 2 < 7:\n",
        "   print('La condicion es verdadero')\n"
      ],
      "metadata": {
        "id": "YHkwMMyY-c1r",
        "colab": {
          "base_uri": "https://localhost:8080/"
        },
        "outputId": "fcb5b28a-58a7-4e1f-e6ae-c89a856b975e"
      },
      "execution_count": null,
      "outputs": [
        {
          "output_type": "stream",
          "name": "stdout",
          "text": [
            "La condicion es verdadero\n"
          ]
        }
      ]
    },
    {
      "cell_type": "code",
      "source": [],
      "metadata": {
        "id": "FctXvSE6PhWC"
      },
      "execution_count": null,
      "outputs": []
    },
    {
      "cell_type": "code",
      "source": [
        "if 2 > 7:\n",
        "   print('La condicion es verdadero')\n",
        "   print(\"fin de la consulta\")\n"
      ],
      "metadata": {
        "id": "F0JncQYlPkCU"
      },
      "execution_count": null,
      "outputs": []
    },
    {
      "cell_type": "markdown",
      "source": [
        "Ya el comando `else` en Python se usa en junción con la palabra clave `if` para formar una estructura condicional. la sintaxis para usar el `else` es:\n",
        "\n",
        "```\n",
        "if condicion:\n",
        "  # codigo en caso de que sea verdad\n",
        "else:\n",
        "  # codigo en caso de que sea falso\n",
        "```\n",
        "\n",
        "el comando `else` se ejecuta cuando la condición verificada por el `if` es evaluada como `False`."
      ],
      "metadata": {
        "id": "27RW2v_sIKct"
      }
    },
    {
      "cell_type": "code",
      "source": [],
      "metadata": {
        "id": "ZTfNJd_f-aOq"
      },
      "execution_count": null,
      "outputs": []
    },
    {
      "cell_type": "code",
      "source": [
        "if 2 > 7:\n",
        "   print('La condicion es verdadero')\n",
        "else:\n",
        "   print('La conducion es falsa')\n"
      ],
      "metadata": {
        "colab": {
          "base_uri": "https://localhost:8080/"
        },
        "outputId": "3b7082ac-76cc-4b7c-ee5a-8c240ff2d950",
        "id": "Dg_eSnG8P7TC"
      },
      "execution_count": null,
      "outputs": [
        {
          "output_type": "stream",
          "name": "stdout",
          "text": [
            "La conducion es falsa\n"
          ]
        }
      ]
    },
    {
      "cell_type": "code",
      "source": [
        "if 2 < 7:\n",
        "   print('La condicion es verdadero')\n",
        "else:\n",
        "   print('La conducion es falsa')"
      ],
      "metadata": {
        "id": "LPOb5MkV-btq",
        "colab": {
          "base_uri": "https://localhost:8080/"
        },
        "outputId": "edb53874-1648-40fe-c216-57136f7d5c47"
      },
      "execution_count": null,
      "outputs": [
        {
          "output_type": "stream",
          "name": "stdout",
          "text": [
            "La condicion es verdadero\n"
          ]
        }
      ]
    },
    {
      "cell_type": "markdown",
      "source": [
        "---\n",
        "**Situación:**\n",
        "\n",
        "Recibiremos el promedio de la nota de los estudiantes y necesitamos de un algoritmo que ejecute el análisis y determine si el estudiante fue **Aprobado** o **Reprobado**, mostrando un mensaje del resultado. Para ser aprobado, el promedio necesita ser igual o superior a 7.0."
      ],
      "metadata": {
        "id": "BqORg85XX-Nl"
      }
    },
    {
      "cell_type": "code",
      "source": [
        "nota = float(input('Ingrese la nota del estudiante: '))\n",
        "\n",
        "if nota >= 7.0:\n",
        "  print('El estudiante fue aprobado.')\n",
        "if 7 > nota > nota  >=  5:\n",
        "  print(\"Recuperacion\")\n",
        "if nota < 5 :\n",
        "  print('El estudiante fue reprobado.')"
      ],
      "metadata": {
        "id": "UukCN4AQ-YYW",
        "colab": {
          "base_uri": "https://localhost:8080/"
        },
        "outputId": "45f1ab39-0583-4bec-acaf-c55fbcce052c"
      },
      "execution_count": null,
      "outputs": [
        {
          "output_type": "stream",
          "name": "stdout",
          "text": [
            "Ingrese la nota del estudiante: 8\n",
            "El estudiante fue aprobado.\n"
          ]
        }
      ]
    },
    {
      "cell_type": "markdown",
      "source": [
        "Ahora, nuestra institución educativa estableció que las personas que tengan el promedio entre 5.0 y 7.0 pueden participar del curso de **Recuperación** durante las vacaciones para lograr aprobar.\n",
        "\n",
        "Entonces podemos apoyarnos en un conjunto de `if`s para poder estructurar esta nueva condición."
      ],
      "metadata": {
        "id": "bD9O17HB6LUo"
      }
    },
    {
      "cell_type": "code",
      "source": [
        "nota = float(input('Ingrese la nota del estudiante: '))\n",
        "\n",
        "if nota >= 7.0:\n",
        "  print('El estudiante fue aprobado.')\n",
        "else:\n",
        "  print('El estudiante fue reprobado.')"
      ],
      "metadata": {
        "id": "X0o8FW1H-YkA"
      },
      "execution_count": null,
      "outputs": []
    },
    {
      "cell_type": "code",
      "source": [
        "edad_maria = int(input('Ingrese la edad de María: '))\n",
        "edad_beatriz = int(input('Ingrese la edad de Beatriz: '))\n",
        "\n",
        "if edad_maria > edad_beatriz:\n",
        "  print('María es mayor que Beatriz.')"
      ],
      "metadata": {
        "id": "G9cJ5O9--W52",
        "colab": {
          "base_uri": "https://localhost:8080/"
        },
        "outputId": "954e1d45-d0df-4986-c11a-249e6bc2bff3"
      },
      "execution_count": null,
      "outputs": [
        {
          "output_type": "stream",
          "name": "stdout",
          "text": [
            "Ingrese la edad de María: 65\n",
            "Ingrese la edad de Beatriz: 55\n",
            "María es mayor que Beatriz.\n"
          ]
        }
      ]
    },
    {
      "cell_type": "code",
      "source": [
        "edad_maria = int(input('Ingrese la edad de María: '))\n",
        "edad_beatriz = int(input('Ingrese la edad de Beatriz: '))\n",
        "\n",
        "if edad_maria < edad_beatriz:\n",
        "  print('María es menor que Beatriz.')"
      ],
      "metadata": {
        "id": "iU-pjoJt-W89",
        "colab": {
          "base_uri": "https://localhost:8080/"
        },
        "outputId": "38ceada6-b47b-45f8-fe98-58e06ac3d74b"
      },
      "execution_count": null,
      "outputs": [
        {
          "output_type": "stream",
          "name": "stdout",
          "text": [
            "Ingrese la edad de María: 55\n",
            "Ingrese la edad de Beatriz: 65\n",
            "María es menor que Beatriz.\n"
          ]
        }
      ]
    },
    {
      "cell_type": "code",
      "source": [
        "empleados_empresa_1 = int(input('Ingrese la cantidad de empleados de la empresa 1: '))\n",
        "empleados_empresa_2 = int(input('Ingrese la cantidad de empleados de la empresa 2: '))\n",
        "\n",
        "if empleados_empresa_1 >= empleados_empresa_2:\n",
        "  print('La empresa 1 tiene una cantidad de empleados mayor o igual a la empresa 2.')"
      ],
      "metadata": {
        "id": "C21JmOuK-VU8",
        "colab": {
          "base_uri": "https://localhost:8080/"
        },
        "outputId": "351a4b3a-bd6c-49bd-8cb9-f4c60bdf77b8"
      },
      "execution_count": null,
      "outputs": [
        {
          "output_type": "stream",
          "name": "stdout",
          "text": [
            "Ingrese la cantidad de empleados de la empresa 1: 500\n",
            "Ingrese la cantidad de empleados de la empresa 2: 300\n",
            "La empresa 1 tiene una cantidad de empleados mayor o igual a la empresa 2.\n"
          ]
        }
      ]
    },
    {
      "cell_type": "code",
      "source": [
        "empleados_empresa_1 = int(input('Ingrese la cantidad de empleados de la empresa 1: '))\n",
        "empleados_empresa_2 = int(input('Ingrese la cantidad de empleados de la empresa 2: '))\n",
        "\n",
        "if empleados_empresa_1 >= empleados_empresa_2:\n",
        "  print('La empresa 1 tiene una cantidad de empleados mayor o igual a la empresa 2.')"
      ],
      "metadata": {
        "id": "bHiVgnPs-Vlv",
        "colab": {
          "base_uri": "https://localhost:8080/"
        },
        "outputId": "c0888ba0-9984-4633-b389-46b2986a8595"
      },
      "execution_count": null,
      "outputs": [
        {
          "output_type": "stream",
          "name": "stdout",
          "text": [
            "Ingrese la cantidad de empleados de la empresa 1: 300\n",
            "Ingrese la cantidad de empleados de la empresa 2: 300\n",
            "La empresa 1 tiene una cantidad de empleados mayor o igual a la empresa 2.\n"
          ]
        }
      ]
    },
    {
      "cell_type": "code",
      "source": [
        "empleados_empresa_1 = int(input('Ingrese la cantidad de empleados de la empresa 1: '))\n",
        "empleados_empresa_2 = int(input('Ingrese la cantidad de empleados de la empresa 2: '))\n",
        "\n",
        "if empleados_empresa_1 <= empleados_empresa_2:\n",
        "  print('La empresa 1 tiene una cantidad de empleados menor o igual a la empresa 2.')"
      ],
      "metadata": {
        "colab": {
          "base_uri": "https://localhost:8080/"
        },
        "id": "yu8S9J1JRx7Q",
        "outputId": "169c3c16-7cec-47bc-a900-d279e8483ac3"
      },
      "execution_count": null,
      "outputs": [
        {
          "output_type": "stream",
          "name": "stdout",
          "text": [
            "Ingrese la cantidad de empleados de la empresa 1: 300\n",
            "Ingrese la cantidad de empleados de la empresa 2: 350\n",
            "La empresa 1 tiene una cantidad de empleados menor o igual a la empresa 2.\n"
          ]
        }
      ]
    },
    {
      "cell_type": "code",
      "source": [
        "libro_1 = input('Ingrese el título del 1° libro: ')\n",
        "libro_2 = input('Ingrese el título del 2° libro: ')\n",
        "\n",
        "if libro_1 == libro_2:\n",
        "  print('Los libros tienen el mismo título.')"
      ],
      "metadata": {
        "colab": {
          "base_uri": "https://localhost:8080/"
        },
        "id": "v8n_A-mlR80z",
        "outputId": "a6258251-241e-44ea-e5ae-14246996509c"
      },
      "execution_count": null,
      "outputs": [
        {
          "output_type": "stream",
          "name": "stdout",
          "text": [
            "Ingrese el título del 1° libro: solos\n",
            "Ingrese el título del 2° libro: solos\n",
            "Los libros tienen el mismo título.\n"
          ]
        }
      ]
    },
    {
      "cell_type": "code",
      "source": [
        "libro_1 = input('Ingrese el título del 1° libro: ')\n",
        "libro_2 = input('Ingrese el título del 2° libro: ')\n",
        "\n",
        "if libro_1 != libro_2:\n",
        "  print('Los libros tienen títulos diferentes.')\n"
      ],
      "metadata": {
        "colab": {
          "base_uri": "https://localhost:8080/"
        },
        "id": "Hop759GxSLPq",
        "outputId": "5595c5f2-b314-47b9-ed7a-99551107732e"
      },
      "execution_count": null,
      "outputs": [
        {
          "output_type": "stream",
          "name": "stdout",
          "text": [
            "Ingrese el título del 1° libro: Solos\n",
            "Ingrese el título del 2° libro: solos\n",
            "Los libros tienen títulos diferentes.\n"
          ]
        }
      ]
    },
    {
      "cell_type": "markdown",
      "source": [
        "Observa que en casos con 3 situaciones como este necesitamos definir bien nuestras condiciones. Pues, si realizamos una condición con `else` al final, este irá a considerar solamente la condición `if` inmediatamente anterior para generar la salida en caso de que el resultado de su operación lógica sea **falso** dando como resultado, dos o más ejecuciones.\n",
        "\n",
        "Por ejemplo:"
      ],
      "metadata": {
        "id": "D5e2mByjvycO"
      }
    },
    {
      "cell_type": "markdown",
      "source": [
        "## `ELIF`\n",
        "\n",
        "El comando `elif` es una palabra clave en Python que significa \"si no, si\" y lo podemos considerar una *contracción* entre `else` e `if`. Se utiliza en conjunto con la palabra clave `if` para formar una estructura condicional en cadena."
      ],
      "metadata": {
        "id": "04T5g-7h4zWx"
      }
    },
    {
      "cell_type": "markdown",
      "source": [
        "la sintaxis para utilizar el comando `elif` es:\n",
        "\n",
        "```\n",
        "if condicion1:\n",
        "    # Realiza algo\n",
        "elif condicion2:\n",
        "    # Realiza otra cosa\n",
        "elif condicion3:\n",
        "    # Realiza otra cosa\n",
        "else:\n",
        "    # Realiza algo diferente\n",
        "```\n",
        "\n",
        "El comando `elif` permite que puedas verificar varias condiciones en cadena, economizando espacio en tu código. Si la primera condición se evalúa como `False`, el interpretador de Python evaluará la próxima condición con el `elif`. Ello continuará hasta que una condición sea evaluada como `True` o hasta que el `else` sea alcazado. Si ninguna de las condiciones es evaluada como `True`, la ejecución del código del comando `else` será iniciada."
      ],
      "metadata": {
        "id": "rNBHr5mm1Lm6"
      }
    },
    {
      "cell_type": "markdown",
      "source": [
        "Vamos a emplear el mismo caso anterior:"
      ],
      "metadata": {
        "id": "MVoykFbB4bd4"
      }
    },
    {
      "cell_type": "code",
      "source": [
        "nota = float(input('Ingrese la nota del estudiante: '))\n",
        "\n",
        "if nota >= 7.0:\n",
        "  print('El estudiante fue aprobado.')\n",
        "elif  7 > nota >=  5:\n",
        "  print('Recuperacion')\n",
        "else:\n",
        "  print('El estudiante fue reprobado.')"
      ],
      "metadata": {
        "id": "QFamB78s-TW_",
        "colab": {
          "base_uri": "https://localhost:8080/"
        },
        "outputId": "397c51c8-6696-4b24-f582-e56edacf652b"
      },
      "execution_count": null,
      "outputs": [
        {
          "output_type": "stream",
          "name": "stdout",
          "text": [
            "Ingrese la nota del estudiante: 4\n",
            "El estudiante fue reprobado.\n"
          ]
        }
      ]
    },
    {
      "cell_type": "code",
      "source": [],
      "metadata": {
        "id": "nuScbnHF-TfK"
      },
      "execution_count": null,
      "outputs": []
    },
    {
      "cell_type": "markdown",
      "source": [
        "## Operadores\n",
        "\n",
        "Durante la construcción de comandos a veces necesitamos de una elaboración mayor de la expresión condicional, necesitando que algunos operadores lógicos se encuentren integrados."
      ],
      "metadata": {
        "id": "Tf1wSOem6iwZ"
      }
    },
    {
      "cell_type": "markdown",
      "source": [
        "### `AND`, `OR`, `NOT`\n",
        "\n",
        "Los operadores lógicos `and`, `or` y `not` son usados para combinar expresiones lógicas en Python. Ellos son usados frecuentemente en conjunto con el comando `if` para crear estructuras condicionales más complejas.\n"
      ],
      "metadata": {
        "id": "GFIZnRWXGPWO"
      }
    },
    {
      "cell_type": "markdown",
      "source": [
        "- `AND` es usado para verificar si dos condiciones son verdaderas. La expresión lógica¹ `x and y` se evalúa como `True` tan solo si **ambas condiciones `x` y `y` son verdaderas**, y como `False` en caso contrario.\n",
        "\n",
        "- `OR` es usado para verificar si al menos una de las condiciones es verdadera. La expresión lógica `x or y` se evalúa como `True` **si al menos una de las condiciones `x` o `y` es verdadera**, y como `False` si ambas condiciones son falsas.\n",
        "\n",
        "- `NOT` es usado para **negar una condición**. La expresión lógica `not x` es evaluada como `True` si la condición x es falsa, y como `False` si la condición x es verdadera.\n",
        "\n",
        "¹ Una expresión lógica es una declaración que puede ser evaluada como verdadera o falsa. Ella se compone por operandos lógicos² y por operadores lógicos³, que son usados ​​para combinar varias expresiones lógicas en una única expresión.\n",
        "\n",
        "² Los operandos lógicos son los elementos que son comparados o evaluados en una expresión lógica. Ellos son generalmente valores verdaderos o falsos, pero también pueden ser expresiones lógicas más complejas. En Python, los operandos lógicos son los valores `True` y `False`.\n",
        "\n",
        "³ Los operadores lógicos son ls símbolos o palabras clave que son usados ​​para combinar varias expresiones lógicas en una única expresión. En Python, los operadores lógicos son `and`, `or` y `not`, bien como las palabras clave `if`, `elif` e `else`."
      ],
      "metadata": {
        "id": "Z_dgAoHXJbzB"
      }
    },
    {
      "cell_type": "markdown",
      "source": [
        "> Operadores lógicos más comunes\n",
        "\n",
        "|a|b|AND|OR|NOT|\n",
        "|-|-|-|-|-|\n",
        "|0|0|0|0|1\n",
        "|0|1|0|1|-\n",
        "|1|0|0|1|-\n",
        "|1|1|1|1|0\n"
      ],
      "metadata": {
        "id": "2E5aUogf-49u"
      }
    },
    {
      "cell_type": "code",
      "source": [
        "v = True\n",
        "f = False\n",
        "if f and f:\n",
        "  print('Verdadero')\n",
        "else:\n",
        "  print('Falso')"
      ],
      "metadata": {
        "id": "DFKmpvmS-Pa6",
        "colab": {
          "base_uri": "https://localhost:8080/"
        },
        "outputId": "b5ca37f5-711d-446d-a70a-789b7f072c0d"
      },
      "execution_count": null,
      "outputs": [
        {
          "output_type": "stream",
          "name": "stdout",
          "text": [
            "Falso\n"
          ]
        }
      ]
    },
    {
      "cell_type": "code",
      "source": [
        "v = True\n",
        "f = False\n",
        "if v or f:\n",
        "  print('Verdadero')\n",
        "else:\n",
        "  print('Falso')"
      ],
      "metadata": {
        "id": "W5BIrpOD-PeI",
        "colab": {
          "base_uri": "https://localhost:8080/"
        },
        "outputId": "8204cbbd-1eb7-47c8-83c0-7aeb1611618d"
      },
      "execution_count": null,
      "outputs": [
        {
          "output_type": "stream",
          "name": "stdout",
          "text": [
            "Verdadero\n"
          ]
        }
      ]
    },
    {
      "cell_type": "code",
      "source": [
        "v = True\n",
        "f = False\n",
        "if not f:\n",
        "  print('Verdadero')\n",
        "else:\n",
        "  print('Falso')"
      ],
      "metadata": {
        "id": "fpDhYxq4-PiM",
        "colab": {
          "base_uri": "https://localhost:8080/"
        },
        "outputId": "073dc9a8-e133-43b1-ff81-e6666668920d"
      },
      "execution_count": null,
      "outputs": [
        {
          "output_type": "stream",
          "name": "stdout",
          "text": [
            "Verdadero\n"
          ]
        }
      ]
    },
    {
      "cell_type": "markdown",
      "source": [
        "### `IN`\n",
        "\n",
        "Es usado para verificar si un elemento está presente en una lista, tupla u otra colección de conjunto. La expresión `x in y` se evalúa como `True` si el elemento `x` esta presente na variávelen la variable de conjunto `y`, y como `False` en caso contrario."
      ],
      "metadata": {
        "id": "w7EXG1dhWtja"
      }
    },
    {
      "cell_type": "markdown",
      "source": [
        "Podemos verificarlo con variables de texto.\n",
        "\n",
        "---\n",
        "\n",
        "**Situación:**\n",
        "\n",
        "En la escuela nos entregaron una lista con nombres de estudiantes que fueron aprobados según el promedio del semestre, pero es necesario verificar si algunos nombres están en esa lista para confirmar que los datos estén correctos.\n",
        "\n",
        "La lista distribuida puede ser observada a continuación:\n",
        "\n",
        "```\n",
        "lista = 'Juan Pérez, María González, Pedro Rodríguez, Ana López, Carlos Martínez,\n",
        "    Laura Sánchez, José García, Elena Fernández, Luis Morales, Carmen Torres,\n",
        "    David Ruiz, Isabel Ramírez, Javier Díaz, Sara Herrera, Miguel Castro,\n",
        "    Patricia Ortega, Francisco Vargas, Marta Jiménez, Manuel Medina, Rosa Molina,\n",
        "    Alejandro Silva, Silvia Ruiz, Andrés Torres, Natalia Soto, Diego Guerrero,\n",
        "    Paula Ríos, Ricardo Navarro, Alicia Cordero, Carlos Vidal, Lorena Gómez'\n",
        "```\n",
        "\n",
        "Los nombres que necesitas verificar son los siguientes:\n",
        "\n",
        "```\n",
        "nombre_1 = 'Miguel Castro'\n",
        "nombre_2 = 'Marcelo Noguera'\n",
        "```"
      ],
      "metadata": {
        "id": "enJNp6JenQbq"
      }
    },
    {
      "cell_type": "code",
      "source": [],
      "metadata": {
        "id": "QJ9-fICWdmP8"
      },
      "execution_count": null,
      "outputs": []
    },
    {
      "cell_type": "code",
      "source": [
        "\n",
        "lista = ['Juan Pérez', 'María González', 'Pedro Rodríguez', 'Ana López', 'Carlos Martínez',\n",
        "    'Laura Sánchez', 'José García', 'Elena Fernández', 'Luis Morales', 'Carmen Torres',\n",
        "    'David Ruiz', 'Isabel Ramírez', 'Javier Díaz', 'Sara Herrera', 'Miguel Castro',\n",
        "    'Patricia Ortega', 'Francisco Vargas', 'Marta Jiménez', 'Manuel Medina', 'Rosa Molina',\n",
        "    'Alejandro Silva', 'Silvia Ruiz', 'Andrés Torres', 'Natalia Soto', 'Diego Guerrero',\n",
        "    'Paula Ríos', 'Ricardo Navarro', 'Alicia Cordero', 'Carlos Vidal', 'Lorena Gómez']\n",
        "\n",
        "nombre_1 ='Miguel Castro'\n",
        "nombre_2 = 'Marcelo Noguera'\n",
        "\n",
        "if nombre_1 in lista:\n",
        "  print('El estudiante aprobo')\n",
        "else:\n",
        "   print('El estudiante reprobo')\n",
        "\n",
        "\n",
        "\n"
      ],
      "metadata": {
        "colab": {
          "base_uri": "https://localhost:8080/"
        },
        "outputId": "7b7d97ed-b4a1-46c9-f1ba-89325ca2106a",
        "id": "oZBs2t_ydyOs"
      },
      "execution_count": null,
      "outputs": [
        {
          "output_type": "stream",
          "name": "stdout",
          "text": [
            "El estudiante aprobo\n"
          ]
        }
      ]
    },
    {
      "cell_type": "code",
      "source": [
        "if nombre_2 in lista:\n",
        "  print('El estudiante aprobo')\n",
        "else:\n",
        "   print('El estudiante reprobo')"
      ],
      "metadata": {
        "colab": {
          "base_uri": "https://localhost:8080/"
        },
        "id": "ZdeqNdYTd1pT",
        "outputId": "2fe072e9-b8a7-4829-c0c4-be5e995e64da"
      },
      "execution_count": null,
      "outputs": [
        {
          "output_type": "stream",
          "name": "stdout",
          "text": [
            "El estudiante reprobo\n"
          ]
        }
      ]
    },
    {
      "cell_type": "markdown",
      "source": [
        "EJERCICIO DE CONDICIONALES"
      ],
      "metadata": {
        "id": "yYl68nE0f7_W"
      }
    },
    {
      "cell_type": "code",
      "source": [
        "#identificamos si un numero es mayor , menor o igual que otro numero\n",
        "num1= int(input('Digite un numero: '))\n",
        "num2= int(input('Digite un numero: '))\n",
        "\n",
        "if num1> num2:\n",
        " print(f'El primer numero es mayor:{num1}')\n",
        "elif num2>num1:\n",
        "  print(f' El segundo es mayor : {num2}')\n",
        "else:\n",
        "  print('Ambos son iguales')\n"
      ],
      "metadata": {
        "colab": {
          "base_uri": "https://localhost:8080/"
        },
        "id": "J-E4EdXGf7eN",
        "outputId": "79cd2c56-4351-48db-e649-cf5aeda74c8f"
      },
      "execution_count": null,
      "outputs": [
        {
          "output_type": "stream",
          "name": "stdout",
          "text": [
            "Digite un numero: 6\n",
            "Digite un numero: 8\n",
            " El segundo es mayor : 8\n"
          ]
        }
      ]
    },
    {
      "cell_type": "code",
      "source": [
        "# Recolectamos el porcentaje\n",
        "\n",
        "variación = float(input('Ingrese el porcentaje de crecimiento: '))\n",
        "\n",
        "# Verificamos si el valor es positivo o negativo con una comparación para ver si el número\n",
        "# es mayor o menor que 0\n",
        "\n",
        "if variación > 0:\n",
        "    print(f'Hubo un crecimiento del {variación}%')\n",
        "elif variación < 0:\n",
        "    print(f'Hubo un decrecimiento del {variación}%')\n",
        "else:\n",
        "    print('No hubo crecimiento ni decrecimiento.')"
      ],
      "metadata": {
        "colab": {
          "base_uri": "https://localhost:8080/"
        },
        "id": "HLJCT8uTf7X8",
        "outputId": "519828ad-a3d8-4144-efb2-4dd29dd7381e"
      },
      "execution_count": null,
      "outputs": [
        {
          "output_type": "stream",
          "name": "stdout",
          "text": [
            "Ingrese el porcentaje de crecimiento: -23\n",
            "Hubo un decrecimiento del -23.0%\n"
          ]
        }
      ]
    },
    {
      "cell_type": "code",
      "source": [
        "# identificamos si es vocal o consonante\n",
        "# Recolectamos la letra del usuario en minúsculas\n",
        "letra = input('Ingrese una letra: ').lower()\n",
        "vocales = 'aeiou' # cadena que contiene todas las vocales\n",
        "# Verificamos si la letra está en las vocales con `in`\n",
        "if letra in vocales:\n",
        "    print('La letra es una vocal.')\n",
        "else:\n",
        "    print('La letra es una consonante.')"
      ],
      "metadata": {
        "colab": {
          "base_uri": "https://localhost:8080/"
        },
        "id": "thkCiTt3f7T4",
        "outputId": "5c4eb3da-f8c7-4bf1-cefb-c842ca1c44d1"
      },
      "execution_count": null,
      "outputs": [
        {
          "output_type": "stream",
          "name": "stdout",
          "text": [
            "Ingrese una letra: c\n",
            "La letra es una consonante.\n"
          ]
        }
      ]
    },
    {
      "cell_type": "code",
      "source": [
        "#Buscamos el precio mas alto y el mas bajo\n",
        "# Recolectamos los precios de los 3 años\n",
        "precio_ano1 = float(input('Ingrese el precio promedio del automóvil en el primer año: '))\n",
        "precio_ano2 = float(input('Ingrese el precio promedio del automóvil en el segundo año: '))\n",
        "precio_ano3 = float(input('Ingrese el precio promedio del automóvil en el tercer año: '))\n",
        "# Determinamos el valor más alto mediante comparaciones\n",
        "mayor = precio_ano1\n",
        "if precio_ano2 > mayor:\n",
        "  mayor = precio_ano2\n",
        "if precio_ano3 > mayor:\n",
        "  mayor = precio_ano3\n",
        "# Determinamos el valor más bajo mediante comparaciones\n",
        "menor = precio_ano1\n",
        "if precio_ano2 < menor:\n",
        "  menor = precio_ano2\n",
        "if precio_ano3 < menor:\n",
        "  menor = precio_ano3\n",
        "# Mostramos los resultados\n",
        "print(f'El precio más alto fue de R$ {mayor}.')\n",
        "print(f'El precio más bajo fue de R$ {menor}.')"
      ],
      "metadata": {
        "colab": {
          "base_uri": "https://localhost:8080/"
        },
        "id": "Vrei-euRf7GG",
        "outputId": "3ddf97dc-c805-419a-e81a-fd2ec2bf5e0b"
      },
      "execution_count": null,
      "outputs": [
        {
          "output_type": "stream",
          "name": "stdout",
          "text": [
            "Ingrese el precio promedio del automóvil en el primer año: 25\n",
            "Ingrese el precio promedio del automóvil en el segundo año: 22\n",
            "Ingrese el precio promedio del automóvil en el tercer año: 21\n",
            "El precio más alto fue de R$ 25.0.\n",
            "El precio más bajo fue de R$ 21.0.\n"
          ]
        }
      ]
    },
    {
      "cell_type": "code",
      "source": [
        "#buscamos cual es el prducto mas barato\n",
        "producto1 = float(input('Ingrese el precio del primer producto: '))\n",
        "producto2 = float(input('Ingrese el precio del segundo producto: '))\n",
        "producto3 = float(input('Ingrese el precio del tercer producto: '))\n",
        "\n",
        "if producto1 < producto2 and producto1 < producto3:\n",
        "  print('El primer producto es el más barato.')\n",
        "elif producto2 < producto1 and producto2 < producto3:\n",
        "  print('El segundo producto es el más barato.')\n",
        "else:\n",
        "  print('El tercer producto es el mas barato')"
      ],
      "metadata": {
        "colab": {
          "base_uri": "https://localhost:8080/"
        },
        "id": "q3w27-k7f65P",
        "outputId": "05167e16-2461-42cc-cc36-f057b1210b98"
      },
      "execution_count": null,
      "outputs": [
        {
          "output_type": "stream",
          "name": "stdout",
          "text": [
            "Ingrese el precio del primer producto: 30\n",
            "Ingrese el precio del segundo producto: 31\n",
            "Ingrese el precio del tercer producto: 32\n",
            "El primer producto es el más barato.\n"
          ]
        }
      ]
    },
    {
      "cell_type": "code",
      "source": [
        "#Buscar el valor en orden descedente de unos numeros.\n",
        "# Recolectamos los 3 números\n",
        "num1 = int(input('Ingrese el primer número: '))\n",
        "num2 = int(input('Ingrese el segundo número: '))\n",
        "num3 = int(input('Ingrese el tercer número: '))\n",
        "\n",
        "# Comparación entre los 3 números\n",
        "if (num1 >= num2) and (num1 >= num3):\n",
        "    print(num1)\n",
        "    if num2 >= num3:\n",
        "        print(num2)\n",
        "        print(num3)\n",
        "    else:\n",
        "        print(num3)\n",
        "        print(num2)\n",
        "elif (num2 >= num1) and (num2 >= num3):\n",
        "    print(num2)\n",
        "    if num1 >= num3:\n",
        "        print(num1)\n",
        "        print(num3)\n",
        "    else:\n",
        "        print(num3)\n",
        "        print(num1)\n",
        "else:\n",
        "    print(num3)\n",
        "    if num1 >= num2:\n",
        "        print(num1)\n",
        "        print(num2)\n",
        "    else:\n",
        "        print(num2)\n",
        "        print(num1)"
      ],
      "metadata": {
        "colab": {
          "base_uri": "https://localhost:8080/"
        },
        "id": "1MCFXnAuf6qz",
        "outputId": "43858bef-dc93-4be4-adb6-31b9396db5de"
      },
      "execution_count": null,
      "outputs": [
        {
          "output_type": "stream",
          "name": "stdout",
          "text": [
            "Ingrese el primer número: 55\n",
            "Ingrese el segundo número: 45\n",
            "Ingrese el tercer número: 35\n",
            "55\n",
            "45\n",
            "35\n"
          ]
        }
      ]
    },
    {
      "cell_type": "code",
      "source": [
        "###Escribe un programa que pregunte en qué turno estudia la persona usuaria (\"mañana\", \"tarde\" o \"noche\") y\n",
        "##muestre el mensaje \"¡Buenos Días!\", \"¡Buenas Tardes!\", \"¡Buenas Noches!\" o \"Valor Inválido!\", según el caso.\n",
        "\n",
        "turno = input('Ingresa en qué turno estudias (mañana, tarde o noche): ')\n",
        "\n",
        "if turno == 'mañana':\n",
        "  print('¡Buenos Días!')\n",
        "elif turno == 'tarde':\n",
        "  print('¡Buenas Tardes!')\n",
        "elif turno == 'noche':\n",
        "  print('¡Buenas Noches!')\n",
        "else:\n",
        "  print('Valor Inválido!')"
      ],
      "metadata": {
        "colab": {
          "base_uri": "https://localhost:8080/"
        },
        "id": "Pm24TWr319Z8",
        "outputId": "0ba48278-ed51-44e4-c562-6d422ad4e481"
      },
      "execution_count": null,
      "outputs": [
        {
          "output_type": "stream",
          "name": "stdout",
          "text": [
            "Ingresa en qué turno estudias (mañana, tarde o noche): noche\n",
            "¡Buenas Noches!\n"
          ]
        }
      ]
    },
    {
      "cell_type": "code",
      "source": [
        "#Escribe un programa que solicite un número entero a la persona usuaria y determine si es par o impar.\n",
        "## Pista: Puedes usar el operador módulo (%).\n",
        "\n",
        "num_ent = int(input('Ingrese un número entero: '))\n",
        "if num_ent % 2 == 0:\n",
        "   print('El número es par.')\n",
        "else:\n",
        "   print('El número es impar.')\n"
      ],
      "metadata": {
        "id": "7xOwtkT-19Re",
        "colab": {
          "base_uri": "https://localhost:8080/"
        },
        "outputId": "aee22f94-70a2-427a-9a5b-4e3ece1140d4"
      },
      "execution_count": null,
      "outputs": [
        {
          "output_type": "stream",
          "name": "stdout",
          "text": [
            "Ingrese un número entero: 7\n",
            "El número es impar.\n"
          ]
        }
      ]
    },
    {
      "cell_type": "code",
      "source": [
        "# - Escribe un programa que pida un número a la persona usuaria y le informe si es entero o decimal\n",
        "\n",
        "num = float(input('Ingrese un número: '))\n",
        "if num %1 == 0 :\n",
        "  print('El número es entero.')\n",
        "else:\n",
        "  print('El número es decimal.')"
      ],
      "metadata": {
        "id": "Xc3qzYuY19GO",
        "colab": {
          "base_uri": "https://localhost:8080/"
        },
        "outputId": "cea81288-8f09-4ae8-98ab-a8547bf18b3f"
      },
      "execution_count": null,
      "outputs": [
        {
          "output_type": "stream",
          "name": "stdout",
          "text": [
            "Ingrese un número: 6\n",
            "El número es entero.\n"
          ]
        }
      ]
    },
    {
      "cell_type": "code",
      "source": [
        "#Un programa debe ser escrito para leer dos números y luego preguntar a la persona usuaria qué operación desea realizar.\n",
        "##El resultado de la operación debe incluir información sobre el número, si es par o impar, positivo o negativo, e entero o decimal.\n",
        "\n",
        "num1 = float(input('Ingrese el primer número: '))\n",
        "num2 = float(input('Ingrese el segundo número: '))\n",
        "operacion = input('Ingrese la operación que desea realizar (+, -, *, /): ')\n",
        "\n",
        "if operacion == '+':\n",
        "   resultado = num1 + num2\n",
        "   print(f'El resultado de la suma es: {resultado}')\n",
        "elif operacion == '-':\n",
        "   resultado = num1 - num2\n",
        "   print(f'El resultado de la resta es: {resultado}')\n",
        "elif operacion == '*' :\n",
        "  resultado = nu1 * num2\n",
        "  print(f'El ressultado de la multiplicacion es{resultado} ')\n",
        "elif operacion == '/':\n",
        "   resultado = num1 / num2\n",
        "   print(f'El resultado de la division es: {resultado}')\n",
        "else:\n",
        "   print('Operación inválida.')\n",
        "\n",
        "if resultado % 1 == 0:\n",
        "    print('El resultado es un número entero.')\n",
        "else:\n",
        "    print('El resultado es un número decimal.')\n",
        "\n",
        "if resultado > 0:\n",
        "    print('El resultado es positivo.')\n",
        "else:\n",
        "    print('El resultado es negativo.')\n",
        "\n",
        "if resultado % 2 == 0:\n",
        "    print('El resultado es un número par.')\n",
        "else:\n",
        "    print('El resultado es un número impar.')\n",
        "\n"
      ],
      "metadata": {
        "id": "-YUhFyAU2fE8",
        "colab": {
          "base_uri": "https://localhost:8080/"
        },
        "outputId": "e815b30b-d3b7-4e56-d39b-ea91c1341140"
      },
      "execution_count": null,
      "outputs": [
        {
          "output_type": "stream",
          "name": "stdout",
          "text": [
            "Ingrese el primer número: 22\n",
            "Ingrese el segundo número: 45\n",
            "Ingrese la operación que desea realizar (+, -, *, /): +\n",
            "El resultado de la suma es: 67.0\n",
            "El resultado es un número entero.\n",
            "El resultado es positivo.\n",
            "El resultado es un número impar.\n"
          ]
        }
      ]
    },
    {
      "cell_type": "code",
      "source": [
        "#Escribe un programa que pida a la persona usuaria tres números que representan los lados de un triángulo.\n",
        "#El programa debe informar si los valores pueden utilizarse para formar un triángulo y, en caso afirmativo,\n",
        "#si es equilátero, isósceles o escaleno. Ten en cuenta algunas sugerencias:\n",
        "\n",
        "#Tres lados forman un triángulo cuando la suma de cualesquiera dos lados es mayor que el tercero;\n",
        "#riángulo Equilátero: tres lados iguales;\n",
        "#Triángulo Isósceles: dos lados iguales;\n",
        "#Triángulo Escaleno: tres lados diferentes.\n",
        "\n",
        "num1 = float(input('Ingrese el primer lado del triángulo: '))\n",
        "num2 = float(input('Ingrese el segundo lado del triángulo: '))\n",
        "num3 = float(input('Ingrese el tercer lado del triángulo: '))\n",
        "\n",
        "if num1 + num2 > num3 and num1 + num3 > num2 and num2 + num3 > num1:\n",
        "  print('Se puede formar un triángulo.')\n",
        "\n",
        "  if num1 == num2 == num3:\n",
        "    print('El triángulo es equilátero.')\n",
        "  elif num1 != num2 or num1 != num3 or num2 != num3:\n",
        "    print('El triángulo es isósceles.')\n",
        "  else:\n",
        "    print('El triangulo es escaleno')\n"
      ],
      "metadata": {
        "id": "29AZe79f2e8j",
        "colab": {
          "base_uri": "https://localhost:8080/"
        },
        "outputId": "3bfa3b7d-45c4-4fe4-b58f-a759decbda32"
      },
      "execution_count": null,
      "outputs": [
        {
          "output_type": "stream",
          "name": "stdout",
          "text": [
            "Ingrese el primer lado del triángulo: 3\n",
            "Ingrese el segundo lado del triángulo: 4\n",
            "Ingrese el tercer lado del triángulo: 5\n",
            "Se puede formar un triángulo.\n",
            "El triángulo es isósceles.\n"
          ]
        }
      ]
    },
    {
      "cell_type": "markdown",
      "source": [
        "Un establecimiento está vendiendo combustibles con descuentos variables. Para el etanol, si la cantidad comprada es de hasta 15 litros, el descuento será del 2% por litro. En caso contrario, será del 4% por litro. Para el diésel, si la cantidad comprada es de hasta 15 litros, el descuento será del 3% por litro. En caso contrario, será del 5% por litro. El precio por litro de diésel es de R$ 2,00  y el  precio por litro de etanol  es de R$ 1,70. Escribe un programa que lea la cantidad de litros vendidos y el tipo de combustible (E para etanol y D para diésel) y calcule el valor a pagar por el cliente. Ten en cuenta algunas sugerencias:\n",
        "\n",
        "El valor del descuento será el producto del precio por litro, la cantidad de litros y el valor del descuento.\n",
        "El valor a pagar por un cliente será el resultado de la multiplicación del precio por litro por la cantidad de litros menos el valor del descuento resultante del cálculo."
      ],
      "metadata": {
        "id": "K5aIF0DY3N7r"
      }
    },
    {
      "cell_type": "markdown",
      "source": [],
      "metadata": {
        "id": "Kfi3peMp2vnq"
      }
    },
    {
      "cell_type": "code",
      "source": [
        "litros_vendidos_Diesel= float(input('Ingrese la cantidad de litros vendidos de Diesel: '))\n",
        "litros_vendidos_Etanol= float(input('Ingrese la cantidad de litros vendidos de Etanol: '))\n",
        "\n",
        "if litros_vendidos_Diesel <= 15:\n",
        "  precio_litro_Diesel = 2.00\n",
        "  descuento_Diesel = 0.03\n",
        "  valor_descuento_Diesel = precio_litro_Diesel * litros_vendidos_Diesel * descuento_Diesel\n",
        "  valor_a_pagar_Diesel = precio_litro_Diesel * litros_vendidos_Diesel - valor_descuento_Diesel\n",
        "  print(f'El valor a pagar por el diesel (3% dcto) es: {valor_a_pagar_Diesel}')\n",
        "else:\n",
        "  precio_litro_Diesel = 2.00\n",
        "  descuento_Diesel = 0.05\n",
        "  valor_descuento_Diesel = precio_litro_Diesel * litros_vendidos_Diesel * descuento_Diesel\n",
        "  valor_a_pagar_Diesel = precio_litro_Diesel * litros_vendidos_Diesel - valor_descuento_Diesel\n",
        "  print(f'El valor a pagar por el diesel(5% dcto) es: {valor_a_pagar_Diesel}')\n",
        "\n",
        "if litros_vendidos_Etanol <=15:\n",
        "  precio_litro_Etanol = 1.70\n",
        "  descuento_Etanol = 0.02\n",
        "  valor_descuento_Etanol = precio_litro_Etanol * litros_vendidos_Etanol * descuento_Etanol\n",
        "  valor_a_pagar_Etanol = precio_litro_Etanol * litros_vendidos_Etanol - valor_descuento_Etanol\n",
        "  print(f'El valor a pagar por el etanol(2% dcto) es: {valor_a_pagar_Etanol}')\n",
        "else:\n",
        "  precio_litro_Etanol = 1.70\n",
        "  descuento_Diesel = 0.04\n",
        "  valor_descuento_Etanol = precio_litro_Etanol * litros_vendidos_Etanol * descuento_Etanol\n",
        "  valor_a_pagar_Diesel = precio_litro_Etanol * litros_vendidos_Etanol - valor_descuento_Etanol\n",
        "  print(f'El valor a pagar por el etanol (4% dcto) es: {valor_a_pagar_Etanol}')\n"
      ],
      "metadata": {
        "id": "kabmXzo03pTq",
        "colab": {
          "base_uri": "https://localhost:8080/"
        },
        "outputId": "08c19020-7584-4df6-ed9f-7628482528f1"
      },
      "execution_count": null,
      "outputs": [
        {
          "output_type": "stream",
          "name": "stdout",
          "text": [
            "Ingrese la cantidad de litros vendidos de Diesel: 10\n",
            "Ingrese la cantidad de litros vendidos de Etanol: 10\n",
            "El valor a pagar por el diesel (3% dcto) es: 19.4\n",
            "El valor a pagar por el etanol(2% dcto) es: 16.66\n"
          ]
        }
      ]
    },
    {
      "cell_type": "markdown",
      "source": [
        "En una empresa de venta de bienes raíces, debes crear un código que analice los datos de ventas anuales para ayudar a la dirección en la toma de decisiones. El código debe recopilar los datos de cantidad de ventas durante los años 2022 y 2023 y calcular la variación porcentual. A partir del valor de la variación, se deben proporcionar las siguientes sugerencias:\n",
        "\n",
        "Para una variación superior al 20%: bonificación para el equipo de ventas.\n",
        "Para una variación entre el 2% y el 20%: pequeña bonificación para el equipo de ventas.\n",
        "Para una variación entre el 2% y el -10%: planificación de políticas de incentivo a las ventas.\n",
        "Para bonificaciones inferiores al -10%: recorte de gastos."
      ],
      "metadata": {
        "id": "J3FBp6M53r0t"
      }
    },
    {
      "cell_type": "code",
      "source": [
        "ventas_Año_2022= float(input('Ingrese la cantidad de ventas del año 2022: '))\n",
        "ventas_Año_2023= float(input('Ingrese la cantidad de ventas del año 2023: '))\n",
        "\n",
        "variacion_porcentual = (ventas_Año_2023 - ventas_Año_2022) / ventas_Año_2022 * 100\n",
        "\n",
        "if variacion_porcentual > 20:\n",
        "  print('Bonificación para el equipo de ventas')\n",
        "elif 2 <= variacion_porcentual <= 20:\n",
        "  print('Pequeña bonificación para el equipo de ventas')\n",
        "elif -10 < variacion_porcentual <= 2:\n",
        "  print('Planificación de políticas de incentivo a las ventas')\n",
        "else:\n",
        "  print('Recorte de gastos')"
      ],
      "metadata": {
        "id": "0knR67UW3vLg",
        "colab": {
          "base_uri": "https://localhost:8080/"
        },
        "outputId": "39c7c57b-87d1-476a-d2de-e7d226b10f77"
      },
      "execution_count": null,
      "outputs": [
        {
          "output_type": "stream",
          "name": "stdout",
          "text": [
            "Ingrese la cantidad de ventas del año 2022: 100\n",
            "Ingrese la cantidad de ventas del año 2023: 90\n",
            "Recorte de gastos\n"
          ]
        }
      ]
    },
    {
      "cell_type": "markdown",
      "source": [
        "# Estructuras de repetición"
      ],
      "metadata": {
        "id": "aL1vJPewvwvz"
      }
    },
    {
      "cell_type": "markdown",
      "source": [
        "Cuando tenemos que ejecutar un mismo bloque de comandos durante varias ocasiones no es nada práctico hacerlo a mano.\n",
        "\n",
        "**Situación**: Nos fue solicitado obtener e imprimir el promedio de 2 notas de **3 estudantes**:"
      ],
      "metadata": {
        "id": "VcPfCa8d-84t"
      }
    },
    {
      "cell_type": "code",
      "source": [],
      "metadata": {
        "id": "xcx21IGT9qA0"
      },
      "execution_count": null,
      "outputs": []
    },
    {
      "cell_type": "code",
      "source": [],
      "metadata": {
        "id": "Wtbiy9Ay9rGJ"
      },
      "execution_count": null,
      "outputs": []
    },
    {
      "cell_type": "code",
      "source": [],
      "metadata": {
        "id": "Yfyz4anY9rIr"
      },
      "execution_count": null,
      "outputs": []
    },
    {
      "cell_type": "markdown",
      "source": [
        "Ahora imaginemos una situación en que no son tan solo 3 estudiantes, sino 100 estudiantes. No sería nada interesante repetir el mismo código 100 veces, sino **ejecutar el mismo código 100 veces**.\n",
        "\n",
        "¡Esta estructura la logramos construir con lazos de repetición!"
      ],
      "metadata": {
        "id": "9puIuvUbFSFX"
      }
    },
    {
      "cell_type": "markdown",
      "source": [
        "## `WHILE`"
      ],
      "metadata": {
        "id": "uLO9-aE4-wx8"
      }
    },
    {
      "cell_type": "markdown",
      "source": [
        "El lazo `while` es una estructura de control de repetición en Python que permite ejecutar un bloque de código repetidamente mientras que una determinada condición sea verdadera. Su estructura es:\n",
        "\n",
        "\n",
        "\n",
        "```\n",
        "while condicion:\n",
        "    # bloque de codigo\n",
        "```\n",
        "\n",
        "Vamos a construir un ejemplo con un contador de 1 hasta 10.\n"
      ],
      "metadata": {
        "id": "rXZxDMiqHxm9"
      }
    },
    {
      "cell_type": "code",
      "source": [
        "contador = 1\n",
        "while contador <= 10:\n",
        "  print(contador)\n",
        "  contador = contador + 1"
      ],
      "metadata": {
        "id": "Hd0ZSWxD9wCD",
        "colab": {
          "base_uri": "https://localhost:8080/"
        },
        "outputId": "a6c465ba-2632-4c24-bfa0-56182e8ec9f7"
      },
      "execution_count": null,
      "outputs": [
        {
          "output_type": "stream",
          "name": "stdout",
          "text": [
            "1\n",
            "2\n",
            "3\n",
            "4\n",
            "5\n",
            "6\n",
            "7\n",
            "8\n",
            "9\n",
            "10\n"
          ]
        }
      ]
    },
    {
      "cell_type": "code",
      "source": [
        "contador = 1\n",
        "while contador <= 10:\n",
        "  print(contador)\n",
        "  contador +=1"
      ],
      "metadata": {
        "id": "miFHNqp29nOL",
        "colab": {
          "base_uri": "https://localhost:8080/"
        },
        "outputId": "52dedf0f-fdf2-4e2d-efba-efdd9a0b4c31"
      },
      "execution_count": null,
      "outputs": [
        {
          "output_type": "stream",
          "name": "stdout",
          "text": [
            "1\n",
            "2\n",
            "3\n",
            "4\n",
            "5\n",
            "6\n",
            "7\n",
            "8\n",
            "9\n",
            "10\n"
          ]
        }
      ]
    },
    {
      "cell_type": "markdown",
      "source": [
        "Ahora vamos a colectar las notas y promedios de cada alumno dentro del lazo `while`. Haremos un ejemplo con 3 promedios."
      ],
      "metadata": {
        "id": "W4KZPBJuIrut"
      }
    },
    {
      "cell_type": "code",
      "source": [
        "contador = 1\n",
        "while contador <= 2:\n",
        "  nota1 = float(input('Ingrese la nota 1: '))\n",
        "  nota2 = float(input('Ingrese la nota 2: '))\n",
        "  print(f' El promedio del estudiante 1 es : {(nota1+nota2)/2}')\n",
        "  contador +=1\n"
      ],
      "metadata": {
        "id": "9T5eCLFx9wk6",
        "colab": {
          "base_uri": "https://localhost:8080/"
        },
        "outputId": "a1c24713-a422-479a-db44-56de96874f0a"
      },
      "execution_count": null,
      "outputs": [
        {
          "output_type": "stream",
          "name": "stdout",
          "text": [
            "Ingrese la nota 1: 5\n",
            "Ingrese la nota 2: 6\n",
            " El promedio del estudiante 1 es : 5.5\n",
            "Ingrese la nota 1: 7\n",
            "Ingrese la nota 2: 8\n",
            " El promedio del estudiante 1 es : 7.5\n"
          ]
        }
      ]
    },
    {
      "cell_type": "code",
      "source": [],
      "metadata": {
        "id": "P6E0_dW-9lZ9"
      },
      "execution_count": null,
      "outputs": []
    },
    {
      "cell_type": "markdown",
      "source": [
        "## `FOR`"
      ],
      "metadata": {
        "id": "WgAIaENMMfCP"
      }
    },
    {
      "cell_type": "markdown",
      "source": [
        "El lazo `for` es un tipo de estructura de control de flujo en Python que permite iterar sobre un conjunto de elementos. Su estructura es:\n",
        "\n",
        "\n",
        "\n",
        "```\n",
        "for elemento in conjunto:\n",
        "    # codigo a ser ejecutado para cada elemento\n",
        "```\n",
        "\n",
        "El lazo `for` itera sobre cada elemento del conjunto especificado y ejecuta el bloque de código dentro del lazo para cada elemento. Cuando el lazo llega al final del conjunto, este se interrumpe y el programa continúa la ejecución después del lazo.\n",
        "\n"
      ],
      "metadata": {
        "id": "HxrSZoRAMh-x"
      }
    },
    {
      "cell_type": "markdown",
      "source": [
        "El conjunto lo podemos generar con la función incorporada [`range()`](https://docs.python.org/3/library/functions.html#func-range). Se trata de una función capaz de generar una secuencia de números enteros. La estructura de esta función es:\n",
        "\n",
        "```\n",
        "range(inicio, fin, paso)\n",
        "```\n",
        "\n",
        "Según la documentación, `range()` genera una secuencia de números enteros a partir del valor del parámetro `inicio` hasta el valor del parámetro `fin`, de acuerdo con el valor del parámetro `paso`. Si `inicio` no es especificado, el valor por defecto es `0`. Si `paso` no es especificado, el valor por defecto es `1`.\n",
        "\n",
        "\n"
      ],
      "metadata": {
        "id": "6VgjyoQtPHBM"
      }
    },
    {
      "cell_type": "markdown",
      "source": [
        "Vamos a recrear el mismo contador `while` con el lazo `for`."
      ],
      "metadata": {
        "id": "ryn0hfdlUwC8"
      }
    },
    {
      "cell_type": "code",
      "source": [
        "for n in  range(1,11):\n",
        "    print(n)\n"
      ],
      "metadata": {
        "id": "KkL1wUIj9jL4",
        "colab": {
          "base_uri": "https://localhost:8080/"
        },
        "outputId": "2d04ee01-c547-46ea-93ce-78ee557f9dda"
      },
      "execution_count": null,
      "outputs": [
        {
          "output_type": "stream",
          "name": "stdout",
          "text": [
            "1\n",
            "2\n",
            "3\n",
            "4\n",
            "5\n",
            "6\n",
            "7\n",
            "8\n",
            "9\n",
            "10\n"
          ]
        }
      ]
    },
    {
      "cell_type": "code",
      "source": [
        "for e in range(1,4):\n",
        "  nota1 = float(input('Ingrese la nota 1: '))\n",
        "  nota2 = float(input('Ingrese la nota 2: '))\n",
        "  print(f' El promedio del estudiante 1 es : {(nota1+nota2)/2}')"
      ],
      "metadata": {
        "id": "uXIZnLSr9jOu",
        "colab": {
          "base_uri": "https://localhost:8080/"
        },
        "outputId": "e4285ae2-37a3-4a4a-8810-5416c04e72ce"
      },
      "execution_count": null,
      "outputs": [
        {
          "output_type": "stream",
          "name": "stdout",
          "text": [
            "Ingrese la nota 1: 5\n",
            "Ingrese la nota 2: 6\n",
            " El promedio del estudiante 1 es : 5.5\n",
            "Ingrese la nota 1: 7\n",
            "Ingrese la nota 2: 8\n",
            " El promedio del estudiante 1 es : 7.5\n",
            "Ingrese la nota 1: 5\n",
            "Ingrese la nota 2: 7\n",
            " El promedio del estudiante 1 es : 6.0\n"
          ]
        }
      ]
    },
    {
      "cell_type": "markdown",
      "source": [
        "EJERCICIOS DE WHILE Y FOR"
      ],
      "metadata": {
        "id": "5SiX2F7KJP9k"
      }
    },
    {
      "cell_type": "code",
      "source": [
        "#1. Escribe un programa que solicite dos números enteros e imprima todos los números enteros entre ellos.\n",
        "num_ent1 = int(input('Ingrese el primer número entero: '))\n",
        "num_ent2 = int(input('Ingrese el segundo número entero: '))\n",
        "\n",
        "for n in range(num_ent1 + 1, num_ent2):\n",
        "  print(n)\n"
      ],
      "metadata": {
        "colab": {
          "base_uri": "https://localhost:8080/"
        },
        "id": "Lcw6j0ZLJPF2",
        "outputId": "e965f43b-78ef-4d65-db76-1e4dca97c8ff"
      },
      "execution_count": null,
      "outputs": [
        {
          "output_type": "stream",
          "name": "stdout",
          "text": [
            "Ingrese el primer número entero: 1\n",
            "Ingrese el segundo número entero: 5\n",
            "2\n",
            "3\n",
            "4\n"
          ]
        }
      ]
    },
    {
      "cell_type": "code",
      "source": [
        "#2 - Escribe un programa para calcular cuántos días tomará que la colonia de una bacteria A supere o iguale a la colonia de una bacteria B,\n",
        "# basado en tasas de crecimiento del 3% y 1.5%, respectivamente. Supón que la colonia A comienza con 4 elementos y B con 10.\n",
        "\n",
        "bact_A = 4\n",
        "bact_B = 10\n",
        "tasa_A = 0.03\n",
        "tasa_B = 0.015\n",
        "dias = 0\n",
        "\n",
        "while bact_A <= bact_B:\n",
        "  bact_A *= 1.03\n",
        "  bact_B *= 1.015\n",
        "  dias += 1\n",
        "  print(f'Necesitará {dias} días para que la bacteria A supere a la bacteria B.')"
      ],
      "metadata": {
        "id": "Jk7s52wZJPXC",
        "colab": {
          "base_uri": "https://localhost:8080/"
        },
        "outputId": "48a6c8e4-a628-49e3-fab7-8a53d9ed33ec"
      },
      "execution_count": null,
      "outputs": [
        {
          "output_type": "stream",
          "name": "stdout",
          "text": [
            "Necesitará 1 días para que la bacteria A supere a la bacteria B.\n",
            "Necesitará 2 días para que la bacteria A supere a la bacteria B.\n",
            "Necesitará 3 días para que la bacteria A supere a la bacteria B.\n",
            "Necesitará 4 días para que la bacteria A supere a la bacteria B.\n",
            "Necesitará 5 días para que la bacteria A supere a la bacteria B.\n",
            "Necesitará 6 días para que la bacteria A supere a la bacteria B.\n",
            "Necesitará 7 días para que la bacteria A supere a la bacteria B.\n",
            "Necesitará 8 días para que la bacteria A supere a la bacteria B.\n",
            "Necesitará 9 días para que la bacteria A supere a la bacteria B.\n",
            "Necesitará 10 días para que la bacteria A supere a la bacteria B.\n",
            "Necesitará 11 días para que la bacteria A supere a la bacteria B.\n",
            "Necesitará 12 días para que la bacteria A supere a la bacteria B.\n",
            "Necesitará 13 días para que la bacteria A supere a la bacteria B.\n",
            "Necesitará 14 días para que la bacteria A supere a la bacteria B.\n",
            "Necesitará 15 días para que la bacteria A supere a la bacteria B.\n",
            "Necesitará 16 días para que la bacteria A supere a la bacteria B.\n",
            "Necesitará 17 días para que la bacteria A supere a la bacteria B.\n",
            "Necesitará 18 días para que la bacteria A supere a la bacteria B.\n",
            "Necesitará 19 días para que la bacteria A supere a la bacteria B.\n",
            "Necesitará 20 días para que la bacteria A supere a la bacteria B.\n",
            "Necesitará 21 días para que la bacteria A supere a la bacteria B.\n",
            "Necesitará 22 días para que la bacteria A supere a la bacteria B.\n",
            "Necesitará 23 días para que la bacteria A supere a la bacteria B.\n",
            "Necesitará 24 días para que la bacteria A supere a la bacteria B.\n",
            "Necesitará 25 días para que la bacteria A supere a la bacteria B.\n",
            "Necesitará 26 días para que la bacteria A supere a la bacteria B.\n",
            "Necesitará 27 días para que la bacteria A supere a la bacteria B.\n",
            "Necesitará 28 días para que la bacteria A supere a la bacteria B.\n",
            "Necesitará 29 días para que la bacteria A supere a la bacteria B.\n",
            "Necesitará 30 días para que la bacteria A supere a la bacteria B.\n",
            "Necesitará 31 días para que la bacteria A supere a la bacteria B.\n",
            "Necesitará 32 días para que la bacteria A supere a la bacteria B.\n",
            "Necesitará 33 días para que la bacteria A supere a la bacteria B.\n",
            "Necesitará 34 días para que la bacteria A supere a la bacteria B.\n",
            "Necesitará 35 días para que la bacteria A supere a la bacteria B.\n",
            "Necesitará 36 días para que la bacteria A supere a la bacteria B.\n",
            "Necesitará 37 días para que la bacteria A supere a la bacteria B.\n",
            "Necesitará 38 días para que la bacteria A supere a la bacteria B.\n",
            "Necesitará 39 días para que la bacteria A supere a la bacteria B.\n",
            "Necesitará 40 días para que la bacteria A supere a la bacteria B.\n",
            "Necesitará 41 días para que la bacteria A supere a la bacteria B.\n",
            "Necesitará 42 días para que la bacteria A supere a la bacteria B.\n",
            "Necesitará 43 días para que la bacteria A supere a la bacteria B.\n",
            "Necesitará 44 días para que la bacteria A supere a la bacteria B.\n",
            "Necesitará 45 días para que la bacteria A supere a la bacteria B.\n",
            "Necesitará 46 días para que la bacteria A supere a la bacteria B.\n",
            "Necesitará 47 días para que la bacteria A supere a la bacteria B.\n",
            "Necesitará 48 días para que la bacteria A supere a la bacteria B.\n",
            "Necesitará 49 días para que la bacteria A supere a la bacteria B.\n",
            "Necesitará 50 días para que la bacteria A supere a la bacteria B.\n",
            "Necesitará 51 días para que la bacteria A supere a la bacteria B.\n",
            "Necesitará 52 días para que la bacteria A supere a la bacteria B.\n",
            "Necesitará 53 días para que la bacteria A supere a la bacteria B.\n",
            "Necesitará 54 días para que la bacteria A supere a la bacteria B.\n",
            "Necesitará 55 días para que la bacteria A supere a la bacteria B.\n",
            "Necesitará 56 días para que la bacteria A supere a la bacteria B.\n",
            "Necesitará 57 días para que la bacteria A supere a la bacteria B.\n",
            "Necesitará 58 días para que la bacteria A supere a la bacteria B.\n",
            "Necesitará 59 días para que la bacteria A supere a la bacteria B.\n",
            "Necesitará 60 días para que la bacteria A supere a la bacteria B.\n",
            "Necesitará 61 días para que la bacteria A supere a la bacteria B.\n",
            "Necesitará 62 días para que la bacteria A supere a la bacteria B.\n",
            "Necesitará 63 días para que la bacteria A supere a la bacteria B.\n"
          ]
        }
      ]
    },
    {
      "cell_type": "code",
      "source": [
        "#2 - Escribe un programa para calcular cuántos días tomará que la colonia de una bacteria A supere o iguale a la colonia de una bacteria B,\n",
        "# basado en tasas de crecimiento del 3% y 1.5%, respectivamente. Supón que la colonia A comienza con 4 elementos y B con 10.\n",
        "\n",
        "colonia_A = 4\n",
        "colonia_B = 10\n",
        "crecimiento_A = 0.03  # 3%\n",
        "crecimiento_B = 0.015 # 1.5%\n",
        "dias = 0\n",
        "\n",
        "while colonia_A < colonia_B:\n",
        "    colonia_A *= (1 + crecimiento_A)\n",
        "    colonia_B *= (1 + crecimiento_B)\n",
        "    dias += 1\n",
        "\n",
        "print(f\"Se necesitan {dias} días para que la colonia A iguale o supere a la colonia B.\")\n",
        "print(f\"Tamaño final de colonia A: {colonia_A:.2f}\")\n",
        "print(f\"Tamaño final de colonia B: {colonia_B:.2f}\")\n"
      ],
      "metadata": {
        "colab": {
          "base_uri": "https://localhost:8080/"
        },
        "id": "m_AmxgPAfIbR",
        "outputId": "8a871062-97c0-4a83-ed1a-b6d9ec0781d2"
      },
      "execution_count": 61,
      "outputs": [
        {
          "output_type": "stream",
          "name": "stdout",
          "text": [
            "Se necesitan 63 días para que la colonia A iguale o supere a la colonia B.\n",
            "Tamaño final de colonia A: 25.75\n",
            "Tamaño final de colonia B: 25.55\n"
          ]
        }
      ]
    },
    {
      "cell_type": "code",
      "source": [
        "\n",
        "colonia_A = 4\n",
        "colonia_B = 10\n",
        "crecimiento_A = 0.03\n",
        "crecimiento_B = 0.015\n",
        "dias = 0\n",
        "\n",
        "while True:\n",
        "    colonia_A *= (1 + crecimiento_A)\n",
        "    colonia_B *= (1 + crecimiento_B)\n",
        "    dias += 1\n",
        "\n",
        "    if colonia_A >= colonia_B:\n",
        "        break\n",
        "\n",
        "print(f\"Se necesitan {dias} días para que A iguale o supere a B.\")\n",
        "print(f\"Tamaño final de colonia A: {colonia_A:.2f}\")\n",
        "print(f\"Tamaño final de colonia B: {colonia_B:.2f}\")"
      ],
      "metadata": {
        "colab": {
          "base_uri": "https://localhost:8080/"
        },
        "id": "MtolbQ8_hQg6",
        "outputId": "e57aaebc-706e-4f70-d197-b61d07ad8a03"
      },
      "execution_count": 65,
      "outputs": [
        {
          "output_type": "stream",
          "name": "stdout",
          "text": [
            "Se necesitan 63 días para que A iguale o supere a B.\n",
            "Tamaño final de colonia A: 25.75\n",
            "Tamaño final de colonia B: 25.55\n"
          ]
        }
      ]
    },
    {
      "cell_type": "code",
      "source": [
        "#3 - Para procesar una cantidad de 15 datos de evaluaciones de usuarios de un servicio de la empresa, necesitamos verificar si las calificaciones son válidas.\n",
        "#Por lo tanto, escribe un programa que recibirá calificaciones del 0 al 5 y verificará si son valores válidos.\n",
        "#Si se ingresa una calificación superior a 5 o inferior a 0, se repetirá hasta que el usuario ingrese un valor válido.\n",
        "\n",
        "for i in range(15):\n",
        "  nota = float(input(f'Ingresa la nota del usuario {i}: '))\n",
        "\n",
        "  # Verifica si la nota está entre 0 y 5\n",
        "  # Si no lo está, el bucle se repetirá hasta que se obtenga un valor válido\n",
        "  while (nota < 0) or (nota > 5):\n",
        "    nota = float(input(f'Nota no válida, ingresa nuevamente la nota del usuario {i}: '))\n",
        "\n",
        "print('Verificación completa. Todas las notas son válidas.')\n",
        "4\n",
        "\n"
      ],
      "metadata": {
        "colab": {
          "base_uri": "https://localhost:8080/"
        },
        "id": "XOQZEciTJXD7",
        "outputId": "579b2b17-ca94-4b74-8551-bc288d3ad4ae"
      },
      "execution_count": null,
      "outputs": [
        {
          "output_type": "stream",
          "name": "stdout",
          "text": [
            "Ingresa la nota del usuario 0: 6\n",
            "Nota no válida, ingresa nuevamente la nota del usuario 0: 4\n",
            "Ingresa la nota del usuario 1: 4\n",
            "Ingresa la nota del usuario 2: 5\n",
            "Ingresa la nota del usuario 3: 5\n",
            "Ingresa la nota del usuario 4: 5\n",
            "Ingresa la nota del usuario 5: 5\n",
            "Ingresa la nota del usuario 6: 5\n",
            "Ingresa la nota del usuario 7: 5\n",
            "Ingresa la nota del usuario 8: 5\n",
            "Ingresa la nota del usuario 9: 4\n",
            "Ingresa la nota del usuario 10: 4\n",
            "Ingresa la nota del usuario 11: 4\n",
            "Ingresa la nota del usuario 12: 3\n",
            "Ingresa la nota del usuario 13: 1\n",
            "Ingresa la nota del usuario 14: 5\n",
            "Verificación completa. Todas las notas son válidas.\n"
          ]
        }
      ]
    },
    {
      "cell_type": "code",
      "source": [
        "#4 - Desarrolla un programa que lea un conjunto indefinido de temperaturas en grados Celsius y calcule su promedio.\n",
        "# La lectura debe detenerse al ingresar el valor -273°C.\n",
        "\n",
        "temperatura = float(input('Ingresa la temperatura en grados Celsius: '))\n",
        "temperatura_total = 0\n",
        "contador = 0\n",
        "\n",
        "while temperatura != -273:\n",
        "  temperatura_total += temperatura\n",
        "  contador += 1\n",
        "  temperatura = float(input('Ingresa la temperatura en grados Celsius: '))\n",
        "  promedio = temperatura_total / contador\n",
        "\n",
        "print(f'El promedio de las temperaturas es: {promedio}')\n"
      ],
      "metadata": {
        "colab": {
          "base_uri": "https://localhost:8080/"
        },
        "id": "SkDemINOJX42",
        "outputId": "0152526e-ff6a-4756-ca98-3e5684957069"
      },
      "execution_count": null,
      "outputs": [
        {
          "output_type": "stream",
          "name": "stdout",
          "text": [
            "Ingresa la temperatura en grados Celsius: 34\n",
            "Ingresa la temperatura en grados Celsius: 234\n",
            "Ingresa la temperatura en grados Celsius: 273\n",
            "Ingresa la temperatura en grados Celsius: -273\n",
            "El promedio de las temperaturas es: 180.33333333333334\n"
          ]
        }
      ]
    },
    {
      "cell_type": "code",
      "source": [
        "#5 - Escribe un programa que calcule el factorial de un número entero proporcionado por el usuario.\n",
        "#Recuerda que el factorial de un número entero es el producto de ese número por todos sus antecesores hasta llegar al número 1.\n",
        "#Por ejemplo, el factorial de 5 es 5 x 4 x 3 x 2 x 1 = 120.\n",
        "\n",
        "num = int(input('Ingresa un número entero: '))\n",
        "factorial = 1\n",
        "for i in range(1, num + 1):\n",
        "  factorial *= i\n",
        "print(f'El factorial de {num} es {factorial}')"
      ],
      "metadata": {
        "colab": {
          "base_uri": "https://localhost:8080/"
        },
        "id": "YQyq9ThoJXvu",
        "outputId": "1405eb9e-1538-4cf6-abf6-177dddb16983"
      },
      "execution_count": null,
      "outputs": [
        {
          "output_type": "stream",
          "name": "stdout",
          "text": [
            "Ingresa un número entero: 8\n",
            "El factorial de 8 es 40320\n"
          ]
        }
      ]
    },
    {
      "cell_type": "code",
      "source": [
        "#6 - Escribe un programa que genere la tabla de multiplicar de un número entero del 1 al 10, según la elección del usuario.\n",
        "#Como ejemplo, para el número 2, la tabla de multiplicar debe mostrarse en el siguiente formato:\n",
        "\n",
        "numero = int(input('Ingresa un número entero: '))\n",
        "for i in range(1, 11):\n",
        "  print(f'{numero} x {i} = {numero * i}')"
      ],
      "metadata": {
        "colab": {
          "base_uri": "https://localhost:8080/"
        },
        "id": "_rKaYkg5JXiU",
        "outputId": "f79b8fee-311d-4839-c105-df3293f3fc0b"
      },
      "execution_count": null,
      "outputs": [
        {
          "output_type": "stream",
          "name": "stdout",
          "text": [
            "Ingresa un número entero: 5\n",
            "5 x 1 = 5\n",
            "5 x 2 = 10\n",
            "5 x 3 = 15\n",
            "5 x 4 = 20\n",
            "5 x 5 = 25\n",
            "5 x 6 = 30\n",
            "5 x 7 = 35\n",
            "5 x 8 = 40\n",
            "5 x 9 = 45\n",
            "5 x 10 = 50\n"
          ]
        }
      ]
    },
    {
      "cell_type": "code",
      "source": [
        "#7 - Los números primos tienen diversas aplicaciones en Ciencia de Datos, como en criptografía y seguridad.\n",
        "#Un número primo es aquel que es divisible solo por sí mismo y por 1.\n",
        "#Por lo tanto, crea un programa que solicite un número entero y determine si es un número primo o no.\n",
        "\n",
        "numero = int(input('Ingresa un número entero: '))\n",
        "if num>1:\n",
        "\n",
        "  for i in range(2, numero):\n",
        "    if numero % i == 0:\n",
        "       print(f' {numero} no es un numero primo')\n",
        "       break\n",
        "  else:\n",
        "    print(f'{numero} Es un número primo')\n",
        "\n",
        "else:\n",
        "  print(f'{numero} no es un número primo.')"
      ],
      "metadata": {
        "colab": {
          "base_uri": "https://localhost:8080/"
        },
        "id": "mx0UrprjJO1p",
        "outputId": "067104cf-e45c-4200-e0af-18cf2ec5df95"
      },
      "execution_count": null,
      "outputs": [
        {
          "output_type": "stream",
          "name": "stdout",
          "text": [
            "Ingresa un número entero: 7\n",
            "7 Es un número primo\n"
          ]
        }
      ]
    },
    {
      "cell_type": "code",
      "source": [
        "#8 - Vamos a comprender la distribución de edades de los pensionistas de una empresa de seguros.\n",
        "#Escribe un programa que lea las edades de una cantidad no informada de clientes y muestre la distribución en los intervalos [0-25], [26-50], [51-75] y [76-100].\n",
        "#La entrada de datos se detendrá al ingresar un número negativo.\n",
        "\n",
        "edad = int(input('Ingresa la edad del pensionista: '))\n",
        "\n",
        "contador_0_25 = 0\n",
        "contador_26_50 = 0\n",
        "contador_51_75 = 0\n",
        "contador_76_100 = 0\n",
        "\n",
        "while edad >= 0:\n",
        "  if edad>= 0 and edad <= 25:\n",
        "    contador_0_25 += 1\n",
        "  if edad >= 26 and edad <= 50:\n",
        "     contador_26_50 +=1\n",
        "  if edad>= 51 and edad <= 75:\n",
        "     contador_51_75 +=1\n",
        "  if edad>= 51 and edad <= 75:\n",
        "     contador_76_100 +=1\n",
        "  edad = int(input('Ingresa la edad del pensionista: '))\n",
        "\n",
        "  print('Distribución de edades:')\n",
        "  print(f'[0-25]: {contador_0_25}')\n",
        "  print(f'[26-50]: {contador_26_50}')\n",
        "  print(f'[51-75]: {contador_51_75}')\n",
        "  print(f'[76-100]: {contador_76_100}')\n",
        "\n",
        "\n",
        "\n"
      ],
      "metadata": {
        "colab": {
          "base_uri": "https://localhost:8080/"
        },
        "id": "u3oWZ7fqKybv",
        "outputId": "337c5f00-f316-4728-cf55-99445a6c274f"
      },
      "execution_count": null,
      "outputs": [
        {
          "output_type": "stream",
          "name": "stdout",
          "text": [
            "Ingresa la edad del pensionista: 75\n",
            "Ingresa la edad del pensionista: 100\n",
            "Distribución de edades:\n",
            "[0-25]: 0\n",
            "[26-50]: 0\n",
            "[51-75]: 1\n",
            "[76-100]: 1\n",
            "Ingresa la edad del pensionista: 78\n",
            "Distribución de edades:\n",
            "[0-25]: 0\n",
            "[26-50]: 0\n",
            "[51-75]: 1\n",
            "[76-100]: 1\n",
            "Ingresa la edad del pensionista: 65\n",
            "Distribución de edades:\n",
            "[0-25]: 0\n",
            "[26-50]: 0\n",
            "[51-75]: 1\n",
            "[76-100]: 1\n",
            "Ingresa la edad del pensionista: 55\n",
            "Distribución de edades:\n",
            "[0-25]: 0\n",
            "[26-50]: 0\n",
            "[51-75]: 2\n",
            "[76-100]: 2\n",
            "Ingresa la edad del pensionista: 45\n",
            "Distribución de edades:\n",
            "[0-25]: 0\n",
            "[26-50]: 0\n",
            "[51-75]: 3\n",
            "[76-100]: 3\n",
            "Ingresa la edad del pensionista: 33\n",
            "Distribución de edades:\n",
            "[0-25]: 0\n",
            "[26-50]: 1\n",
            "[51-75]: 3\n",
            "[76-100]: 3\n",
            "Ingresa la edad del pensionista: 22\n",
            "Distribución de edades:\n",
            "[0-25]: 0\n",
            "[26-50]: 2\n",
            "[51-75]: 3\n",
            "[76-100]: 3\n",
            "Ingresa la edad del pensionista: -1\n",
            "Distribución de edades:\n",
            "[0-25]: 1\n",
            "[26-50]: 2\n",
            "[51-75]: 3\n",
            "[76-100]: 3\n"
          ]
        }
      ]
    },
    {
      "cell_type": "code",
      "source": [
        "#9 - En una elección para la gerencia de una empresa con 20 empleados, hay cuatro candidatos. Escribe un programa que calcule al ganador de la elección.\n",
        "#La votación se realizó de la siguiente manera: Cada empleado votó por uno de los cuatro candidatos (representados por los números 1, 2, 3 y 4).\n",
        "#También se contaron los votos nulos (representados por el número 5) y los votos en blanco (representados por el número 6).\n",
        "#Al final de la votación, el programa debe mostrar el número total de votos para cada candidato, los votos nulos y los votos en blanco.\n",
        "#Además, debe calcular y mostrar el porcentaje de votos nulos con respecto al total de votos y el porcentaje de votos en blanco con respecto al total de votos.\n",
        "\n",
        "candidato_1=0\n",
        "candidato_2=0\n",
        "candidato_3=0\n",
        "candidato_4=0\n",
        "votos_nulos=0\n",
        "votos_en_blanco=0\n",
        "\n",
        "for i in range (0,10):\n",
        "   voto = int(input('Ingrese su voto: '))\n",
        "   if voto == 1:\n",
        "    candidato_1 += 1\n",
        "   elif voto == 2:\n",
        "    candidato_2 += 1\n",
        "   elif voto == 3:\n",
        "    candidato_3 += 1\n",
        "   elif voto == 4:\n",
        "    candidato_4 += 1\n",
        "   elif voto == 5:\n",
        "    votos_nulos += 1\n",
        "   elif voto == 6:\n",
        "    votos_en_blanco += 1\n",
        "   else:\n",
        "    print('Voto inválido')\n",
        "\n",
        "print(f'El candidato 1 obtuvo {candidato_1} votos')\n",
        "print(f'El candidato 2 obtuvo {candidato_2} votos')\n",
        "print(f'El candidato 3 obtuvo {candidato_3} votos')\n",
        "print(f'El candidato 4 obtuvo {candidato_4} votos')\n",
        "print(f'Hubo {votos_nulos} votos nulos')\n",
        "print(f'Hubo {votos_en_blanco} votos en blanco')\n",
        "print(f'Porcentaje de votos nulos: {votos_nulos/10*100}%')\n",
        "print(f'Porcentaje de votos en blanco: {votos_en_blanco/10*100}%')\n"
      ],
      "metadata": {
        "colab": {
          "base_uri": "https://localhost:8080/"
        },
        "id": "p_cw7B5XKyJ7",
        "outputId": "04788d22-6908-47e7-b2b2-4d5b27cc0c7a"
      },
      "execution_count": null,
      "outputs": [
        {
          "output_type": "stream",
          "name": "stdout",
          "text": [
            "Ingrese su voto: 2\n",
            "Ingrese su voto: 2\n",
            "Ingrese su voto: 2\n",
            "Ingrese su voto: 2\n",
            "Ingrese su voto: 2\n",
            "Ingrese su voto: 4\n",
            "Ingrese su voto: 4\n",
            "Ingrese su voto: 6\n",
            "Ingrese su voto: 5\n",
            "Ingrese su voto: 5\n",
            "El candidato 1 obtuvo 0 votos\n",
            "El candidato 2 obtuvo 5 votos\n",
            "El candidato 3 obtuvo 0 votos\n",
            "El candidato 4 obtuvo 2 votos\n",
            "Hubo 2 votos nulos\n",
            "Hubo 1 votos en blanco\n",
            "Porcentaje de votos nulos: 20.0%\n",
            "Porcentaje de votos en blanco: 10.0%\n"
          ]
        }
      ]
    },
    {
      "cell_type": "markdown",
      "source": [],
      "metadata": {
        "id": "XX5cPvrAKgCW"
      }
    },
    {
      "cell_type": "markdown",
      "source": [
        "# Estructuras de datos"
      ],
      "metadata": {
        "id": "8noP8OJ0Vhux"
      }
    },
    {
      "cell_type": "markdown",
      "source": [
        "Un conjunto de elementos es una colección de items, que son almacenados juntos de manera organizada. Algunos ejemplos de conjuntos de elementos en Python son las listas, los strings y los diccionarios."
      ],
      "metadata": {
        "id": "xpEUkefTu8fY"
      }
    },
    {
      "cell_type": "code",
      "source": [
        "pregunta = '¿Quién vino primero? ¿El huevo? ¿O fue la serpiente?'\n",
        "lista_palabras = pregunta.split('?')\n",
        "print(lista_palabras)\n"
      ],
      "metadata": {
        "colab": {
          "base_uri": "https://localhost:8080/"
        },
        "id": "LH6uAAphh5EY",
        "outputId": "a0e90be5-35e4-439f-8b2d-05b90805791a"
      },
      "execution_count": null,
      "outputs": [
        {
          "output_type": "stream",
          "name": "stdout",
          "text": [
            "['¿Quién vino primero', ' ¿El huevo', ' ¿O fue la serpiente', '']\n"
          ]
        }
      ]
    },
    {
      "cell_type": "markdown",
      "source": [
        "## Listas"
      ],
      "metadata": {
        "id": "THSg4KYLwxIb"
      }
    },
    {
      "cell_type": "markdown",
      "source": [
        "Las listas pueden almacenar una colección de items en orden. Ellas son delimitadas por corchetes `[]` y sus elementos son separados por comas.\n",
        "\n",
        "Estas pueden almacenar cualquier tipo de items, incluyendo números, strings, objetos, otras listas, entre otros. También nos permiten almacenar items de tipos de datos diferentes juntos en una única lista."
      ],
      "metadata": {
        "id": "dzpsiqrOyJcK"
      }
    },
    {
      "cell_type": "code",
      "source": [
        "lista = ['Penélope Camacho',9.5,9.0,9.7,True]\n",
        "lista"
      ],
      "metadata": {
        "id": "DO3TBj7nAYeG",
        "colab": {
          "base_uri": "https://localhost:8080/"
        },
        "outputId": "fbee2eb5-265e-4b5b-badf-a0dd9331074b"
      },
      "execution_count": null,
      "outputs": [
        {
          "output_type": "execute_result",
          "data": {
            "text/plain": [
              "['Penélope Camacho', 9.5, 9.0, 9.7, True]"
            ]
          },
          "metadata": {},
          "execution_count": 62
        }
      ]
    },
    {
      "cell_type": "code",
      "source": [
        "lista = ['Penélope Camacho',9.5,9.0,9.7,True]\n",
        "\n",
        "type(lista)"
      ],
      "metadata": {
        "id": "DO2ubP9N9D_2",
        "colab": {
          "base_uri": "https://localhost:8080/"
        },
        "outputId": "e878916e-1c1e-42cd-dcc3-94b610530254"
      },
      "execution_count": null,
      "outputs": [
        {
          "output_type": "execute_result",
          "data": {
            "text/plain": [
              "list"
            ]
          },
          "metadata": {},
          "execution_count": 93
        }
      ]
    },
    {
      "cell_type": "markdown",
      "source": [
        "Las listas son organizadas en Python porque **cada elemento de la lista tiene un índice que indica su posición al interior de la lista**. Los índices comienzan en 0 van hasta el tamaño de la lista menos 1."
      ],
      "metadata": {
        "id": "qUz3sJNl6LgK"
      }
    },
    {
      "cell_type": "markdown",
      "source": [
        "Tenemos entonces 5 elementos con índices que varían de 0 a 4, ordenadamente:\n",
        "\n",
        "```\n",
        "#             [0]           [1]   [2]   [3]    [4]\n",
        "lista = ['Penélope Camacho', 9.5 , 9.0 , 9.7 , True]\n",
        "```\n",
        "\n",
        "En Python tenemos también los índices **negativos** que se inician en el último elemento con el valor de `-1` y avanzan en el universo de los negativos hasta llegar al 1° elemento:\n",
        "\n",
        "```\n",
        "#             [-5]         [-4]  [-3]  [-2]   [-1]\n",
        "lista = ['Penélope Camacho', 9.5 , 9.0 , 9.7 , True]\n",
        "```\n",
        "\n",
        "Logramos seleccionar separadamente cada elemento a través de sus respectivos índices. Colocando el nombre de la lista y en seguida el índice que será seleccionado."
      ],
      "metadata": {
        "id": "rLf-Qg526hFD"
      }
    },
    {
      "cell_type": "code",
      "source": [
        "lista[0]"
      ],
      "metadata": {
        "id": "M8lH0I2288Ph",
        "colab": {
          "base_uri": "https://localhost:8080/",
          "height": 35
        },
        "outputId": "a27f5ef6-c967-46c2-e411-5c543d850259"
      },
      "execution_count": null,
      "outputs": [
        {
          "output_type": "execute_result",
          "data": {
            "text/plain": [
              "'Penélope Camacho'"
            ],
            "application/vnd.google.colaboratory.intrinsic+json": {
              "type": "string"
            }
          },
          "metadata": {},
          "execution_count": 94
        }
      ]
    },
    {
      "cell_type": "markdown",
      "source": [
        "Una forma más dinámica de trabajar item a item en una lista es utilizando un lazo `for` para leer un elemento a la vez."
      ],
      "metadata": {
        "id": "6TaE1ijmBTCd"
      }
    },
    {
      "cell_type": "code",
      "source": [
        "type(lista[0])"
      ],
      "metadata": {
        "id": "rBx4Yu1786Sy",
        "colab": {
          "base_uri": "https://localhost:8080/"
        },
        "outputId": "d332d08f-1e29-4292-eb43-4e0c94651a5b"
      },
      "execution_count": null,
      "outputs": [
        {
          "output_type": "execute_result",
          "data": {
            "text/plain": [
              "str"
            ]
          },
          "metadata": {},
          "execution_count": 95
        }
      ]
    },
    {
      "cell_type": "code",
      "source": [
        "for elemento in lista:\n",
        "  print(elemento)"
      ],
      "metadata": {
        "colab": {
          "base_uri": "https://localhost:8080/"
        },
        "id": "kWqbgCfE0ecJ",
        "outputId": "754b01e5-6e8b-4c1d-face-1380dcc5ed96"
      },
      "execution_count": null,
      "outputs": [
        {
          "output_type": "stream",
          "name": "stdout",
          "text": [
            "Penélope Camacho\n",
            "9.5\n",
            "9.0\n",
            "9.7\n",
            "True\n"
          ]
        }
      ]
    },
    {
      "cell_type": "markdown",
      "source": [
        "**Situación**: La nota `9.0` de Penélope necesita ser ajustada pues ganó 1 punto en su última nota por participación en clase. Entonces es necesario realizar un cambio en el índice `2` de `9.0` a `10.0`."
      ],
      "metadata": {
        "id": "Dh1_HnIVvucY"
      }
    },
    {
      "cell_type": "code",
      "source": [
        "lista[2]= 10.0"
      ],
      "metadata": {
        "id": "bVPoZg668z3T"
      },
      "execution_count": null,
      "outputs": []
    },
    {
      "cell_type": "code",
      "source": [
        "lista"
      ],
      "metadata": {
        "id": "Jo_PBQ0g8z7D",
        "colab": {
          "base_uri": "https://localhost:8080/"
        },
        "outputId": "15701098-7600-4ff8-d0f6-60aba7d3568c"
      },
      "execution_count": null,
      "outputs": [
        {
          "output_type": "execute_result",
          "data": {
            "text/plain": [
              "['Penélope Camacho', 9.5, 10.0, 9.7, True]"
            ]
          },
          "metadata": {},
          "execution_count": 100
        }
      ]
    },
    {
      "cell_type": "markdown",
      "source": [
        "También podemos calcular el promedio del estudiante a partir de los datos que tenemos."
      ],
      "metadata": {
        "id": "53XduzXkycAf"
      }
    },
    {
      "cell_type": "code",
      "source": [
        "promedio = (lista[1]+lista[2]+lista[3])/3\n",
        "promedio"
      ],
      "metadata": {
        "id": "SIH61Rrb8yv4",
        "colab": {
          "base_uri": "https://localhost:8080/"
        },
        "outputId": "13a88be4-b0c9-4380-d7be-e2d3487b8a35"
      },
      "execution_count": null,
      "outputs": [
        {
          "output_type": "execute_result",
          "data": {
            "text/plain": [
              "9.733333333333333"
            ]
          },
          "metadata": {},
          "execution_count": 101
        }
      ]
    },
    {
      "cell_type": "markdown",
      "source": [
        "## Manipulación de listas\n",
        "\n",
        "Las listas son muy útiles en Python porque nos permiten almacenar y acceder a una colección de items de manera organizada y rápida. Estas también ofrecen muchos métodos útiles para manipular los itens almacenados, como adicionar, remover, clasificar y buscar elementos."
      ],
      "metadata": {
        "id": "d-iYr10-y4qw"
      }
    },
    {
      "cell_type": "code",
      "source": [
        "len(lista)"
      ],
      "metadata": {
        "colab": {
          "base_uri": "https://localhost:8080/"
        },
        "id": "O2B2L-h81Sc2",
        "outputId": "e732e94c-4533-4bba-8be1-1bfc150f5d28"
      },
      "execution_count": null,
      "outputs": [
        {
          "output_type": "execute_result",
          "data": {
            "text/plain": [
              "5"
            ]
          },
          "metadata": {},
          "execution_count": 102
        }
      ]
    },
    {
      "cell_type": "code",
      "source": [
        " #Uso del metodo Insert\n",
        "\n",
        "razas_de_perros = ['Labrador Retriever',\n",
        "                   'Bulldog Francés',\n",
        "                   'Pastor Alemán',\n",
        "                   'Poodle']\n",
        "\n",
        "razas_de_perros.insert(1, 'Golden Retriever')\n",
        "razas_de_perros"
      ],
      "metadata": {
        "id": "4hco1Zqy88Kw",
        "colab": {
          "base_uri": "https://localhost:8080/"
        },
        "outputId": "132fe9de-8959-48a2-ed7c-e705f5ebdd11"
      },
      "execution_count": null,
      "outputs": [
        {
          "output_type": "execute_result",
          "data": {
            "text/plain": [
              "['Labrador Retriever',\n",
              " 'Golden Retriever',\n",
              " 'Bulldog Francés',\n",
              " 'Pastor Alemán',\n",
              " 'Poodle']"
            ]
          },
          "metadata": {},
          "execution_count": 74
        }
      ]
    },
    {
      "cell_type": "markdown",
      "source": [
        "#### Cantidad de elementos\n",
        "\n",
        "Usamos la función [`len()`](https://docs.python.org/3/library/functions.html#len) para descubrir la cantidad de elementos de un conjunto."
      ],
      "metadata": {
        "id": "ZLqx9A97XVB_"
      }
    },
    {
      "cell_type": "code",
      "source": [
        "razas_de_perros = ['Labrador Retriever',\n",
        "                   'Golden Retriever',\n",
        "                   'Bulldog Francés',\n",
        "                   'Pastor Alemán',\n",
        "                   'Poodle']\n",
        "len(razas_de_perros)\n"
      ],
      "metadata": {
        "id": "6q1Tmm7P8wQf",
        "colab": {
          "base_uri": "https://localhost:8080/"
        },
        "outputId": "a071fc91-1ad5-4c1c-f291-ba351dd36332"
      },
      "execution_count": null,
      "outputs": [
        {
          "output_type": "execute_result",
          "data": {
            "text/plain": [
              "5"
            ]
          },
          "metadata": {},
          "execution_count": 81
        }
      ]
    },
    {
      "cell_type": "code",
      "source": [
        "#Uso metodo Pop, entrega el elemento de la lista según indice idicado.\n",
        "razas_de_perros.pop (1)\n"
      ],
      "metadata": {
        "colab": {
          "base_uri": "https://localhost:8080/",
          "height": 35
        },
        "id": "yhcWyNzPlFJC",
        "outputId": "997a2b2b-d296-431f-abd0-6347e862b8fb"
      },
      "execution_count": null,
      "outputs": [
        {
          "output_type": "execute_result",
          "data": {
            "text/plain": [
              "'Golden Retriever'"
            ],
            "application/vnd.google.colaboratory.intrinsic+json": {
              "type": "string"
            }
          },
          "metadata": {},
          "execution_count": 82
        }
      ]
    },
    {
      "cell_type": "code",
      "source": [
        "#Uso de Index, entrega el indice del elemento indicado.\n",
        "razas_de_perros.index('Pastor Alemán')"
      ],
      "metadata": {
        "colab": {
          "base_uri": "https://localhost:8080/"
        },
        "id": "gfMMoIiTlrZA",
        "outputId": "844b804a-b0d3-4040-e0f2-67d71c8df3da"
      },
      "execution_count": null,
      "outputs": [
        {
          "output_type": "execute_result",
          "data": {
            "text/plain": [
              "2"
            ]
          },
          "metadata": {},
          "execution_count": 83
        }
      ]
    },
    {
      "cell_type": "code",
      "source": [
        "#Metodo SORT\n",
        "razas_de_perros = ['Labrador Retriever',\n",
        "                   'Golden Retriever',\n",
        "                   'Bulldog Francés',\n",
        "                   'Pastor Alemán',\n",
        "                   'Poodle']\n",
        "razas_de_perros.sort()\n",
        "razas_de_perros\n"
      ],
      "metadata": {
        "colab": {
          "base_uri": "https://localhost:8080/"
        },
        "id": "j8W1_N0Bl61e",
        "outputId": "7c69802c-2351-4a06-ca15-1bf6f2235723"
      },
      "execution_count": null,
      "outputs": [
        {
          "output_type": "execute_result",
          "data": {
            "text/plain": [
              "['Bulldog Francés',\n",
              " 'Golden Retriever',\n",
              " 'Labrador Retriever',\n",
              " 'Pastor Alemán',\n",
              " 'Poodle']"
            ]
          },
          "metadata": {},
          "execution_count": 85
        }
      ]
    },
    {
      "cell_type": "markdown",
      "source": [
        "#### Partición\n",
        "\n",
        "La partición de listas por indexación en Python es una técnica muy útil para seleccionar un subconjunto de elementos de una lista. Esta se realiza usando la sintaxis `lista[inicio:fin]`, donde `inicio` es el índice del primer elemento que será incluído en la partición `fin` es el índice del primer elemento que será excluído de la partición."
      ],
      "metadata": {
        "id": "Z5tpstlHJss3"
      }
    },
    {
      "cell_type": "code",
      "source": [
        "lista[0:2]"
      ],
      "metadata": {
        "id": "NctvJTTU8uV9",
        "colab": {
          "base_uri": "https://localhost:8080/"
        },
        "outputId": "6b17f567-f086-4a31-ce48-ee1ce1dad7c2"
      },
      "execution_count": null,
      "outputs": [
        {
          "output_type": "execute_result",
          "data": {
            "text/plain": [
              "['Penélope Camacho', 9.5]"
            ]
          },
          "metadata": {},
          "execution_count": 103
        }
      ]
    },
    {
      "cell_type": "code",
      "source": [
        "lista[:3]"
      ],
      "metadata": {
        "id": "bQZUwldj8uY2",
        "colab": {
          "base_uri": "https://localhost:8080/"
        },
        "outputId": "00f87c05-57d4-416e-b1f3-90ae1b126085"
      },
      "execution_count": null,
      "outputs": [
        {
          "output_type": "execute_result",
          "data": {
            "text/plain": [
              "['Penélope Camacho', 9.5, 10.0]"
            ]
          },
          "metadata": {},
          "execution_count": 104
        }
      ]
    },
    {
      "cell_type": "code",
      "source": [
        "lista[3:]"
      ],
      "metadata": {
        "colab": {
          "base_uri": "https://localhost:8080/"
        },
        "id": "bz3bqtVA1s0u",
        "outputId": "fefa0633-a8aa-47da-c7cc-a0ed7543d244"
      },
      "execution_count": null,
      "outputs": [
        {
          "output_type": "execute_result",
          "data": {
            "text/plain": [
              "[9.7, True]"
            ]
          },
          "metadata": {},
          "execution_count": 105
        }
      ]
    },
    {
      "cell_type": "code",
      "source": [
        "lista[:]"
      ],
      "metadata": {
        "colab": {
          "base_uri": "https://localhost:8080/"
        },
        "id": "2vsUO3h81x6B",
        "outputId": "4865ff4e-7cad-4f16-ccdf-02cf047b63a8"
      },
      "execution_count": null,
      "outputs": [
        {
          "output_type": "execute_result",
          "data": {
            "text/plain": [
              "['Penélope Camacho', 9.5, 10.0, 9.7, True]"
            ]
          },
          "metadata": {},
          "execution_count": 106
        }
      ]
    },
    {
      "cell_type": "markdown",
      "source": [
        "#### [`append()`](https://docs.python.org/3/tutorial/datastructures.html#:~:text=of%20list%20objects%3A-,list.append(x),-Add%20an%20item)\n",
        "\n",
        "Añade un elemento al final de la lista."
      ],
      "metadata": {
        "id": "O0RRyabkRzZC"
      }
    },
    {
      "cell_type": "code",
      "source": [
        "lista.append(promedio)"
      ],
      "metadata": {
        "id": "_Q0oODwa8spC"
      },
      "execution_count": null,
      "outputs": []
    },
    {
      "cell_type": "code",
      "source": [
        "lista"
      ],
      "metadata": {
        "id": "RM894r2M8sse",
        "colab": {
          "base_uri": "https://localhost:8080/"
        },
        "outputId": "c289b412-1e97-495d-c4dc-5755f2efc744"
      },
      "execution_count": null,
      "outputs": [
        {
          "output_type": "execute_result",
          "data": {
            "text/plain": [
              "['Penélope Camacho', 9.5, 10.0, 9.7, True, 9.733333333333333]"
            ]
          },
          "metadata": {},
          "execution_count": 108
        }
      ]
    },
    {
      "cell_type": "markdown",
      "source": [
        "#### [`extend()`](https://docs.python.org/3/tutorial/datastructures.html#:~:text=list.extend(iterable))\n",
        "\n",
        "Añade varios elementos al final de la lista.\n",
        "\n",
        "Añadiremos las notas `[10.0,8.0,9.0]` En la lista de Penélope Camacho."
      ],
      "metadata": {
        "id": "uQV91XMsUOJD"
      }
    },
    {
      "cell_type": "code",
      "source": [
        "lista.extend([10.0,8.0,9.0])\n",
        "lista"
      ],
      "metadata": {
        "id": "6Zk2MpMw8rQc",
        "colab": {
          "base_uri": "https://localhost:8080/"
        },
        "outputId": "66a9c38f-d2e3-4755-94fe-f4a2ac3dbeec"
      },
      "execution_count": null,
      "outputs": [
        {
          "output_type": "execute_result",
          "data": {
            "text/plain": [
              "['Penélope Camacho',\n",
              " 9.5,\n",
              " 10.0,\n",
              " 9.7,\n",
              " True,\n",
              " 9.733333333333333,\n",
              " 10.0,\n",
              " 8.0,\n",
              " 9.0,\n",
              " 10.0,\n",
              " 8.0,\n",
              " 9.0]"
            ]
          },
          "metadata": {},
          "execution_count": 110
        }
      ]
    },
    {
      "cell_type": "code",
      "source": [],
      "metadata": {
        "id": "NnoKkoWb8rTQ"
      },
      "execution_count": null,
      "outputs": []
    },
    {
      "cell_type": "markdown",
      "source": [
        "*A continuación te mostraremos lo que no puede realizarse con* `append`."
      ],
      "metadata": {
        "id": "IVJvkTwNUk6M"
      }
    },
    {
      "cell_type": "code",
      "source": [
        "lista.append(10.0, 8.0, 9.0)"
      ],
      "metadata": {
        "id": "u3Eub2ZL8pp3",
        "colab": {
          "base_uri": "https://localhost:8080/",
          "height": 141
        },
        "outputId": "52ae035d-3865-4c9c-81ec-457ee5b20500"
      },
      "execution_count": null,
      "outputs": [
        {
          "output_type": "error",
          "ename": "TypeError",
          "evalue": "list.append() takes exactly one argument (3 given)",
          "traceback": [
            "\u001b[0;31m---------------------------------------------------------------------------\u001b[0m",
            "\u001b[0;31mTypeError\u001b[0m                                 Traceback (most recent call last)",
            "\u001b[0;32m<ipython-input-114-2399b8f776d8>\u001b[0m in \u001b[0;36m<cell line: 0>\u001b[0;34m()\u001b[0m\n\u001b[0;32m----> 1\u001b[0;31m \u001b[0mlista\u001b[0m\u001b[0;34m.\u001b[0m\u001b[0mappend\u001b[0m\u001b[0;34m(\u001b[0m\u001b[0;36m10.0\u001b[0m\u001b[0;34m,\u001b[0m \u001b[0;36m8.0\u001b[0m\u001b[0;34m,\u001b[0m \u001b[0;36m9.0\u001b[0m\u001b[0;34m)\u001b[0m\u001b[0;34m\u001b[0m\u001b[0;34m\u001b[0m\u001b[0m\n\u001b[0m",
            "\u001b[0;31mTypeError\u001b[0m: list.append() takes exactly one argument (3 given)"
          ]
        }
      ]
    },
    {
      "cell_type": "code",
      "source": [],
      "metadata": {
        "id": "tsKK5Ne58pvN"
      },
      "execution_count": null,
      "outputs": []
    },
    {
      "cell_type": "markdown",
      "source": [
        "#### [`remove()`](https://docs.python.org/3/tutorial/datastructures.html#:~:text=append(x).-,list.remove(x),-Remove%20the%20first)\n",
        "\n",
        "Remueve un elemento específico de la lista."
      ],
      "metadata": {
        "id": "dPGM5gpyUX1z"
      }
    },
    {
      "cell_type": "code",
      "source": [
        "lista.remove(9.0)"
      ],
      "metadata": {
        "id": "mmboODPc8nd5"
      },
      "execution_count": null,
      "outputs": []
    },
    {
      "cell_type": "code",
      "source": [
        "lista"
      ],
      "metadata": {
        "id": "T_w6vVgV8nh_",
        "colab": {
          "base_uri": "https://localhost:8080/"
        },
        "outputId": "9c9e8d02-59dd-49b3-eb06-b77b46b68879"
      },
      "execution_count": null,
      "outputs": [
        {
          "output_type": "execute_result",
          "data": {
            "text/plain": [
              "['Penélope Camacho', 9.5, 9.7, True, 9.733333333333333, 10.0]"
            ]
          },
          "metadata": {},
          "execution_count": 126
        }
      ]
    },
    {
      "cell_type": "markdown",
      "source": [
        "## Diccionario"
      ],
      "metadata": {
        "id": "Rc22Vc08YDZ2"
      }
    },
    {
      "cell_type": "markdown",
      "source": [
        "Los diccionarios son un tipo de estructura de datos que almacenan pares de *llave-valor*. Estos son delimitados por llaves `{}` y los pares *llave-valor* son separados por comas.\n",
        "\n",
        "```\n",
        "diccionario = {llave: valor}\n",
        "```\n",
        "\n",
        "La **llave** es un elemento único que identifica a un valor en el diccionario, mientras que el **valor** es el item que será almacenado para la llave. Las llaves y sus respectivos valores se pueden emplear para **cualquier tipo de dato**.\n",
        "\n",
        "Los diccionarios son útiles para almacenar y acceder a los datos de manera organizada y rápida. Se trata de un tipo de conjunto de elementos en Python, pues almacenan una colección de items."
      ],
      "metadata": {
        "id": "PJ-cCKPjeWxL"
      }
    },
    {
      "cell_type": "code",
      "source": [
        "tienda = {'nombres': ['televisión', 'celular', 'notebook', 'geladeira', 'estufa'],\n",
        "          'precios': [2000, 1500, 3500, 4000, 1500]}\n",
        "for clave, elementos in tienda.items():\n",
        "   print(f'Clave: {clave}\\nElementos:')\n",
        "   for dato in elementos:\n",
        "    print(dato)\n"
      ],
      "metadata": {
        "id": "NDHhzooE8ld5",
        "colab": {
          "base_uri": "https://localhost:8080/"
        },
        "outputId": "6cd3641e-a3a8-4e79-956b-ce472d4371cc"
      },
      "execution_count": null,
      "outputs": [
        {
          "output_type": "stream",
          "name": "stdout",
          "text": [
            "Clave: nombres\n",
            "Elementos:\n",
            "televisión\n",
            "celular\n",
            "notebook\n",
            "geladeira\n",
            "estufa\n",
            "Clave: precios\n",
            "Elementos:\n",
            "2000\n",
            "1500\n",
            "3500\n",
            "4000\n",
            "1500\n"
          ]
        }
      ]
    },
    {
      "cell_type": "code",
      "source": [],
      "metadata": {
        "id": "AVOzqzy-8lhh"
      },
      "execution_count": null,
      "outputs": []
    },
    {
      "cell_type": "markdown",
      "source": [
        "---\n",
        "**Situación:**\n",
        "\n",
        "Vamos a crear un conjunto de datos con las informaciones de matrícula de un estudiante. Los datos son los siguientes:\n",
        "\n",
        "- matrícula: 2000168933\n",
        "- día de registro: 25\n",
        "- mes de registro: 10\n",
        "- grupo: 2E"
      ],
      "metadata": {
        "id": "_JbQ3KMKfkXU"
      }
    },
    {
      "cell_type": "code",
      "source": [
        " estudiante = {\n",
        "              'matricula': 2000168933,\n",
        "              'dia': 25,\n",
        "              'mes': 10,\n",
        "              'grupo': '2E'\n",
        "              }\n"
      ],
      "metadata": {
        "id": "BJdjJmYRa0rZ"
      },
      "execution_count": null,
      "outputs": []
    },
    {
      "cell_type": "code",
      "source": [
        "estudiante"
      ],
      "metadata": {
        "id": "XIuqpTTy8jHV",
        "colab": {
          "base_uri": "https://localhost:8080/"
        },
        "outputId": "bad8b3b4-ce27-4835-e53a-edd7c8d230a9"
      },
      "execution_count": null,
      "outputs": [
        {
          "output_type": "execute_result",
          "data": {
            "text/plain": [
              "{'matricula': 2000168933, 'dia': 25, 'mes': 10, 'grupo': '2E'}"
            ]
          },
          "metadata": {},
          "execution_count": 42
        }
      ]
    },
    {
      "cell_type": "code",
      "source": [
        "estudiante ['matricula']"
      ],
      "metadata": {
        "colab": {
          "base_uri": "https://localhost:8080/"
        },
        "id": "FASVMu95ZXZ-",
        "outputId": "0b64d809-3839-4dc1-bf11-c801d3d2029d"
      },
      "execution_count": null,
      "outputs": [
        {
          "output_type": "execute_result",
          "data": {
            "text/plain": [
              "2000168933"
            ]
          },
          "metadata": {},
          "execution_count": 43
        }
      ]
    },
    {
      "cell_type": "markdown",
      "source": [
        "Es posible sustituir los valores dentro de una llave. Por ejemplo, recibimos la información de que el grupo del estudiante que registramos cambio a `'2G'` y ahora necesitamos cambiar el valor de la llave `'grupo'`."
      ],
      "metadata": {
        "id": "8ex5pt2ykDd2"
      }
    },
    {
      "cell_type": "code",
      "source": [
        "estudiante['grupo']"
      ],
      "metadata": {
        "id": "kQGlp36b8fyP",
        "colab": {
          "base_uri": "https://localhost:8080/",
          "height": 36
        },
        "outputId": "c9582ef9-a083-4d76-a454-7456955a0d0e"
      },
      "execution_count": null,
      "outputs": [
        {
          "output_type": "execute_result",
          "data": {
            "text/plain": [
              "'2E'"
            ],
            "application/vnd.google.colaboratory.intrinsic+json": {
              "type": "string"
            }
          },
          "metadata": {},
          "execution_count": 44
        }
      ]
    },
    {
      "cell_type": "code",
      "source": [
        "estudiante['grupo'] = '2G'"
      ],
      "metadata": {
        "id": "DnfH_qHi8f17"
      },
      "execution_count": null,
      "outputs": []
    },
    {
      "cell_type": "code",
      "source": [
        "estudiante"
      ],
      "metadata": {
        "colab": {
          "base_uri": "https://localhost:8080/"
        },
        "id": "TeH9bJcNdGZV",
        "outputId": "a72e411a-c37c-4f11-8fce-6f108efa26a6"
      },
      "execution_count": null,
      "outputs": [
        {
          "output_type": "execute_result",
          "data": {
            "text/plain": [
              "{'matricula': 2000168933, 'dia': 25, 'mes': 10, 'grupo': '2G'}"
            ]
          },
          "metadata": {},
          "execution_count": 47
        }
      ]
    },
    {
      "cell_type": "markdown",
      "source": [
        "También podemos añadir otros datos al diccionario. Vamos a añadir la información sobre la modalidad de estudio, nuestro estudiante estudiará inicialemente en la modalidad EAD.\n",
        "\n",
        "Definiremos una llave llamada `'modalidad'` con el valor `'EAD'`."
      ],
      "metadata": {
        "id": "wB0qRb56mQvv"
      }
    },
    {
      "cell_type": "code",
      "source": [
        "estudiante['modalidad'] = 'EAD'"
      ],
      "metadata": {
        "id": "EeLYdlIm8d8a"
      },
      "execution_count": null,
      "outputs": []
    },
    {
      "cell_type": "code",
      "source": [
        "estudiante"
      ],
      "metadata": {
        "id": "olDIavsm8d_o",
        "colab": {
          "base_uri": "https://localhost:8080/"
        },
        "outputId": "030ce480-c74f-445f-a225-4d189fe8f147"
      },
      "execution_count": null,
      "outputs": [
        {
          "output_type": "execute_result",
          "data": {
            "text/plain": [
              "{'matricula': 2000168933,\n",
              " 'dia': 25,\n",
              " 'mes': 10,\n",
              " 'grupo': '2G',\n",
              " 'modalidad': 'EAD'}"
            ]
          },
          "metadata": {},
          "execution_count": 51
        }
      ]
    },
    {
      "cell_type": "code",
      "source": [
        "len(estudiante)"
      ],
      "metadata": {
        "colab": {
          "base_uri": "https://localhost:8080/"
        },
        "id": "EBUTazlBd54M",
        "outputId": "b1923e7e-8f55-4417-97a2-31703cc02cc7"
      },
      "execution_count": null,
      "outputs": [
        {
          "output_type": "execute_result",
          "data": {
            "text/plain": [
              "5"
            ]
          },
          "metadata": {},
          "execution_count": 53
        }
      ]
    },
    {
      "cell_type": "markdown",
      "source": [
        "## Profundizando en diccionarios"
      ],
      "metadata": {
        "id": "LJ3o_inroxg_"
      }
    },
    {
      "cell_type": "markdown",
      "source": [
        "#### [`pop()`](https://python-reference.readthedocs.io/en/latest/docs/dict/pop.html)\n",
        "Remueve un item de un diccionario y lo representa en la salida."
      ],
      "metadata": {
        "id": "2N3GLlkSpBiu"
      }
    },
    {
      "cell_type": "code",
      "source": [
        "estudiante.pop('grupo')\n"
      ],
      "metadata": {
        "id": "ZsSCZx6G8b-T",
        "colab": {
          "base_uri": "https://localhost:8080/",
          "height": 36
        },
        "outputId": "d3e92eb7-f4f9-452f-cdd2-c4e63a51c1eb"
      },
      "execution_count": null,
      "outputs": [
        {
          "output_type": "execute_result",
          "data": {
            "text/plain": [
              "'2G'"
            ],
            "application/vnd.google.colaboratory.intrinsic+json": {
              "type": "string"
            }
          },
          "metadata": {},
          "execution_count": 54
        }
      ]
    },
    {
      "cell_type": "code",
      "source": [
        "estudiante"
      ],
      "metadata": {
        "id": "7lQ8_jpi8cBR",
        "colab": {
          "base_uri": "https://localhost:8080/"
        },
        "outputId": "8d741c81-7a6f-4c09-e1e7-70f03c448e40"
      },
      "execution_count": null,
      "outputs": [
        {
          "output_type": "execute_result",
          "data": {
            "text/plain": [
              "{'matricula': 2000168933, 'dia': 25, 'mes': 10, 'modalidad': 'EAD'}"
            ]
          },
          "metadata": {},
          "execution_count": 55
        }
      ]
    },
    {
      "cell_type": "markdown",
      "source": [
        "#### [`items()`](https://python-reference.readthedocs.io/en/latest/docs/dict/items.html)\n",
        "Retorna una lista de pares `llave-valor` del diccionario."
      ],
      "metadata": {
        "id": "sYZGvJJYrW_y"
      }
    },
    {
      "cell_type": "code",
      "source": [
        "estudiante.items()"
      ],
      "metadata": {
        "id": "ncdycLV08an7",
        "colab": {
          "base_uri": "https://localhost:8080/"
        },
        "outputId": "1d98e390-79fd-4765-e77c-848e9de04fe3"
      },
      "execution_count": null,
      "outputs": [
        {
          "output_type": "execute_result",
          "data": {
            "text/plain": [
              "dict_items([('matricula', 2000168933), ('dia', 25), ('mes', 10), ('modalidad', 'EAD')])"
            ]
          },
          "metadata": {},
          "execution_count": 56
        }
      ]
    },
    {
      "cell_type": "markdown",
      "source": [
        "#### [`keys()`](https://python-reference.readthedocs.io/en/latest/docs/dict/keys.html)\n",
        "Retorna una lista de las llaves del diccionario."
      ],
      "metadata": {
        "id": "Lb0utNFGrZBY"
      }
    },
    {
      "cell_type": "code",
      "source": [
        "estudiante.keys()"
      ],
      "metadata": {
        "id": "eZo0biaM8ZVs",
        "colab": {
          "base_uri": "https://localhost:8080/"
        },
        "outputId": "fe540fda-26e5-43f8-f039-ee7ad1eee362"
      },
      "execution_count": null,
      "outputs": [
        {
          "output_type": "execute_result",
          "data": {
            "text/plain": [
              "dict_keys(['matricula', 'dia', 'mes', 'modalidad'])"
            ]
          },
          "metadata": {},
          "execution_count": 57
        }
      ]
    },
    {
      "cell_type": "markdown",
      "source": [
        "#### [`values()`](https://python-reference.readthedocs.io/en/latest/docs/dict/values.html)\n",
        "Retorna una lista de los valores del diccionario."
      ],
      "metadata": {
        "id": "qKyu3bf9rbtX"
      }
    },
    {
      "cell_type": "code",
      "source": [
        "estudiante.values()"
      ],
      "metadata": {
        "id": "-NxRT9C18Yvo",
        "colab": {
          "base_uri": "https://localhost:8080/"
        },
        "outputId": "b0d565e4-d4a5-48c8-ce82-b474a7389890"
      },
      "execution_count": null,
      "outputs": [
        {
          "output_type": "execute_result",
          "data": {
            "text/plain": [
              "dict_values([2000168933, 25, 10, 'EAD'])"
            ]
          },
          "metadata": {},
          "execution_count": 58
        }
      ]
    },
    {
      "cell_type": "markdown",
      "source": [
        "### Lectura de valores con el lazo `for`"
      ],
      "metadata": {
        "id": "e3XVjR8Frp75"
      }
    },
    {
      "cell_type": "code",
      "source": [
        "for llave in estudiante.keys():\n",
        "  print(llave)\n"
      ],
      "metadata": {
        "id": "NYcjU-Ip8Xan",
        "colab": {
          "base_uri": "https://localhost:8080/"
        },
        "outputId": "0f82aebb-cf7f-4f98-ec53-ecc26fbe4fd1"
      },
      "execution_count": null,
      "outputs": [
        {
          "output_type": "stream",
          "name": "stdout",
          "text": [
            "matricula\n",
            "dia\n",
            "mes\n",
            "modalidad\n"
          ]
        }
      ]
    },
    {
      "cell_type": "code",
      "source": [
        "for llave,valor in estudiante.items():\n",
        "   print( llave,' ----->',valor)"
      ],
      "metadata": {
        "id": "aAnpP1Wv8XfJ",
        "colab": {
          "base_uri": "https://localhost:8080/"
        },
        "outputId": "fbca3dce-d81e-4052-fcea-aae1d8669251"
      },
      "execution_count": null,
      "outputs": [
        {
          "output_type": "stream",
          "name": "stdout",
          "text": [
            "matricula  -----> 2000168933\n",
            "dia  -----> 25\n",
            "mes  -----> 10\n",
            "modalidad  -----> EAD\n"
          ]
        }
      ]
    },
    {
      "cell_type": "markdown",
      "source": [
        "FUNCIONES INCORPORADAS"
      ],
      "metadata": {
        "id": "mXHjp6uBjcQd"
      }
    },
    {
      "cell_type": "code",
      "source": [
        "precios = [100.0, 400.0, 200.0]\n",
        "suma = sum(precios)\n",
        "suma"
      ],
      "metadata": {
        "colab": {
          "base_uri": "https://localhost:8080/"
        },
        "id": "zJqkLj2pjfz6",
        "outputId": "330ff158-ce61-46f8-d2fe-f51aa87aad31"
      },
      "execution_count": null,
      "outputs": [
        {
          "output_type": "execute_result",
          "data": {
            "text/plain": [
              "700.0"
            ]
          },
          "metadata": {},
          "execution_count": 75
        }
      ]
    },
    {
      "cell_type": "code",
      "source": [
        "lista = [1,2,3]\n",
        "dir(lista)"
      ],
      "metadata": {
        "colab": {
          "base_uri": "https://localhost:8080/"
        },
        "id": "mJzI60tljbzj",
        "outputId": "09f90b18-48b8-470d-fc57-3eb27501eabe"
      },
      "execution_count": null,
      "outputs": [
        {
          "output_type": "execute_result",
          "data": {
            "text/plain": [
              "['__add__',\n",
              " '__class__',\n",
              " '__class_getitem__',\n",
              " '__contains__',\n",
              " '__delattr__',\n",
              " '__delitem__',\n",
              " '__dir__',\n",
              " '__doc__',\n",
              " '__eq__',\n",
              " '__format__',\n",
              " '__ge__',\n",
              " '__getattribute__',\n",
              " '__getitem__',\n",
              " '__getstate__',\n",
              " '__gt__',\n",
              " '__hash__',\n",
              " '__iadd__',\n",
              " '__imul__',\n",
              " '__init__',\n",
              " '__init_subclass__',\n",
              " '__iter__',\n",
              " '__le__',\n",
              " '__len__',\n",
              " '__lt__',\n",
              " '__mul__',\n",
              " '__ne__',\n",
              " '__new__',\n",
              " '__reduce__',\n",
              " '__reduce_ex__',\n",
              " '__repr__',\n",
              " '__reversed__',\n",
              " '__rmul__',\n",
              " '__setattr__',\n",
              " '__setitem__',\n",
              " '__sizeof__',\n",
              " '__str__',\n",
              " '__subclasshook__',\n",
              " 'append',\n",
              " 'clear',\n",
              " 'copy',\n",
              " 'count',\n",
              " 'extend',\n",
              " 'index',\n",
              " 'insert',\n",
              " 'pop',\n",
              " 'remove',\n",
              " 'reverse',\n",
              " 'sort']"
            ]
          },
          "metadata": {},
          "execution_count": 76
        }
      ]
    },
    {
      "cell_type": "markdown",
      "source": [
        "EJERCICIOS  LISTAS Y DICCIONARIOS"
      ],
      "metadata": {
        "id": "ahVefd5UkCqA"
      }
    },
    {
      "cell_type": "code",
      "source": [
        "#1 - Crea un programa que tenga la siguiente lista con los gastos de una empresa de papel [2172.54, 3701.35, 3518.09, 3456.61, 3249.38, 2840.82, 3891.45, 3075.26, 2317.64, 3219.08].\n",
        "#Con estos valores, crea un programa que calcule el promedio de gastos.\n",
        "#Sugerencia: usa las funciones integradas sum() y len().\n",
        "\n",
        "gastos_empresa= [2172.54, 3701.35, 3518.09, 3456.61, 3249.38, 2840.82, 3891.45, 3075.26, 2317.64, 3219.0]\n",
        "\n",
        "promedio = sum(gastos_empresa)/len(gastos_empresa)\n",
        "print(f'El promedio de gastos es: {promedio}')\n"
      ],
      "metadata": {
        "colab": {
          "base_uri": "https://localhost:8080/"
        },
        "id": "j95uShcSkHmh",
        "outputId": "882b877b-c104-43a7-9a77-2551bd19d9ca"
      },
      "execution_count": null,
      "outputs": [
        {
          "output_type": "stream",
          "name": "stdout",
          "text": [
            "El promedio de gastos es: 3144.214\n"
          ]
        }
      ]
    },
    {
      "cell_type": "code",
      "source": [
        "#2 - Con los mismos datos de la pregunta anterior,\n",
        "#determina cuántas compras se realizaron por encima de 3000 reales y calcula el porcentaje con respecto al total de compras.\n",
        "\n",
        "gastos_empresa= [2172.54, 3701.35, 3518.09, 3456.61, 3249.38, 2840.82, 3891.45, 3075.26, 2317.64, 3219.0]\n",
        "\n",
        "compras_encima_3000 = 0\n",
        "for compra in gastos_empresa:\n",
        "  if compra > 3000:\n",
        "    compras_encima_3000 += 1\n",
        "    porcentaje = compras_encima_3000 / len(gastos_empresa) * 100\n",
        "print(f'El porcentaje de compras por encima de 3000 reales es: {porcentaje}%')\n",
        "print(f'{contador_acima_3000} compras estuvieron por encima de R$3000,00.')"
      ],
      "metadata": {
        "colab": {
          "base_uri": "https://localhost:8080/"
        },
        "id": "UIkQHJw3kIlu",
        "outputId": "188e0eb6-ca3f-49d4-996d-443f365d8bee"
      },
      "execution_count": null,
      "outputs": [
        {
          "output_type": "stream",
          "name": "stdout",
          "text": [
            "El porcentaje de compras por encima de 3000 reales es: 70.0%\n",
            "7 compras estuvieron por encima de R$3000,00.\n"
          ]
        }
      ]
    },
    {
      "cell_type": "code",
      "source": [
        "#3 - Crea un código que recoja en una lista 5 números enteros aleatorios e imprima la lista.\n",
        "#Ejemplo: [1, 4, 7, 2, 4].\n",
        "\n",
        "lista_num=[]\n",
        "for n in range(0,5):\n",
        "  num = int(input('Ingresa un número entero: '))\n",
        "  lista_num.append(num)\n",
        "print(f'Lista de numeros: {lista_num}')"
      ],
      "metadata": {
        "colab": {
          "base_uri": "https://localhost:8080/"
        },
        "id": "I5rM65W2kIgI",
        "outputId": "31a46b56-dd3e-4286-df7d-fdb5adb1dec0"
      },
      "execution_count": null,
      "outputs": [
        {
          "output_type": "stream",
          "name": "stdout",
          "text": [
            "Ingresa un número entero: 2\n",
            "Ingresa un número entero: 3\n",
            "Ingresa un número entero: 4\n",
            "Ingresa un número entero: 5\n",
            "Ingresa un número entero: 6\n",
            "Lista de numeros: [2, 3, 4, 5, 6]\n"
          ]
        }
      ]
    },
    {
      "cell_type": "code",
      "source": [
        "#4 - Recoge nuevamente 5 números enteros e imprime la lista en orden inverso al enviado.\n",
        "lista_num=[]\n",
        "for n in range(0,5):\n",
        "  num = int(input('Ingresa un número entero: '))\n",
        "  lista_num.append(num)\n",
        "print(f'Lista de números invertida: {lista_numeros[::-1]}')"
      ],
      "metadata": {
        "colab": {
          "base_uri": "https://localhost:8080/"
        },
        "id": "NMdUVEYbkIc3",
        "outputId": "cc629ca2-9e56-4c5b-afa2-167a04f37839"
      },
      "execution_count": null,
      "outputs": [
        {
          "output_type": "stream",
          "name": "stdout",
          "text": [
            "Ingresa un número entero: 2\n",
            "Ingresa un número entero: 3\n",
            "Ingresa un número entero: 4\n",
            "Ingresa un número entero: 5\n",
            "Ingresa un número entero: 6\n",
            "Lista de números invertida: [6, 5, 4, 3, 2]\n"
          ]
        }
      ]
    },
    {
      "cell_type": "code",
      "source": [
        "#5 - Crea un programa que, al ingresar un número cualquiera,\n",
        "#genere una lista que contenga todos los números primos entre 1 y el número ingresado.\n",
        "\n",
        "num_primos=[]\n",
        "num = int(input('Ingresa un número entero: '))\n",
        "\n",
        "for i in range(2, num):\n",
        "    primo = True\n",
        "    for prueba_divisibles in range(2, i):\n",
        "      if i % prueba_divisibles == 0:\n",
        "        primo = False\n",
        "        break\n",
        "    if primo:\n",
        "        num_primos.append(i)\n",
        "print(f'Lista de numeros primos: {num_primos}')\n"
      ],
      "metadata": {
        "colab": {
          "base_uri": "https://localhost:8080/"
        },
        "id": "cXc4dJHtkIV2",
        "outputId": "1ffe502c-6e8f-4e75-e6da-90a895dc4e95"
      },
      "execution_count": null,
      "outputs": [
        {
          "output_type": "stream",
          "name": "stdout",
          "text": [
            "Ingresa un número entero: 9\n",
            "Lista de numeros primos: [2, 3, 5, 7]\n"
          ]
        }
      ]
    },
    {
      "cell_type": "code",
      "source": [
        "# Recopilamos la fecha\n",
        "dia = int(input('Ingrese el día: '))\n",
        "mes = int(input('Ingrese el mes: '))\n",
        "año = int(input('Ingrese el año: '))\n",
        "\n",
        "# Análisis de febrero\n",
        "if mes == 2:\n",
        "  # Verificamos si es o no un año bisiesto\n",
        "  if año % 4 == 0 and (año % 400 == 0 or año % 100 != 0):\n",
        "    dias_febrero = 29\n",
        "  else:\n",
        "    dias_febrero = 28\n",
        "  # Verificamos si el día ingresado coincide con el máximo de días de febrero\n",
        "  if dia >= 1 and dia <= dias_febrero:\n",
        "    print('Fecha válida')\n",
        "  else:\n",
        "    print('Fecha inválida')\n",
        "# Verificamos meses que terminan en 31 días\n",
        "elif mes in [1, 3, 5, 7, 8, 10, 12]:\n",
        "  if dia >= 1 and dia <= 31:\n",
        "    print('Fecha válida')\n",
        "  else:\n",
        "    print('Fecha inválida')\n",
        "# Verificamos meses que terminan en 30 días\n",
        "elif mes in [4, 6, 9, 11]:\n",
        "  if dia >= 1 and dia <= 30:\n",
        "    print('Fecha válida')\n",
        "  else:\n",
        "    print('Fecha inválida')\n",
        "# Si el mes no está entre 1 y 12\n",
        "else:\n",
        "  print('Fecha inválida')"
      ],
      "metadata": {
        "colab": {
          "base_uri": "https://localhost:8080/"
        },
        "id": "0t1O8NE3wVgX",
        "outputId": "07f8624e-1e29-4043-da59-102ef118c20f"
      },
      "execution_count": null,
      "outputs": [
        {
          "output_type": "stream",
          "name": "stdout",
          "text": [
            "Ingrese el día: 24\n",
            "Ingrese el mes: 2\n",
            "Ingrese el año: 2025\n",
            "Fecha válida\n"
          ]
        }
      ]
    },
    {
      "cell_type": "code",
      "source": [
        "#7 - Para un estudio sobre la multiplicación de bacterias en una colonia, se recopiló el número de bacterias multiplicadas por día y se puede observar a continuación: [1.2, 2.1, 3.3, 5.0, 7.8, 11.3, 16.6, 25.1, 37.8, 56.9].\n",
        "#Con estos valores, crea un código que genere una lista que contenga el porcentaje de crecimiento de bacterias por día, comparando el número de bacterias en cada día con el número de bacterias del día anterior.\n",
        "#Sugerencia: para calcular el porcentaje de crecimiento, utiliza la siguiente ecuación: 100 * (muestra_actual - muestra_anterior) / muestra_anterior.\n",
        "\n",
        "num_bact_dia = [1.2, 2.1, 3.3, 5.0, 7.8, 11.3, 16.6, 25.1, 37.8, 56.9]\n",
        "\n",
        "porcentaje_crecimiento = []\n",
        "\n",
        "for i in range(1, len(num_bact_dia)):\n",
        "  porcentaje = 100 * (num_bact_dia[i] - num_bact_dia[i-1]) / (num_bact_dia[i-1])\n",
        "  porcentaje_crecimiento.append(porcentaje)\n",
        "\n",
        "print(f'Porcentajes de crecimiento:\\n{porcentaje_crecimiento}')\n",
        "\n",
        "\n"
      ],
      "metadata": {
        "colab": {
          "base_uri": "https://localhost:8080/"
        },
        "id": "fRzgxmlswIpJ",
        "outputId": "25c1ee09-dcea-45eb-9963-4b4806b088eb"
      },
      "execution_count": null,
      "outputs": [
        {
          "output_type": "stream",
          "name": "stdout",
          "text": [
            "Porcentajes de crecimiento:\n",
            "[75.00000000000001, 57.142857142857125, 51.51515151515153, 56.0, 44.87179487179489, 46.90265486725664, 51.20481927710843, 50.59760956175297, 50.52910052910054]\n"
          ]
        }
      ]
    },
    {
      "cell_type": "code",
      "source": [
        "#8. Para una selección de productos alimenticios, debemos separar el conjunto de IDs proporcionados por números enteros,\n",
        "#sabiendo que los productos con ID par son dulces y los que tienen ID impar son amargos.\n",
        "#Crea un código que recoja 10 IDs.\n",
        "#Luego, calcula y muestra la cantidad de productos dulces y amargos.\n",
        "\n",
        "ids = []\n",
        "dulces = 0\n",
        "amargos = 0\n",
        "\n",
        "for i in range(10):\n",
        "  id = int(input('Ingrese el ID del producto: '))\n",
        "  ids.append(id)\n",
        "  if id % 2 == 0:\n",
        "    dulces += 1\n",
        "  else:\n",
        "    amargos += 1\n",
        "\n",
        "print(f'Cantidad de productos dulces: {dulces}')\n",
        "print(f'Cantidad de productos amargos: {amargos}')\n"
      ],
      "metadata": {
        "id": "oyhJ8Vd1p0Am",
        "colab": {
          "base_uri": "https://localhost:8080/"
        },
        "outputId": "4b45331a-316c-40d9-da6b-0b10a25cd8c0"
      },
      "execution_count": 4,
      "outputs": [
        {
          "output_type": "stream",
          "name": "stdout",
          "text": [
            "Ingrese el ID del producto: 23444\n",
            "Ingrese el ID del producto: 23461\n",
            "Ingrese el ID del producto: 23462\n",
            "Ingrese el ID del producto: 23463\n",
            "Ingrese el ID del producto: 23464\n",
            "Ingrese el ID del producto: 23445\n",
            "Ingrese el ID del producto: 23465\n",
            "Ingrese el ID del producto: 23466\n",
            "Ingrese el ID del producto: 23467\n",
            "Ingrese el ID del producto: 23469\n",
            "Cantidad de productos dulces: 4\n",
            "Cantidad de productos amargos: 6\n"
          ]
        }
      ]
    },
    {
      "cell_type": "markdown",
      "source": [],
      "metadata": {
        "id": "EbOU8x0BzMqO"
      }
    },
    {
      "cell_type": "code",
      "source": [
        "#9. Desarrolla un programa que informe la puntuación de un estudiante de acuerdo con sus respuestas.\n",
        "#Debe pedir la respuesta del estudiante para cada pregunta y verificar si la respuesta coincide con el resultado del examen.\n",
        "#Cada pregunta vale un punto y hay opciones A, B, C o D.\n",
        "\n",
        "respuestas= []\n",
        "resp_corr = ['D','A','C','B','A','D','C','C','A','B']\n",
        "puntaje_estudiante =0\n",
        "\n",
        "for r in range (0,10):\n",
        "  respuestas.append(input(f'Ingrese respuesta del estudiante{r+1}:').upper())\n",
        "\n",
        "for r in range(0,10):\n",
        "  if respuestas[r] == resp_corr[r]:\n",
        "    puntaje_estudiante +=1\n",
        "\n",
        "print(f'Puntaje final :{puntaje_estudiante}')"
      ],
      "metadata": {
        "id": "iVI9rPvAkIJm",
        "colab": {
          "base_uri": "https://localhost:8080/"
        },
        "outputId": "0733ce51-d893-4280-c876-7609225467fc"
      },
      "execution_count": 7,
      "outputs": [
        {
          "output_type": "stream",
          "name": "stdout",
          "text": [
            "Ingrese respuesta del estudiante1:a\n",
            "Ingrese respuesta del estudiante2:a\n",
            "Ingrese respuesta del estudiante3:c\n",
            "Ingrese respuesta del estudiante4:d\n",
            "Ingrese respuesta del estudiante5:a\n",
            "Ingrese respuesta del estudiante6:d\n",
            "Ingrese respuesta del estudiante7:c\n",
            "Ingrese respuesta del estudiante8:c\n",
            "Ingrese respuesta del estudiante9:b\n",
            "Ingrese respuesta del estudiante10:b\n",
            "Puntaje final :7\n"
          ]
        }
      ]
    },
    {
      "cell_type": "code",
      "source": [
        "#10 - Un instituto de meteorología desea realizar un estudio de la temperatura media de cada mes del año.\n",
        "#Para ello, debes crear un código que recoja y almacene esas temperaturas medias en una lista.\n",
        "#Luego, calcula el promedio anual de las temperaturas y muestra todas las temperaturas por encima del promedio anual y en qué mes ocurrieron,\n",
        "# mostrando los meses por su nombre (Enero, Febrero, etc.).\n",
        "\n",
        "Temp_media_mes = []\n",
        "meses = ['Enero', 'Febrero', 'Marzo', 'Abril', 'Mayo', 'Junio', 'Julio', 'Agosto', 'Septiembre', 'Octubre', 'Noviembre', 'Diciembre']\n",
        "\n",
        "for mes in meses:\n",
        "  temp_media = float(input(f'Ingrese la temperatura media de {mes}: '))\n",
        "  Temp_media_mes.append(temp_media)\n",
        "  promedio_anual = sum(Temp_media_mes) / len(meses)\n",
        "\n",
        "print(f'Temperaturas por encima del promedio anual:\\n')\n",
        "\n",
        "for i in range(len(meses)):\n",
        "  if Temp_media_mes[i] > promedio_anual:\n",
        "    print(f'{meses[i]}: {Temp_media_mes[i]}')\n",
        "\n",
        "print(f'La temperatura promedio anual es : {promedio_anual}')\n",
        "\n"
      ],
      "metadata": {
        "colab": {
          "base_uri": "https://localhost:8080/"
        },
        "id": "a7mWd5bCVdoP",
        "outputId": "2b137cad-2747-45cc-93be-9737898bc2e9"
      },
      "execution_count": 11,
      "outputs": [
        {
          "output_type": "stream",
          "name": "stdout",
          "text": [
            "Ingrese la temperatura media de Enero: 33\n",
            "Ingrese la temperatura media de Febrero: 31\n",
            "Ingrese la temperatura media de Marzo: 30\n",
            "Ingrese la temperatura media de Abril: 26\n",
            "Ingrese la temperatura media de Mayo: 20\n",
            "Ingrese la temperatura media de Junio: 15\n",
            "Ingrese la temperatura media de Julio: 12\n",
            "Ingrese la temperatura media de Agosto: 14\n",
            "Ingrese la temperatura media de Septiembre: 19\n",
            "Ingrese la temperatura media de Octubre: 25\n",
            "Ingrese la temperatura media de Noviembre: 29\n",
            "Ingrese la temperatura media de Diciembre: 32\n",
            "Temperaturas por encima del promedio anual:\n",
            "\n",
            "Enero: 33.0\n",
            "Febrero: 31.0\n",
            "Marzo: 30.0\n",
            "Abril: 26.0\n",
            "Octubre: 25.0\n",
            "Noviembre: 29.0\n",
            "Diciembre: 32.0\n",
            "La temperatura promedio anual es : 23.833333333333332\n"
          ]
        }
      ]
    },
    {
      "cell_type": "code",
      "source": [
        "\n",
        "#11. Una empresa de comercio electrónico está interesada en analizar las ventas de sus productos.\n",
        "#Los datos de ventas se han almacenado en un diccionario:\n",
        "#Escribe un código que calcule el total de ventas y el producto más vendido.\n",
        "#{'Producto A': 300, 'Producto B': 80, 'Producto C': 60, 'Producto D': 200, 'Producto E': 250, 'Producto F': 30}\n",
        "\n",
        "total_ventas = 0\n",
        "producto_mas_vendido = ''\n",
        "cantidad_mas_vendida = 0\n",
        "\n",
        "ventas = {'Producto A': 300, 'Producto B': 80, 'Producto C': 60, 'Producto D': 200, 'Producto E': 250, 'Producto F': 30}\n",
        "\n",
        "for producto, cantidad in ventas.items():\n",
        "  total_ventas += cantidad\n",
        "  if cantidad > cantidad_mas_vendida:\n",
        "    cantidad_mas_vendida = cantidad\n",
        "    producto_mas_vendido = producto\n",
        "print(f'Total de ventas: {total_ventas}')\n",
        "print(f'Producto más vendido: {producto_mas_vendido}')\n"
      ],
      "metadata": {
        "colab": {
          "base_uri": "https://localhost:8080/"
        },
        "id": "e0cgEhosVjew",
        "outputId": "6c88f332-1b3f-4b56-8243-fda2833c3cfa"
      },
      "execution_count": 15,
      "outputs": [
        {
          "output_type": "stream",
          "name": "stdout",
          "text": [
            "Total de ventas: 920\n",
            "Producto más vendido: Producto A\n"
          ]
        }
      ]
    },
    {
      "cell_type": "code",
      "source": [
        "# 12.Se realizó una encuesta de mercado para decidir cuál diseño de marca infantil es más atractivo para los niños.\n",
        "#Los votos de la encuesta se pueden ver a continuación:\n",
        "#Adapta los datos proporcionados a una estructura de diccionario. A partir de ello, informa el diseño ganador y el porcentaje de votos recibidos.\n",
        "#Tabla de votos de la marca\n",
        "#Diseño 1 - 1334 votos\n",
        "#Diseño 2 - 982 votos\n",
        "#Diseño 3 - 1751 votos\n",
        "#Diseño 4 - 210 votos\n",
        "#Diseño 5 - 1811 votos\n",
        "\n",
        "votos = {'Diseño 1': 1334, 'Diseño 2': 982, 'Diseño 3': 1751, 'Diseño 4': 210, 'Diseño 5': 1811}\n",
        "\n",
        "total_votos = sum(votos.values())\n",
        "diseño_ganador = ''\n",
        "porcentaje_votos = 0\n",
        "\n",
        "for diseño, cantidad_votos in votos.items():\n",
        "  porcentaje = cantidad_votos / total_votos * 100\n",
        "  if porcentaje > porcentaje_votos:\n",
        "    diseño_ganador = diseño\n",
        "    porcentaje_votos = porcentaje\n",
        "\n",
        "print(f'Diseño ganador: {diseño_ganador}')\n",
        "print(f'Porcentaje de votos: {porcentaje_votos}')\n"
      ],
      "metadata": {
        "colab": {
          "base_uri": "https://localhost:8080/"
        },
        "id": "ukOlYjzkWSBt",
        "outputId": "37f3a229-93e3-4711-e166-5d035fb8ee6b"
      },
      "execution_count": 20,
      "outputs": [
        {
          "output_type": "stream",
          "name": "stdout",
          "text": [
            "Diseño ganador: Diseño 5\n",
            "Porcentaje de votos: 29.747043363994745\n"
          ]
        }
      ]
    },
    {
      "cell_type": "code",
      "source": [
        "#13 - Los empleados de un departamento de tu empresa recibirán una bonificación del 10% de su salario debido a un excelente rendimiento del equipo.\n",
        "#El departamento de finanzas ha solicitado tu ayuda para verificar las consecuencias financieras de esta bonificación en los recursos.\n",
        "#Se te ha enviado una lista con los salarios que recibirán la bonificación: [1172, 1644, 2617, 5130, 5532, 6341, 6650, 7238, 7685, 7782, 7903].\n",
        "#La bonificación de cada empleado no puede ser inferior a 200. En el código, convierte cada uno de los salarios en claves de un diccionario y la bonificación de cada salario en el valor correspondiente.\n",
        "#Luego, informa el gasto total en bonificaciones, cuántos empleados recibieron la bonificación mínima y cuál fue el valor más alto de la bonificación proporcionada.\n",
        "\n",
        "salarios = [1172, 1644, 2617, 5130, 5532, 6341, 6650, 7238, 7685, 7782, 7903]\n",
        "\n",
        "gasto_total = 0\n",
        "min_bonif = 200\n",
        "max_bonif = 0\n",
        "dict_bonif = {}\n",
        "empleados_min_bonif= 0\n",
        "valor_mas_alto_bonificacion =0\n",
        "total_bonos= 0\n",
        "\n",
        "for salario in salarios:\n",
        "  bono = salario * 0.1\n",
        "\n",
        "  if bono < min_bonif:\n",
        "       bono = min_bonif\n",
        "       empleados_min_bonif += 1\n",
        "  dict_bonif[salario] = bono\n",
        "  total_bonos += bono\n",
        "\n",
        "  if bono > max_bonif:\n",
        "       max_bonif = bono\n",
        "  gasto_total+= bono\n",
        "\n",
        "print(f'Gasto total en bonificaciones: {dict_bonif}')\n",
        "print(f' Total gastos en bonos: {total_bonos}')\n",
        "print(f'Empleados con bonificación mínima: {empleados_min_bonif}')\n",
        "print(f'Valor más alto de bonificación: {max_bonif}')\n"
      ],
      "metadata": {
        "colab": {
          "base_uri": "https://localhost:8080/"
        },
        "id": "hbO1YRfOWSeG",
        "outputId": "b2da7a91-929a-42ce-c11f-5a6c95f3b07c"
      },
      "execution_count": 38,
      "outputs": [
        {
          "output_type": "stream",
          "name": "stdout",
          "text": [
            "Gasto total en bonificaciones: {1172: 200, 1644: 200, 2617: 261.7, 5130: 513.0, 5532: 553.2, 6341: 634.1, 6650: 665.0, 7238: 723.8000000000001, 7685: 768.5, 7782: 778.2, 7903: 790.3000000000001}\n",
            " Total gastos en bonos: 6087.8\n",
            "Empleados con bonificación mínima: 2\n",
            "Valor más alto de bonificación: 790.3000000000001\n"
          ]
        }
      ]
    },
    {
      "cell_type": "code",
      "source": [
        "#14 - Un equipo de científicos de datos está estudiando la diversidad biológica en un bosque.\n",
        "#El equipo recopiló información sobre el número de especies de plantas y animales en cada área del bosque y almacenó estos datos en un diccionario.\n",
        "#En él, la clave describe el área de los datos y los valores en las listas corresponden a las especies de plantas y animales en esas áreas, respectivamente.\n",
        "#Escribe un código para calcular el promedio de especies por área e identificar el área con la mayor diversidad biológica.\n",
        "#Sugerencia: utiliza las funciones incorporadas sum() y len().\n",
        "\n",
        "bosque = {'Área Norte': [2819, 7236], 'Área Leste': [1440, 9492], 'Área Sul': [5969, 7496], 'Área Oeste': [14446, 49688], 'Área Centro': [22558, 45148]}\n",
        "\n",
        "vegetales = 0\n",
        "fauna = 0\n",
        "promedio_plantas_area = 0\n",
        "promedio_animales_area = 0\n",
        "area_mayor_diversidad = ''\n",
        "max_diversidad = 0\n",
        "total_plantas = 0\n",
        "total_areas = len(bosque)\n",
        "total_animales = 0\n",
        "\n",
        "for nombre_area, plantas_animales in bosque.items():\n",
        "  plantas = plantas_animales[0]\n",
        "  animales = plantas_animales[1]\n",
        "\n",
        "  total_plantas += plantas\n",
        "  total_animales= animales\n",
        "\n",
        "  diversidad = plantas + animales\n",
        "  promedio_especies = diversidad / 2  # promedio de especies por esta área\n",
        "  print(f\"- {nombre_area}: {promedio_especies:.2f} especies (Promedio entre plantas y animales)\")\n",
        "\n",
        "  if diversidad > max_diversidad:\n",
        "    max_diversidad = diversidad\n",
        "    area_mayor_diversidad = nombre_area\n",
        "\n",
        "promedio_plantas_area = total_plantas / total_areas\n",
        "promedio_animales_area = total_animales / total_areas\n",
        "diversidad = promedio_plantas_area + promedio_animales_area\n",
        "promedio_total_especies = promedio_plantas_area + promedio_animales_area\n",
        "\n",
        "print(f'Área con mayor diversidad biológica: {area_mayor_diversidad}')\n",
        "print(f'Promedio de plantas por área: {promedio_plantas_area}')\n",
        "print(f'Promedio de animales por área: {promedio_animales_area}')\n",
        "print(f'Promedio total de especies por área: {promedio_total_especies:.2f}')\n"
      ],
      "metadata": {
        "colab": {
          "base_uri": "https://localhost:8080/"
        },
        "id": "eYLmSMUSW21o",
        "outputId": "942da88b-de9f-41d7-f352-9011afbb86da"
      },
      "execution_count": 50,
      "outputs": [
        {
          "output_type": "stream",
          "name": "stdout",
          "text": [
            "- Área Norte: 5027.50 especies (Promedio entre plantas y animales)\n",
            "- Área Leste: 5466.00 especies (Promedio entre plantas y animales)\n",
            "- Área Sul: 6732.50 especies (Promedio entre plantas y animales)\n",
            "- Área Oeste: 32067.00 especies (Promedio entre plantas y animales)\n",
            "- Área Centro: 33853.00 especies (Promedio entre plantas y animales)\n",
            "Área con mayor diversidad biológica: Área Centro\n",
            "Promedio de plantas por área: 9446.4\n",
            "Promedio de animales por área: 9029.6\n",
            "Promedio total de especies por área: 18476.00\n"
          ]
        }
      ]
    },
    {
      "cell_type": "code",
      "source": [
        "#El departamento de Recursos Humanos de tu empresa te pidió ayuda para analizar las edades de los colaboradores de 4 sectores de la empresa.\n",
        "#Para ello, te proporcionaron los siguientes datos:\n",
        "#Dado que cada sector tiene 10 colaboradores, construye un código que calcule la media de edad de cada sector, la edad media general entre todos los sectores y\n",
        "# cuántas personas están por encima de la edad media general.\n",
        "\n",
        "edades_colab = {'Sector A': [22, 26, 30, 30, 35, 38, 40, 56, 57, 65],\n",
        "                'Sector B': [22, 24, 26, 33, 41, 49, 50, 54, 60, 64],\n",
        "                'Sector C': [23, 26, 26, 29, 34, 35, 36, 41, 52, 56],\n",
        "                'Sector D': [19, 20, 25, 27, 34, 39, 42, 44, 50, 65]}\n",
        "\n",
        "\n",
        "for sector, edades in edades_colab.items():\n",
        "  edad_media = sum(edades) / len(edades)\n",
        "  print(f'Edad media del sector {sector}: {edad_media}')\n",
        "\n",
        "edad_media_general = sum(sum(edades) for edades in edades_colab.values()) / sum(len(edades) for edades in edades_colab.values())\n",
        "print(f'Edad media general: {edad_media_general}')\n",
        "\n",
        "colaboradores_edad_media = sum(1 for edades in edades_colab.values() for edad in edades if edad > edad_media_general)\n",
        "print(f'Colaboradores con edad por encima de la media general: {colaboradores_edad_media}')\n"
      ],
      "metadata": {
        "colab": {
          "base_uri": "https://localhost:8080/"
        },
        "id": "vi4GXzHPXNBU",
        "outputId": "08c6ab14-53d5-4173-a22e-84eaae39edea"
      },
      "execution_count": 60,
      "outputs": [
        {
          "output_type": "stream",
          "name": "stdout",
          "text": [
            "Edad media del sector Sector A: 39.9\n",
            "Edad media del sector Sector B: 42.3\n",
            "Edad media del sector Sector C: 35.8\n",
            "Edad media del sector Sector D: 36.5\n",
            "Edad media general: 38.625\n",
            "Colaboradores con edad por encima de la media general: 18\n"
          ]
        }
      ]
    },
    {
      "cell_type": "code",
      "source": [
        "notas = [3, 2.7, 6.0, 4.8, 1.2, 3, 5.1, 4.9, -1, 3.3, 2.2, 4.5, 5.5]\n",
        "\n",
        "for i in range(len(notas)):\n",
        "    while notas[i] < 1 or notas[i] > 5:\n",
        "        nueva = float(input(f\"Nota no válida ({notas[i]}) en usuario {i}. Ingresa una nueva nota entre 0 y 5: \"))\n",
        "        notas[i] = nueva\n",
        "\n",
        "print(\"✅ Todas las notas han sido validadas o corregidas.\")\n",
        "print(notas)"
      ],
      "metadata": {
        "colab": {
          "base_uri": "https://localhost:8080/"
        },
        "id": "sHycOv0MjE-y",
        "outputId": "3048da31-5b8c-4810-fcdb-71fb771f077a"
      },
      "execution_count": 91,
      "outputs": [
        {
          "output_type": "stream",
          "name": "stdout",
          "text": [
            "Nota no válida (6.0) en usuario 2. Ingresa una nueva nota entre 0 y 5: 5\n",
            "Nota no válida (5.1) en usuario 6. Ingresa una nueva nota entre 0 y 5: 5\n",
            "Nota no válida (-1) en usuario 8. Ingresa una nueva nota entre 0 y 5: 5\n",
            "Nota no válida (5.5) en usuario 12. Ingresa una nueva nota entre 0 y 5: 5\n",
            "✅ Todas las notas han sido validadas o corregidas.\n",
            "[3, 2.7, 5.0, 4.8, 1.2, 3, 5.0, 4.9, 5.0, 3.3, 2.2, 4.5, 5.0]\n"
          ]
        }
      ]
    },
    {
      "cell_type": "code",
      "source": [
        "notas = [3, 2.7, 6.0, 4.8, 1.2, 3, 5.1, 4.9, -1, 3.3, 2.2, 4.5, 5.5]\n",
        "i = 0\n",
        "while i < len(notas):\n",
        "    if notas[i] < 1 or notas[i] > 5:\n",
        "        nueva = float(input(f\" Nota no válida ({notas[i]}) en usuario {i}. Ingrese una nota entre 0 y 5: \"))\n",
        "        notas[i] = nueva\n",
        "        notas_corregidas.append(nueva)\n",
        "    else:\n",
        "        i += 1  # Solo incrementa el índice si la nota es válida\n",
        "\n",
        "print(\" Todas las notas han sido corregidas.\")\n",
        "print(notas)"
      ],
      "metadata": {
        "colab": {
          "base_uri": "https://localhost:8080/"
        },
        "id": "ZkpVqODUoIZ8",
        "outputId": "c61bbf33-32e1-4634-ee2f-c8b7670f2642"
      },
      "execution_count": 95,
      "outputs": [
        {
          "output_type": "stream",
          "name": "stdout",
          "text": [
            " Nota no válida (6.0) en usuario 2. Ingrese una nota entre 0 y 5: 5\n",
            " Nota no válida (5.1) en usuario 6. Ingrese una nota entre 0 y 5: 4\n",
            " Nota no válida (-1) en usuario 8. Ingrese una nota entre 0 y 5: 3\n",
            " Nota no válida (5.5) en usuario 12. Ingrese una nota entre 0 y 5: 4\n",
            " Todas las notas han sido corregidas.\n",
            "[3, 2.7, 5.0, 4.8, 1.2, 3, 4.0, 4.9, 3.0, 3.3, 2.2, 4.5, 4.0]\n"
          ]
        }
      ]
    },
    {
      "cell_type": "code",
      "source": [
        "notas = [3, 2.7, 6.0, 4.8, 1.2, 3, 5.1, 4.9, -1, 3.3, 2.2, 4.5, 5.5]\n",
        "\n",
        "\n",
        "for i in range(len(notas)):\n",
        "    while notas[i] < 1 or notas[i] > 5:\n",
        "        nueva = float(input(f\"Nota no válida ({notas[i]}) en usuario {i}. Ingrese una nota entre 1 y 5: \"))\n",
        "        notas[i] = nueva\n",
        "\n",
        "print(notas)"
      ],
      "metadata": {
        "colab": {
          "base_uri": "https://localhost:8080/"
        },
        "id": "gFbolLEsrNss",
        "outputId": "e5e5e13a-02a7-4a87-dc2a-5e327d8b144d"
      },
      "execution_count": 97,
      "outputs": [
        {
          "output_type": "stream",
          "name": "stdout",
          "text": [
            "⚠️ Nota no válida (6.0) en usuario 2. Ingrese una nota entre 0 y 5: 5\n",
            "⚠️ Nota no válida (5.1) en usuario 6. Ingrese una nota entre 0 y 5: 4\n",
            "⚠️ Nota no válida (-1) en usuario 8. Ingrese una nota entre 0 y 5: 4\n",
            "⚠️ Nota no válida (5.5) en usuario 12. Ingrese una nota entre 0 y 5: 5\n",
            "[3, 2.7, 5.0, 4.8, 1.2, 3, 4.0, 4.9, 4.0, 3.3, 2.2, 4.5, 5.0]\n"
          ]
        }
      ]
    },
    {
      "cell_type": "markdown",
      "source": [],
      "metadata": {
        "id": "WO38EODerW5e"
      }
    },
    {
      "cell_type": "code",
      "source": [],
      "metadata": {
        "id": "V-hDNncEro5X"
      },
      "execution_count": null,
      "outputs": []
    }
  ]
}